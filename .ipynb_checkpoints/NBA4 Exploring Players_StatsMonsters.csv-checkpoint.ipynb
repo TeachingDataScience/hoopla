{
 "cells": [
  {
   "cell_type": "markdown",
   "metadata": {
    "_datascience": {}
   },
   "source": [
    "# Table of Contents\n"
   ]
  },
  {
   "cell_type": "markdown",
   "metadata": {
    "_datascience": {}
   },
   "source": [
    "# Libraries"
   ]
  },
  {
   "cell_type": "code",
   "execution_count": 26,
   "metadata": {
    "_datascience": {},
    "collapsed": true
   },
   "outputs": [],
   "source": [
    "import pandas as pd\n",
    "import numpy as np\n",
    "import json\n",
    "import random\n",
    "import cPickle as pickle\n",
    "\n",
    "import json\n",
    "import requests\n",
    "import pandas as pd\n",
    "\n",
    "from hoopla import hoopla as hp"
   ]
  },
  {
   "cell_type": "markdown",
   "metadata": {
    "_datascience": {}
   },
   "source": [
    "# Capture Player Dataframe"
   ]
  },
  {
   "cell_type": "markdown",
   "metadata": {
    "_datascience": {}
   },
   "source": [
    "## Notes\n",
    "\n",
    "Goal is finding special skills (if any) of team players.\n",
    "\n",
    "If nothing found, can limit it to conference, and then division.\n",
    "\n",
    "\n",
    "**Vary the PtMeasureType**\n",
    "\n",
    "* PtMeasureType: \"SpeedDistance\"\n",
    "\n",
    "\n",
    "\n",
    "\n",
    "\n",
    "\n",
    "\n",
    "Player Tracking: Web Page Example:\n",
    "* speed\n",
    "* 2014-2015\n",
    "\n",
    "http://stats.nba.com/tracking/#!/player/speed/?sort=DIST_MILES&dir=1&PerMode=Totals&Season=2014-15&SeasonType=Regular%20Season\n",
    "\n",
    "Request url:\n",
    "http://stats.nba.com/stats/leaguedashptstats?College=&Conference=&Country=&DateFrom=&DateTo=&Division=&DraftPick=&DraftYear=&GameScope=&Height=&LastNGames=0&LeagueID=00&Location=&Month=0&OpponentTeamID=0&Outcome=&PORound=0&PerMode=Totals&PlayerExperience=&PlayerOrTeam=Player&PlayerPosition=&PtMeasureType=SpeedDistance&Season=2014-15&SeasonSegment=&SeasonType=Regular+Season&StarterBench=&TeamID=0&VsConference=&VsDivision=&Weight=\n",
    "\n",
    "\n",
    "*Headers*\n",
    "0: \"PLAYER_ID\"\n",
    "1: \"PLAYER_NAME\"\n",
    "2: \"TEAM_ID\"\n",
    "3: \"TEAM_ABBREVIATION\"\n",
    "4: \"GP\"\n",
    "5: \"W\"\n",
    "6: \"L\"\n",
    "7: \"MIN\"\n",
    "8: \"DIST_FEET\"\n",
    "9: \"DIST_MILES\"\n",
    "10: \"DIST_MILES_OFF\"\n",
    "11: \"DIST_MILES_DEF\"\n",
    "12: \"AVG_SPEED\"\n",
    "13: \"AVG_SPEED_OFF\"\n",
    "14: \"AVG_SPEED_DEF\"\n",
    "\n",
    "\n",
    "**Parameters** \n",
    "\n",
    "College: null\n",
    "Conference: null\n",
    "Country: null\n",
    "DateFrom: null\n",
    "DateTo: null\n",
    "Division: null\n",
    "DraftPick: null\n",
    "DraftYear: null\n",
    "GameScope: null\n",
    "Height: null\n",
    "LastNGames: 0\n",
    "LeagueID: \"00\"\n",
    "Location: null\n",
    "Month: 0\n",
    "OpponentTeamID: 0\n",
    "Outcome: null\n",
    "PORound: 0\n",
    "PerMode: \"Totals\"\n",
    "PlayerExperience: null\n",
    "PlayerOrTeam: \"Player\"\n",
    "PlayerPosition: null\n",
    "PtMeasureType: \"SpeedDistance\"\n",
    "Season: \"2014-15\"\n",
    "SeasonSegment: null\n",
    "SeasonType: \"Regular Season\"\n",
    "StarterBench: null\n",
    "TeamID: 0\n",
    "VsConference: null\n",
    "VsDivision: null\n",
    "Weight: null\n",
    " \n",
    " \n",
    "Reference: [hp basketball](http://nyloncalculus.com/2015/10/26/nylon-calculus-101-creating-sportvu-game-logs-in-python/)"
   ]
  },
  {
   "cell_type": "code",
   "execution_count": 6,
   "metadata": {
    "_datascience": {},
    "collapsed": true
   },
   "outputs": [],
   "source": [
    "player_tracking_base_url = \"http://stats.nba.com/stats/leaguedashptstats?\""
   ]
  },
  {
   "cell_type": "code",
   "execution_count": 74,
   "metadata": {
    "_datascience": {},
    "collapsed": false
   },
   "outputs": [],
   "source": [
    "player_tracking_parameters = {\n",
    "                                \"DateFrom\": \"\",\n",
    "                                \"DateTo\": \"\",\n",
    "                                \"LastNGames\": 0,\n",
    "                                \"LeagueID\": \"00\",\n",
    "                                \"Month\": 0,\n",
    "                                \"OpponentTeamID\": 0,\n",
    "                                \"PORound\": 0,\n",
    "                                \"PerMode\": \"Totals\",\n",
    "                                \"PlayerOrTeam\": \"Player\", # use Team for team stats\n",
    "                                \"PtMeasureType\": \"SpeedDistance\", # change this for different player tracking stat\n",
    "                                \"Season\": \"2014-15\",\n",
    "                                \"SeasonType\": \"Regular Season\", # use Playoffs for playoff stats\n",
    "                                \"TeamID\": 0,\n",
    "                                \"Outcome\": \"\",\n",
    "                                \"Location\": \"\",\n",
    "                                \"SeasonSegment\": \"\",\n",
    "                                \"VsConference\": \"\",\n",
    "                                \"VsDivision\": \"\",\n",
    "                                \"GameScope\": \"\",\n",
    "                                \"PlayerExperience\": \"\",\n",
    "                                \"PlayerPosition\": \"\",\n",
    "                                \"StarterBench\": \"\"\n",
    "}"
   ]
  },
  {
   "cell_type": "code",
   "execution_count": 75,
   "metadata": {
    "_datascience": {},
    "collapsed": false
   },
   "outputs": [],
   "source": [
    "player_tracking_parameters.update({\"PtMeasureType\":\"YOYO\"})"
   ]
  },
  {
   "cell_type": "markdown",
   "metadata": {
    "_datascience": {}
   },
   "source": [
    "## Grab and Save Data for Each PtMeasure Type"
   ]
  },
  {
   "cell_type": "code",
   "execution_count": 68,
   "metadata": {
    "_datascience": {},
    "collapsed": false
   },
   "outputs": [
    {
     "data": {
      "text/plain": [
       "list"
      ]
     },
     "execution_count": 68,
     "metadata": {},
     "output_type": "execute_result"
    }
   ],
   "source": [
    "#hp.PtMeasureTypes"
   ]
  },
  {
   "cell_type": "code",
   "execution_count": 132,
   "metadata": {
    "_datascience": {},
    "collapsed": false
   },
   "outputs": [],
   "source": [
    "# Create dictionary of all frames by Type\n",
    "tracking_dict = {}\n",
    "\n",
    "for TYPE in hp.PtMeasureTypes:\n",
    "    player_tracking_parameters.update({\"PtMeasureType\":TYPE})\n",
    "    player_tracking_data = get_data_from_url(player_tracking_base_url, player_tracking_parameters, 0)\n",
    "    df_tracking=pd.DataFrame(player_tracking_data)\n",
    "    df_tracking.set_index(\"PLAYER_ID\",inplace=True)\n",
    "    tracking_dict[TYPE]=df_tracking\n",
    "    "
   ]
  },
  {
   "cell_type": "code",
   "execution_count": 133,
   "metadata": {
    "_datascience": {},
    "collapsed": false
   },
   "outputs": [],
   "source": [
    "# Save dict to pickle\n",
    "pickle.dump(tracking_dict, open( \"player_tracking_data_dict_2014_v2.p\", \"wb\" ) )"
   ]
  },
  {
   "cell_type": "markdown",
   "metadata": {
    "_datascience": {}
   },
   "source": [
    "# Load File"
   ]
  },
  {
   "cell_type": "code",
   "execution_count": 296,
   "metadata": {
    "_datascience": {},
    "collapsed": false
   },
   "outputs": [],
   "source": [
    "tracking_dict = pickle.load(open(\"player_tracking_data_dict_2014_v2.p\",\"rb\"))"
   ]
  },
  {
   "cell_type": "markdown",
   "metadata": {
    "_datascience": {}
   },
   "source": [
    "\n",
    "# Finding Players and Data"
   ]
  },
  {
   "cell_type": "code",
   "execution_count": 289,
   "metadata": {
    "_datascience": {},
    "collapsed": false
   },
   "outputs": [
    {
     "name": "stdout",
     "output_type": "stream",
     "text": [
      "***STATS MONSTERS***\n",
      "          variable     score           player\n",
      "1                W  2.506501  Harrison Barnes\n",
      "0   DIST_MILES_OFF  1.945903    Stephen Curry\n",
      "10       DIST_FEET  1.930141    Stephen Curry\n",
      "4       DIST_MILES  1.929918    Stephen Curry\n",
      "6   DIST_MILES_DEF  1.904801    Stephen Curry\n",
      "           variable     score         player\n",
      "0  CATCH_SHOOT_FG3M  3.892474  Klay Thompson\n",
      "3   CATCH_SHOOT_PTS  3.799536  Klay Thompson\n",
      "1   CATCH_SHOOT_FGM  3.543135  Klay Thompson\n",
      "4   CATCH_SHOOT_FGA  3.168333  Klay Thompson\n",
      "6  CATCH_SHOOT_FG3A  3.155649  Klay Thompson\n",
      "      variable     score           player\n",
      "3          STL  3.738658    Stephen Curry\n",
      "8          BLK  2.822683     Andrew Bogut\n",
      "9         DREB  2.698533   Draymond Green\n",
      "1            W  2.506501  Harrison Barnes\n",
      "6  DEF_RIM_FGA  2.052074     Andrew Bogut\n",
      "        variable     score           player\n",
      "18  DRIVE_PF_PCT  3.096821     Festus Ezeli\n",
      "9      DRIVE_FGM  2.693257    Stephen Curry\n",
      "1      DRIVE_PTS  2.539135    Stephen Curry\n",
      "16             W  2.506501  Harrison Barnes\n",
      "7      DRIVE_FGA  2.233434    Stephen Curry\n",
      "           variable     score         player\n",
      "14    SECONDARY_AST  4.097870  Stephen Curry\n",
      "12          AST_ADJ  4.075439  Stephen Curry\n",
      "1               AST  4.056522  Stephen Curry\n",
      "13  AST_PTS_CREATED  4.047955  Stephen Curry\n",
      "11    POTENTIAL_AST  3.610341  Stephen Curry\n",
      "            variable     score         player\n",
      "12            POINTS  3.328815  Stephen Curry\n",
      "3   FRONT_CT_TOUCHES  3.017017  Stephen Curry\n",
      "2      PTS_PER_TOUCH  2.774247  Klay Thompson\n",
      "1            TOUCHES  2.660359  Stephen Curry\n",
      "0       TIME_OF_POSS  2.657239  Stephen Curry\n",
      "           variable     score             player\n",
      "16      PULL_UP_PTS  5.120707      Stephen Curry\n",
      "4   CATCH_SHOOT_PTS  3.799536      Klay Thompson\n",
      "12           POINTS  3.328815      Stephen Curry\n",
      "9   ELBOW_TOUCH_PTS  2.637043  Marreese Speights\n",
      "6         DRIVE_PTS  2.539135      Stephen Curry\n",
      "             variable     score           player\n",
      "22       DREB_CONTEST  3.709838   Draymond Green\n",
      "24               DREB  2.698533   Draymond Green\n",
      "1   DREB_CHANCE_DEFER  2.572090  Harrison Barnes\n",
      "15       DREB_CHANCES  2.543005   Draymond Green\n",
      "23                  W  2.506501  Harrison Barnes\n",
      "           variable     score             player\n",
      "16      PULL_UP_PTS  5.120707      Stephen Curry\n",
      "4   CATCH_SHOOT_PTS  3.799536      Klay Thompson\n",
      "12           POINTS  3.328815      Stephen Curry\n",
      "9   ELBOW_TOUCH_PTS  2.637043  Marreese Speights\n",
      "6         DRIVE_PTS  2.539135      Stephen Curry\n",
      "               variable     score             player\n",
      "11  ELBOW_TOUCH_TOV_PCT  3.202298      Ognjen Kuzmic\n",
      "10      ELBOW_TOUCH_FGA  3.099826  Marreese Speights\n",
      "13      ELBOW_TOUCH_FGM  2.773736  Marreese Speights\n",
      "15              TOUCHES  2.660359      Stephen Curry\n",
      "9       ELBOW_TOUCH_PTS  2.637043  Marreese Speights\n",
      "                variable     score                player\n",
      "6   POST_TOUCH_FOULS_PCT  3.067861  James Michael McAdoo\n",
      "10               TOUCHES  2.660359         Stephen Curry\n",
      "0                      W  2.506501       Harrison Barnes\n",
      "9         POST_TOUCH_AST  2.498107        Draymond Green\n",
      "22    POST_TOUCH_PTS_PCT  2.164264  James Michael McAdoo\n",
      "           variable     score             player\n",
      "14          TOUCHES  2.660359      Stephen Curry\n",
      "10                W  2.506501    Harrison Barnes\n",
      "18  PAINT_TOUCH_AST  1.937874      Stephen Curry\n",
      "2   PAINT_TOUCH_FTM  1.926182  Marreese Speights\n",
      "6   PAINT_TOUCH_FGM  1.887171       Andrew Bogut\n"
     ]
    }
   ],
   "source": [
    "top_by_type = {}\n",
    "team = \"GSW\"\n",
    "\n",
    "for TYPE in hp.PtMeasureTypes:\n",
    "    oneframe = tracking_dict[TYPE]\n",
    "\n",
    "\n",
    "    # First normalize entire frame\n",
    "\n",
    "    # Use only numerical keys\n",
    "    g = oneframe.columns.to_series().groupby(oneframe.dtypes).groups\n",
    "    numberkeys = g[g.keys()[1]] + g[g.keys()[1]]\n",
    "\n",
    "    # Convert int to float\n",
    "    oneframe[g[g.keys()[1]]] = oneframe[g[g.keys()[1]]].astype(float)\n",
    "    \n",
    "    # Reduce dupes\n",
    "    \n",
    "    numberkeys = list(set(numberkeys))\n",
    "    \n",
    "    # Get normalized\n",
    "    oneframe_norm = hp.make_zscore_frame(oneframe[numberkeys])\n",
    "\n",
    "    # Grab numerical columns\n",
    "    num_cols = oneframe_norm.columns\n",
    "\n",
    "    # Add Player Name and Team Name back\n",
    "    oneframe_norm['PLAYER_NAME'] = oneframe['PLAYER_NAME']\n",
    "    oneframe_norm['TEAM_ABBREVIATION'] = oneframe['TEAM_ABBREVIATION']\n",
    "\n",
    "\n",
    "    # Grab Team Frame\n",
    "    teamframe = oneframe_norm[oneframe_norm['TEAM_ABBREVIATION'] == team]\n",
    "    teamframe = teamframe.T.drop_duplicates().T\n",
    "    # Grab Max for each col\n",
    "    #for var in num_cols:\n",
    "\n",
    "\n",
    "\n",
    "    # example with single variable \n",
    "    toplist = []\n",
    "    for col in num_cols:\n",
    "        varname = col\n",
    "        #print varname + \":\"\n",
    "        score = teamframe[teamframe[varname] == teamframe[varname].max()][varname].values[0]\n",
    "        #print \"\\n\"\n",
    "        #print \"Player Name:\"\n",
    "        name = teamframe[teamframe[varname] == teamframe[varname].max()].PLAYER_NAME.values[0]\n",
    "        #print \"\\n\"\n",
    "        toplist.append([varname,score,name])\n",
    "    toplist = pd.DataFrame(toplist,columns=['variable','score','player'])\n",
    "    top_by_type[TYPE] = toplist\n",
    " \n",
    "print \"***STATS MONSTERS***\"\n",
    "for TYPE in hp.PtMeasureTypes:\n",
    "    toptypeframe = top_by_type[TYPE].sort('score',ascending=False)\n",
    "    print toptypeframe[:5]"
   ]
  },
  {
   "cell_type": "markdown",
   "metadata": {
    "_datascience": {},
    "collapsed": true
   },
   "source": [
    "# Histogram"
   ]
  },
  {
   "cell_type": "markdown",
   "metadata": {
    "_datascience": {}
   },
   "source": [
    "**DeAndre Jordan and Contested Offensive rebounds**\n",
    "\n",
    "DeAndre Jordan's Offensive Rebounding score is **6 standard deviations** above the mean!\n",
    "\n",
    "Let's take a look at where he falls on the histogram of the league.\n"
   ]
  },
  {
   "cell_type": "markdown",
   "metadata": {
    "_datascience": {
     "keep": true,
     "summary": true
    }
   },
   "source": [
    "#  Stats Monsters\n",
    "\n",
    "The \"Stats Monsters\" algorithm searches rosters for players with superlative statistics on scores of variables including both end results as well as *execution* of plays.  Using Stats Monsters, we can look at granular details like pull-up jumpers, touches in the paint, player speed and more."
   ]
  },
  {
   "cell_type": "markdown",
   "metadata": {
    "_datascience": {
     "keep": true
    }
   },
   "source": [
    "## Stats Monsters - Los Angeles Clippers\n",
    "\n",
    "Players on the Clippers with exceptional play type statistics vs. the rest of the league\n"
   ]
  },
  {
   "cell_type": "code",
   "execution_count": 378,
   "metadata": {
    "_datascience": {
     "keep": true
    },
    "collapsed": false
   },
   "outputs": [
    {
     "data": {
      "image/png": "[encoded data removed]",
      "text/plain": [
       "<matplotlib.figure.Figure at 0x7fa4827e0950>"
      ]
     },
     "metadata": {},
     "output_type": "display_data"
    }
   ],
   "source": [
    "graph_player_monster_stat(\"DeAndre Jordan\",\"Rebounding\",\"OREB_CONTEST\",tracking_dict)"
   ]
  },
  {
   "cell_type": "code",
   "execution_count": 377,
   "metadata": {
    "_datascience": {
     "keep": true,
     "summary": true
    },
    "collapsed": false
   },
   "outputs": [
    {
     "data": {
      "image/png": "[encoded data removed]",
      "text/plain": [
       "<matplotlib.figure.Figure at 0x7fa4812c9fd0>"
      ]
     },
     "metadata": {},
     "output_type": "display_data"
    }
   ],
   "source": [
    "graph_player_monster_stat(\"Chris Paul\",\"PullUpShot\",\"PULL_UP_PTS\",tracking_dict)"
   ]
  },
  {
   "cell_type": "code",
   "execution_count": 376,
   "metadata": {
    "_datascience": {
     "keep": true
    },
    "collapsed": false
   },
   "outputs": [
    {
     "data": {
      "image/png": "[encoded data removed]",
      "text/plain": [
       "<matplotlib.figure.Figure at 0x7fa4809e9b10>"
      ]
     },
     "metadata": {},
     "output_type": "display_data"
    }
   ],
   "source": [
    "graph_player_monster_stat(\"JJ Redick\",\"CatchShoot\",\"CATCH_SHOOT_PTS\",tracking_dict)"
   ]
  },
  {
   "cell_type": "code",
   "execution_count": 375,
   "metadata": {
    "_datascience": {
     "keep": true
    },
    "collapsed": false
   },
   "outputs": [
    {
     "data": {
      "image/png": "[encoded data removed]",
      "text/plain": [
       "<matplotlib.figure.Figure at 0x7fa480caac10>"
      ]
     },
     "metadata": {},
     "output_type": "display_data"
    }
   ],
   "source": [
    "graph_player_monster_stat(\"DeAndre Jordan\",\"Defense\",\"BLK\",tracking_dict)"
   ]
  },
  {
   "cell_type": "code",
   "execution_count": 374,
   "metadata": {
    "_datascience": {
     "keep": true
    },
    "collapsed": false
   },
   "outputs": [
    {
     "data": {
      "image/png": "[encoded data removed]",
      "text/plain": [
       "<matplotlib.figure.Figure at 0x7fa480f56f10>"
      ]
     },
     "metadata": {},
     "output_type": "display_data"
    }
   ],
   "source": [
    "graph_player_monster_stat(\"Blake Griffin\",\"PaintTouch\",\"PAINT_TOUCH_PASSES\",tracking_dict)"
   ]
  },
  {
   "cell_type": "markdown",
   "metadata": {
    "_datascience": {
     "keep": true
    }
   },
   "source": [
    "## Stats Monsters - Golden State Warriors\n",
    "\n",
    "Players on the Warriors with exceptional play type statistics vs. the rest of the league\n"
   ]
  },
  {
   "cell_type": "code",
   "execution_count": 436,
   "metadata": {
    "_datascience": {
     "keep": true
    },
    "collapsed": false
   },
   "outputs": [
    {
     "data": {
      "image/png": "[encoded data removed]",
      "text/plain": [
       "<matplotlib.figure.Figure at 0x7fa481084a90>"
      ]
     },
     "metadata": {},
     "output_type": "display_data"
    },
    {
     "data": {
      "image/png": "[encoded data removed]",
      "text/plain": [
       "<matplotlib.figure.Figure at 0x7fa481084290>"
      ]
     },
     "metadata": {},
     "output_type": "display_data"
    },
    {
     "data": {
      "image/png": "[encoded data removed]",
      "text/plain": [
       "<matplotlib.figure.Figure at 0x7fa48285b290>"
      ]
     },
     "metadata": {},
     "output_type": "display_data"
    }
   ],
   "source": [
    "graph_player_monster_stat(\"Klay Thompson\",\"CatchShoot\",\"CATCH_SHOOT_FG3M\",tracking_dict)\n",
    "graph_player_monster_stat(\"Stephen Curry\",\"Defense\",\"STL\",tracking_dict)\n",
    "graph_player_monster_stat(\"Stephen Curry\",\"PullUpShot\",\"PULL_UP_PTS\",tracking_dict)\n"
   ]
  },
  {
   "cell_type": "markdown",
   "metadata": {
    "_datascience": {
     "keep": true
    }
   },
   "source": [
    "## Stats Monsters - Background\n",
    "\n",
    "After normalizing the data for every single player across every game played (since the 2014-2015 season), Stats Monsters looks, literally, for statistical anomolies.  Players who outscore the average player by an outrageously large amount -- in statspeak, generally over 4 standard deviations from the mean.\n",
    "\n",
    "\n",
    "For example: The average player made 80 pull up jumpers in the 2014 season.  Chris Paul made **849** pull up jumpers.  Paul is six standard deviations from the mean.  Odds of a random player scoring 849 pull up jumpers? About 4 in a million.  Chris Paul is a Stats Monster.\n",
    " \n",
    "\n",
    "### Histograms\n",
    "\n",
    "Stats Monsters uses the data visualization technique called \"histogramming\" to produce visually compelling illustrations of a players exceptional exceptionalism in a particular area.  The histogram shows the frequency of players who perform at each category of a particular variable.  The rarity of a Stats Monster can be shown both on their distance from the pack, as well as by the 'loneliness', or lack of frequency, of their data point, compared with the rest of the field\n",
    "\n",
    "### Areas Evaluted\n",
    "\n",
    "Stats Monsters looks for statistical anomalies in the following 12 categories:\n",
    "\n",
    "\n",
    "* Speed and Distance\n",
    "* Catch and Shoot\n",
    "* Defense\n",
    "* Drives\n",
    "* Passing\n",
    "* Possessions\n",
    "* Pull Up Shots\n",
    "* Rebounding\n",
    "* Efficiency\n",
    "* \"Elbow\" Touches (by the free throw line and the key)\n",
    "* Post Touches\n",
    "* Paint Touches\n",
    "\n",
    "### Project Features\n",
    "\n",
    "* Analyze statistical outlier \"Stats Monsters\" on any particular team\n",
    "* Draw diagrams of \"Monster\" performance vs. the average"
   ]
  },
  {
   "cell_type": "markdown",
   "metadata": {
    "_datascience": {}
   },
   "source": [
    "# References"
   ]
  },
  {
   "cell_type": "code",
   "execution_count": 379,
   "metadata": {
    "_datascience": {},
    "collapsed": false
   },
   "outputs": [
    {
     "data": {
      "text/plain": [
       "['SpeedDistance',\n",
       " 'CatchShoot',\n",
       " 'Defense',\n",
       " 'Drives',\n",
       " 'Passing',\n",
       " 'Possessions',\n",
       " 'PullUpShot',\n",
       " 'Rebounding',\n",
       " 'Efficiency',\n",
       " 'ElbowTouch',\n",
       " 'PostTouch',\n",
       " 'PaintTouch']"
      ]
     },
     "execution_count": 379,
     "metadata": {},
     "output_type": "execute_result"
    }
   ],
   "source": [
    "hp.PtMeasureTypes"
   ]
  },
  {
   "cell_type": "markdown",
   "metadata": {
    "_datascience": {}
   },
   "source": [
    "# Functions"
   ]
  },
  {
   "cell_type": "code",
   "execution_count": null,
   "metadata": {
    "_datascience": {},
    "collapsed": true
   },
   "outputs": [],
   "source": []
  },
  {
   "cell_type": "code",
   "execution_count": 9,
   "metadata": {
    "_datascience": {},
    "collapsed": true
   },
   "outputs": [],
   "source": [
    "def get_data_from_url(base_url, parameters, index):\n",
    "    response = requests.get(base_url, params=parameters)\n",
    "    data = response.json()\n",
    "    headers = data['resultSets'][index]['headers']\n",
    "    rows = data['resultSets'][index]['rowSet']\n",
    "    return [dict(zip(headers, row)) for row in rows]"
   ]
  },
  {
   "cell_type": "code",
   "execution_count": 432,
   "metadata": {
    "_datascience": {},
    "collapsed": false
   },
   "outputs": [],
   "source": [
    "def graph_player_monster_stat(player,TYPE,var_name,tracking_dict,bins=100,show_leader=False):\n",
    "    \"\"\"Draw histogram of player's stat compared to overall\n",
    "    \n",
    "    >>> graph_player_monster_stat(\"DeAndre Jordan\",\"Rebounding\",\"OREB_CONTEST\",tracking_dict)\n",
    "    \"\"\"\n",
    "    #     player = \"DeAndre Jordan\"\n",
    "    #     TYPE = \"Rebounding\"\n",
    "    #     var_name = \"OREB_CONTEST\"\n",
    "\n",
    "\n",
    "    df = tracking_dict[TYPE]\n",
    "    var_playervalue = df[df['PLAYER_NAME'] == player][var_name].values[0]\n",
    "\n",
    "    plt.figure()\n",
    "    ax = df[var_name].hist(bins = bins)\n",
    "    ax.axvline(var_playervalue,color='k',linestyle='--')\n",
    "    plt.title(player + \": \" + str(var_playervalue) + \" \" + var_name)\n",
    "    plt.ylabel(\"Number of Players\")\n",
    "    plt.xlabel(var_name)\n",
    "    plt.ylim(0,50)\n",
    "    if show_leader == True:\n",
    "        leader_name = df[df[var_name] == df[var_name].max()]['PLAYER_NAME'].values[0]\n",
    "        leader_var = df[df[\"PLAYER_NAME\"] == leader_name][var_name].values[0]\n",
    "        leadertext = \"Leader: %s with %s\" % (leader_name,leader_var)\n",
    "        plt.text(0,-15,leadertext)\n",
    "    "
   ]
  },
  {
   "cell_type": "markdown",
   "metadata": {
    "_datascience": {}
   },
   "source": [
    "# Scratch"
   ]
  }
 ],
 "metadata": {
  "_datascience": {},
  "celltoolbar": "DS Post",
  "kernelspec": {
   "display_name": "Python 2",
   "language": "python",
   "name": "python2"
  },
  "language_info": {
   "codemirror_mode": {
    "name": "ipython",
    "version": 2
   },
   "file_extension": ".py",
   "mimetype": "text/x-python",
   "name": "python",
   "nbconvert_exporter": "python",
   "pygments_lexer": "ipython2",
   "version": "2.7.6"
  }
 },
 "nbformat": 4,
 "nbformat_minor": 0
}
