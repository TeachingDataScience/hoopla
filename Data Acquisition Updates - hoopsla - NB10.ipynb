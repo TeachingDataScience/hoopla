{
 "cells": [
  {
   "cell_type": "markdown",
   "metadata": {
    "_datascience": {}
   },
   "source": [
    "# Table of Contents\n"
   ]
  },
  {
   "cell_type": "markdown",
   "metadata": {
    "_datascience": {}
   },
   "source": [
    "# Libraries"
   ]
  },
  {
   "cell_type": "code",
   "execution_count": 2,
   "metadata": {
    "_datascience": {},
    "collapsed": false
   },
   "outputs": [
    {
     "name": "stdout",
     "output_type": "stream",
     "text": [
      "Populating the interactive namespace from numpy and matplotlib\n"
     ]
    }
   ],
   "source": [
    "import pandas as pd\n",
    "import cPickle as pickle\n",
    "%pylab inline\n",
    "import seaborn as sns\n",
    "\n",
    "import sys\n",
    "sys.path.append('./hoopla')\n",
    "\n",
    "from hoopla import hoopla as hp"
   ]
  },
  {
   "cell_type": "code",
   "execution_count": 172,
   "metadata": {
    "_datascience": {},
    "collapsed": false
   },
   "outputs": [
    {
     "name": "stdout",
     "output_type": "stream",
     "text": [
      "Temporary Behavior\n",
      "Past games to analyze: 8\n",
      "Future games this season: 4\n"
     ]
    }
   ],
   "source": [
    "reload(hp) # As needed\n",
    "\n",
    "teamname = \"Clippers\" # capitalize\n",
    "opponentname = \"Warriors\" # \n",
    "\n",
    "# Get gamedates\n",
    "dates =hp.get_reg_season_gamedates_2013_2014_2015(teamname,opponentname,today)\n",
    "\n",
    "keepdates = []\n",
    "for d in dates:\n",
    "    if d < today:\n",
    "        keepdates.append(d)\n",
    "print \"Past games to analyze: %s\" % len(keepdates)\n",
    "print \"Future games this season: %s\" % str(len(dates) - len(keepdates))\n",
    "        "
   ]
  },
  {
   "cell_type": "code",
   "execution_count": 169,
   "metadata": {
    "_datascience": {},
    "collapsed": false
   },
   "outputs": [
    {
     "data": {
      "text/plain": [
       "12"
      ]
     },
     "execution_count": 169,
     "metadata": {},
     "output_type": "execute_result"
    }
   ],
   "source": [
    "len(dates)"
   ]
  },
  {
   "cell_type": "code",
   "execution_count": 170,
   "metadata": {
    "_datascience": {},
    "collapsed": false
   },
   "outputs": [
    {
     "data": {
      "text/plain": [
       "8"
      ]
     },
     "execution_count": 170,
     "metadata": {},
     "output_type": "execute_result"
    }
   ],
   "source": [
    "len(keepdates)"
   ]
  },
  {
   "cell_type": "code",
   "execution_count": null,
   "metadata": {
    "_datascience": {},
    "collapsed": true
   },
   "outputs": [],
   "source": []
  },
  {
   "cell_type": "code",
   "execution_count": null,
   "metadata": {
    "_datascience": {},
    "collapsed": true
   },
   "outputs": [],
   "source": []
  },
  {
   "cell_type": "code",
   "execution_count": null,
   "metadata": {
    "_datascience": {},
    "collapsed": true
   },
   "outputs": [],
   "source": []
  },
  {
   "cell_type": "code",
   "execution_count": null,
   "metadata": {
    "_datascience": {},
    "collapsed": true
   },
   "outputs": [],
   "source": []
  },
  {
   "cell_type": "code",
   "execution_count": 154,
   "metadata": {
    "_datascience": {},
    "collapsed": true
   },
   "outputs": [],
   "source": [
    "df.to_pickle(\"data/schedule/reg_season_schedule_2013_2014_2015.p\")"
   ]
  },
  {
   "cell_type": "code",
   "execution_count": 153,
   "metadata": {
    "_datascience": {},
    "collapsed": true
   },
   "outputs": [],
   "source": [
    "df.sort_index(inplace=True)"
   ]
  },
  {
   "cell_type": "code",
   "execution_count": null,
   "metadata": {
    "_datascience": {},
    "collapsed": true
   },
   "outputs": [],
   "source": []
  },
  {
   "cell_type": "markdown",
   "metadata": {
    "_datascience": {}
   },
   "source": [
    "### Check Dataframe -- no 2015-2016??"
   ]
  },
  {
   "cell_type": "code",
   "execution_count": 65,
   "metadata": {
    "_datascience": {},
    "collapsed": true
   },
   "outputs": [],
   "source": [
    "df = pd.read_pickle(\"data/schedule/reg_season_schedule_2013_2014_2015.p\")"
   ]
  },
  {
   "cell_type": "code",
   "execution_count": null,
   "metadata": {
    "_datascience": {},
    "collapsed": true
   },
   "outputs": [],
   "source": [
    "df55 = pd.read_csv(\"data/schedule/schedu\")"
   ]
  },
  {
   "cell_type": "code",
   "execution_count": 67,
   "metadata": {
    "_datascience": {},
    "collapsed": false
   },
   "outputs": [],
   "source": [
    "df5.to_csv('data/schedule/schedule_20152016_regularseason_fixed.csv')"
   ]
  },
  {
   "cell_type": "code",
   "execution_count": 54,
   "metadata": {
    "_datascience": {},
    "collapsed": false
   },
   "outputs": [],
   "source": [
    "df5['Date'] = pd.DatetimeIndex(df5['Date'])"
   ]
  },
  {
   "cell_type": "code",
   "execution_count": 56,
   "metadata": {
    "_datascience": {},
    "collapsed": false
   },
   "outputs": [],
   "source": [
    "df5.set_index('Date',inplace=True)"
   ]
  },
  {
   "cell_type": "code",
   "execution_count": 66,
   "metadata": {
    "_datascience": {},
    "collapsed": false
   },
   "outputs": [],
   "source": [
    "df5.columns=[\"Home\",\"Visitor\"]"
   ]
  },
  {
   "cell_type": "code",
   "execution_count": 68,
   "metadata": {
    "_datascience": {},
    "collapsed": false
   },
   "outputs": [],
   "source": [
    "df = pd.concat([df,df5])"
   ]
  },
  {
   "cell_type": "code",
   "execution_count": 73,
   "metadata": {
    "_datascience": {},
    "collapsed": false
   },
   "outputs": [],
   "source": [
    "df55 = pd.read_csv(\"data/schedule/schedule_20152016_regularseason.csv\")"
   ]
  },
  {
   "cell_type": "code",
   "execution_count": 74,
   "metadata": {
    "_datascience": {},
    "collapsed": false
   },
   "outputs": [
    {
     "data": {
      "text/html": [
       "<div style=\"max-height:1000px;max-width:1500px;overflow:auto;\">\n",
       "<table border=\"1\" class=\"dataframe\">\n",
       "  <thead>\n",
       "    <tr style=\"text-align: right;\">\n",
       "      <th></th>\n",
       "      <th>Date</th>\n",
       "      <th>Visitor/Neutral</th>\n",
       "      <th>Home/Neutral</th>\n",
       "    </tr>\n",
       "  </thead>\n",
       "  <tbody>\n",
       "    <tr>\n",
       "      <th>0</th>\n",
       "      <td>Tue Oct 27 2015</td>\n",
       "      <td>Detroit Pistons</td>\n",
       "      <td>Atlanta Hawks</td>\n",
       "    </tr>\n",
       "    <tr>\n",
       "      <th>1</th>\n",
       "      <td>Tue Oct 27 2015</td>\n",
       "      <td>Cleveland Cavaliers</td>\n",
       "      <td>Chicago Bulls</td>\n",
       "    </tr>\n",
       "    <tr>\n",
       "      <th>2</th>\n",
       "      <td>Tue Oct 27 2015</td>\n",
       "      <td>New Orleans Pelicans</td>\n",
       "      <td>Golden State Warriors</td>\n",
       "    </tr>\n",
       "    <tr>\n",
       "      <th>3</th>\n",
       "      <td>Wed Oct 28 2015</td>\n",
       "      <td>Philadelphia 76ers</td>\n",
       "      <td>Boston Celtics</td>\n",
       "    </tr>\n",
       "    <tr>\n",
       "      <th>4</th>\n",
       "      <td>Wed Oct 28 2015</td>\n",
       "      <td>Chicago Bulls</td>\n",
       "      <td>Brooklyn Nets</td>\n",
       "    </tr>\n",
       "    <tr>\n",
       "      <th>5</th>\n",
       "      <td>Wed Oct 28 2015</td>\n",
       "      <td>Utah Jazz</td>\n",
       "      <td>Detroit Pistons</td>\n",
       "    </tr>\n",
       "    <tr>\n",
       "      <th>6</th>\n",
       "      <td>Wed Oct 28 2015</td>\n",
       "      <td>Denver Nuggets</td>\n",
       "      <td>Houston Rockets</td>\n",
       "    </tr>\n",
       "    <tr>\n",
       "      <th>7</th>\n",
       "      <td>Wed Oct 28 2015</td>\n",
       "      <td>Minnesota Timberwolves</td>\n",
       "      <td>Los Angeles Lakers</td>\n",
       "    </tr>\n",
       "    <tr>\n",
       "      <th>8</th>\n",
       "      <td>Wed Oct 28 2015</td>\n",
       "      <td>Cleveland Cavaliers</td>\n",
       "      <td>Memphis Grizzlies</td>\n",
       "    </tr>\n",
       "    <tr>\n",
       "      <th>9</th>\n",
       "      <td>Wed Oct 28 2015</td>\n",
       "      <td>Charlotte Hornets</td>\n",
       "      <td>Miami Heat</td>\n",
       "    </tr>\n",
       "    <tr>\n",
       "      <th>10</th>\n",
       "      <td>Wed Oct 28 2015</td>\n",
       "      <td>New York Knicks</td>\n",
       "      <td>Milwaukee Bucks</td>\n",
       "    </tr>\n",
       "    <tr>\n",
       "      <th>11</th>\n",
       "      <td>Wed Oct 28 2015</td>\n",
       "      <td>San Antonio Spurs</td>\n",
       "      <td>Oklahoma City Thunder</td>\n",
       "    </tr>\n",
       "    <tr>\n",
       "      <th>12</th>\n",
       "      <td>Wed Oct 28 2015</td>\n",
       "      <td>Washington Wizards</td>\n",
       "      <td>Orlando Magic</td>\n",
       "    </tr>\n",
       "    <tr>\n",
       "      <th>13</th>\n",
       "      <td>Wed Oct 28 2015</td>\n",
       "      <td>Dallas Mavericks</td>\n",
       "      <td>Phoenix Suns</td>\n",
       "    </tr>\n",
       "    <tr>\n",
       "      <th>14</th>\n",
       "      <td>Wed Oct 28 2015</td>\n",
       "      <td>New Orleans Pelicans</td>\n",
       "      <td>Portland Trail Blazers</td>\n",
       "    </tr>\n",
       "    <tr>\n",
       "      <th>15</th>\n",
       "      <td>Wed Oct 28 2015</td>\n",
       "      <td>Los Angeles Clippers</td>\n",
       "      <td>Sacramento Kings</td>\n",
       "    </tr>\n",
       "    <tr>\n",
       "      <th>16</th>\n",
       "      <td>Wed Oct 28 2015</td>\n",
       "      <td>Indiana Pacers</td>\n",
       "      <td>Toronto Raptors</td>\n",
       "    </tr>\n",
       "  </tbody>\n",
       "</table>\n",
       "</div>"
      ],
      "text/plain": [
       "               Date         Visitor/Neutral            Home/Neutral\n",
       "0   Tue Oct 27 2015         Detroit Pistons           Atlanta Hawks\n",
       "1   Tue Oct 27 2015     Cleveland Cavaliers           Chicago Bulls\n",
       "2   Tue Oct 27 2015    New Orleans Pelicans   Golden State Warriors\n",
       "3   Wed Oct 28 2015      Philadelphia 76ers          Boston Celtics\n",
       "4   Wed Oct 28 2015           Chicago Bulls           Brooklyn Nets\n",
       "5   Wed Oct 28 2015               Utah Jazz         Detroit Pistons\n",
       "6   Wed Oct 28 2015          Denver Nuggets         Houston Rockets\n",
       "7   Wed Oct 28 2015  Minnesota Timberwolves      Los Angeles Lakers\n",
       "8   Wed Oct 28 2015     Cleveland Cavaliers       Memphis Grizzlies\n",
       "9   Wed Oct 28 2015       Charlotte Hornets              Miami Heat\n",
       "10  Wed Oct 28 2015         New York Knicks         Milwaukee Bucks\n",
       "11  Wed Oct 28 2015       San Antonio Spurs   Oklahoma City Thunder\n",
       "12  Wed Oct 28 2015      Washington Wizards           Orlando Magic\n",
       "13  Wed Oct 28 2015        Dallas Mavericks            Phoenix Suns\n",
       "14  Wed Oct 28 2015    New Orleans Pelicans  Portland Trail Blazers\n",
       "15  Wed Oct 28 2015    Los Angeles Clippers        Sacramento Kings\n",
       "16  Wed Oct 28 2015          Indiana Pacers         Toronto Raptors"
      ]
     },
     "execution_count": 74,
     "metadata": {},
     "output_type": "execute_result"
    }
   ],
   "source": [
    "df55"
   ]
  },
  {
   "cell_type": "code",
   "execution_count": 70,
   "metadata": {
    "_datascience": {},
    "collapsed": false
   },
   "outputs": [
    {
     "data": {
      "text/plain": [
       "Timestamp('2015-10-28 00:00:00')"
      ]
     },
     "execution_count": 70,
     "metadata": {},
     "output_type": "execute_result"
    }
   ],
   "source": [
    "df.index.max()"
   ]
  },
  {
   "cell_type": "markdown",
   "metadata": {
    "_datascience": {}
   },
   "source": [
    "# Multi-year Schedule Acquisition"
   ]
  },
  {
   "cell_type": "code",
   "execution_count": 163,
   "metadata": {
    "_datascience": {},
    "collapsed": false
   },
   "outputs": [
    {
     "data": {
      "text/plain": [
       "<module 'hoopla.hoopla' from 'hoopla/hoopla.py'>"
      ]
     },
     "execution_count": 163,
     "metadata": {},
     "output_type": "execute_result"
    }
   ],
   "source": [
    "reload(hp)"
   ]
  },
  {
   "cell_type": "code",
   "execution_count": 165,
   "metadata": {
    "_datascience": {},
    "collapsed": false
   },
   "outputs": [
    {
     "data": {
      "text/plain": [
       "Timestamp('2015-11-02 00:00:00')"
      ]
     },
     "execution_count": 165,
     "metadata": {},
     "output_type": "execute_result"
    }
   ],
   "source": [
    "hp._today_"
   ]
  },
  {
   "cell_type": "code",
   "execution_count": 162,
   "metadata": {
    "_datascience": {},
    "collapsed": true
   },
   "outputs": [],
   "source": [
    "_today_ = pd.Timestamp(hp.datetime.date.today())\n"
   ]
  },
  {
   "cell_type": "code",
   "execution_count": 166,
   "metadata": {
    "_datascience": {},
    "collapsed": false
   },
   "outputs": [
    {
     "name": "stdout",
     "output_type": "stream",
     "text": [
      "2013-10-31 00:00:00 ??? 2015-11-02 00:00:00\n",
      "2013-12-25 00:00:00 ??? 2015-11-02 00:00:00\n",
      "2014-01-30 00:00:00 ??? 2015-11-02 00:00:00\n",
      "2014-03-12 00:00:00 ??? 2015-11-02 00:00:00\n",
      "2014-11-05 00:00:00 ??? 2015-11-02 00:00:00\n",
      "2014-12-25 00:00:00 ??? 2015-11-02 00:00:00\n",
      "2015-03-08 00:00:00 ??? 2015-11-02 00:00:00\n",
      "2015-03-31 00:00:00 ??? 2015-11-02 00:00:00\n",
      "2015-11-04 00:00:00 ??? 2015-11-02 00:00:00\n",
      "FUTURE GAME\n",
      "2015-11-19 00:00:00 ??? 2015-11-02 00:00:00\n",
      "FUTURE GAME\n",
      "2016-02-20 00:00:00 ??? 2015-11-02 00:00:00\n",
      "FUTURE GAME\n",
      "2016-03-23 00:00:00 ??? 2015-11-02 00:00:00\n",
      "FUTURE GAME\n"
     ]
    }
   ],
   "source": [
    "today = pd.Timestamp(hp.datetime.date.today())\n",
    "\n",
    "for d in dates:\n",
    "    print \"%s ??? %s\" % (d,today)\n",
    "    if d > today:\n",
    "        print \"FUTURE GAME\""
   ]
  },
  {
   "cell_type": "code",
   "execution_count": 24,
   "metadata": {
    "_datascience": {},
    "collapsed": false
   },
   "outputs": [],
   "source": []
  },
  {
   "cell_type": "code",
   "execution_count": 36,
   "metadata": {
    "_datascience": {},
    "collapsed": false
   },
   "outputs": [
    {
     "name": "stdout",
     "output_type": "stream",
     "text": [
      "Temporary Behavior\n"
     ]
    }
   ],
   "source": [
    "areload(hp) # As needed\n",
    "# Get gamedates\n",
    "dates =a hp.get_reg_season_gamedates_2013_2014_2015(teamname,opponentname,today)"
   ]
  },
  {
   "cell_type": "code",
   "execution_count": 4,
   "metadata": {
    "_datascience": {},
    "collapsed": true
   },
   "outputs": [],
   "source": [
    "# choose teams\n",
    "\n",
    "teamname = \"Clippers\" # capitalize\n",
    "opponentname = \"Mavericks\" # \n",
    "\n",
    "# Get Team IDs\n",
    "team_id = hp.get_team_id(teamname)\n",
    "opponent_id = hp.get_team_id(opponentname)"
   ]
  },
  {
   "cell_type": "code",
   "execution_count": 3,
   "metadata": {
    "_datascience": {},
    "collapsed": false
   },
   "outputs": [
    {
     "ename": "TypeError",
     "evalue": "get_reg_season_gamedates_2013_2014_2015() takes exactly 3 arguments (2 given)",
     "output_type": "error",
     "traceback": [
      "\u001b[1;31m---------------------------------------------------------------------------\u001b[0m",
      "\u001b[1;31mTypeError\u001b[0m                                 Traceback (most recent call last)",
      "\u001b[1;32m<ipython-input-3-36a87d86490a>\u001b[0m in \u001b[0;36m<module>\u001b[1;34m()\u001b[0m\n\u001b[0;32m      9\u001b[0m \u001b[1;33m\u001b[0m\u001b[0m\n\u001b[0;32m     10\u001b[0m \u001b[1;31m# Get gamedates\u001b[0m\u001b[1;33m\u001b[0m\u001b[1;33m\u001b[0m\u001b[0m\n\u001b[1;32m---> 11\u001b[1;33m \u001b[0mhp\u001b[0m\u001b[1;33m.\u001b[0m\u001b[0mget_reg_season_gamedates_2013_2014_2015\u001b[0m\u001b[1;33m(\u001b[0m\u001b[0mteamname\u001b[0m\u001b[1;33m,\u001b[0m\u001b[0mopponentname\u001b[0m\u001b[1;33m)\u001b[0m\u001b[1;33m\u001b[0m\u001b[0m\n\u001b[0m",
      "\u001b[1;31mTypeError\u001b[0m: get_reg_season_gamedates_2013_2014_2015() takes exactly 3 arguments (2 given)"
     ]
    }
   ],
   "source": [
    "# Get gamedates\n",
    "hp.get_reg_season_gamedates_2013_2014_2015(teamname,opponentname)"
   ]
  },
  {
   "cell_type": "markdown",
   "metadata": {
    "_datascience": {}
   },
   "source": [
    "## Write Schedule Function"
   ]
  },
  {
   "cell_type": "code",
   "execution_count": 119,
   "metadata": {
    "_datascience": {},
    "collapsed": false
   },
   "outputs": [
    {
     "name": "stdout",
     "output_type": "stream",
     "text": [
      "['10-31-2013', '12-25-2013', '1-30-2014', '3-12-2014', '11-5-2014', '11-5-2014', '12-25-2014', '12-25-2014', '3-8-2015', '3-8-2015', '3-31-2015', '3-31-2015']\n"
     ]
    }
   ],
   "source": [
    "def get_reg_season_gamedates_2013_2014_2015(teamname,opponentname):\n",
    "    \"\"\"Get gamedates in a list for two teams\n",
    "    \n",
    "    >>> gdates = get_reg_season_gamedates_2013_2014_2015(teamname,opponentname)\n",
    "    \n",
    "    \"\"\"\n",
    "    # Load df\n",
    "    df = pd.read_pickle(\"data/schedule/reg_season_schedule_2013_2014_2015.p\")\n",
    "\n",
    "\n",
    "    # Get all relevant teamname homegames\n",
    "    df = df[df['Visitor'].str.contains(teamname) | df['Home'].str.contains(teamname)]\n",
    "    \n",
    "    \n",
    "    # Get all relevant opponentname homegames\n",
    "    df = df[df['Visitor'].str.contains(opponentname) | df['Home'].str.contains(opponentname)]\n",
    "    \n",
    " \n",
    "    # Output List as Strings\n",
    "    gamedates = df.index.tolist()\n",
    "    \n",
    "    # Convert to API String format\n",
    "    new_gamedates = []\n",
    "    for d in gamedates:\n",
    "        new_date = str(d.month) + \"-\" + str(d.day) + \"-\" + str(d.year)\n",
    "        new_gamedates.append(new_date)\n",
    "\n",
    "    gamedates = new_gamedates\n",
    "    \n",
    "    return(new_gamedates)\n",
    "gdates = get_reg_season_gamedates_2013_2014_2015(teamname,opponentname)\n",
    "print gdates"
   ]
  },
  {
   "cell_type": "code",
   "execution_count": 4,
   "metadata": {
    "_datascience": {},
    "collapsed": false
   },
   "outputs": [
    {
     "data": {
      "text/plain": [
       "['11-5-2014', '12-25-2014', '3-8-2015', '3-31-2015']"
      ]
     },
     "execution_count": 4,
     "metadata": {},
     "output_type": "execute_result"
    }
   ],
   "source": [
    "# Get Dates\n",
    "gdates = hp.get2014gamedates(teamname,opponentname)\n",
    "gdates"
   ]
  },
  {
   "cell_type": "code",
   "execution_count": 133,
   "metadata": {
    "_datascience": {},
    "collapsed": false
   },
   "outputs": [],
   "source": [
    "d3 = pd.read_csv(\"data/schedule/schedule_20132014_regularseason_fixed.csv\")"
   ]
  },
  {
   "cell_type": "code",
   "execution_count": 134,
   "metadata": {
    "_datascience": {},
    "collapsed": false
   },
   "outputs": [],
   "source": [
    "d4 = pd.read_csv(\"data/schedule/schedule_20142015_regularseason_fixed.csv\")"
   ]
  },
  {
   "cell_type": "code",
   "execution_count": 135,
   "metadata": {
    "_datascience": {},
    "collapsed": true
   },
   "outputs": [],
   "source": [
    "d5 = df555"
   ]
  },
  {
   "cell_type": "markdown",
   "metadata": {
    "_datascience": {},
    "collapsed": true
   },
   "source": [
    "# Current Is HERE"
   ]
  },
  {
   "cell_type": "code",
   "execution_count": 143,
   "metadata": {
    "_datascience": {},
    "collapsed": false
   },
   "outputs": [],
   "source": [
    "d4['Date'] = pd.to_datetime(d4['Date'])\n",
    "d4.set_index('Date',inplace=True)"
   ]
  },
  {
   "cell_type": "code",
   "execution_count": 147,
   "metadata": {
    "_datascience": {},
    "collapsed": false
   },
   "outputs": [],
   "source": [
    "frames = [d3,d4,d5]"
   ]
  },
  {
   "cell_type": "code",
   "execution_count": 148,
   "metadata": {
    "_datascience": {},
    "collapsed": true
   },
   "outputs": [],
   "source": [
    "df = pd.concat(frames)"
   ]
  },
  {
   "cell_type": "code",
   "execution_count": 150,
   "metadata": {
    "_datascience": {},
    "collapsed": false
   },
   "outputs": [],
   "source": [
    "df.columns = [\"Visitor\",\"Home\"]"
   ]
  },
  {
   "cell_type": "code",
   "execution_count": 151,
   "metadata": {
    "_datascience": {},
    "collapsed": false
   },
   "outputs": [
    {
     "data": {
      "text/html": [
       "<div style=\"max-height:1000px;max-width:1500px;overflow:auto;\">\n",
       "<table border=\"1\" class=\"dataframe\">\n",
       "  <thead>\n",
       "    <tr style=\"text-align: right;\">\n",
       "      <th></th>\n",
       "      <th>Visitor</th>\n",
       "      <th>Home</th>\n",
       "    </tr>\n",
       "    <tr>\n",
       "      <th>Date</th>\n",
       "      <th></th>\n",
       "      <th></th>\n",
       "    </tr>\n",
       "  </thead>\n",
       "  <tbody>\n",
       "    <tr>\n",
       "      <th>2013-10-29</th>\n",
       "      <td>Orlando Magic</td>\n",
       "      <td>Indiana Pacers</td>\n",
       "    </tr>\n",
       "    <tr>\n",
       "      <th>2013-10-29</th>\n",
       "      <td>Los Angeles Clippers</td>\n",
       "      <td>Los Angeles Lakers</td>\n",
       "    </tr>\n",
       "    <tr>\n",
       "      <th>2013-10-29</th>\n",
       "      <td>Chicago Bulls</td>\n",
       "      <td>Miami Heat</td>\n",
       "    </tr>\n",
       "    <tr>\n",
       "      <th>2013-10-30</th>\n",
       "      <td>Brooklyn Nets</td>\n",
       "      <td>Cleveland Cavaliers</td>\n",
       "    </tr>\n",
       "    <tr>\n",
       "      <th>2013-10-30</th>\n",
       "      <td>Atlanta Hawks</td>\n",
       "      <td>Dallas Mavericks</td>\n",
       "    </tr>\n",
       "    <tr>\n",
       "      <th>2013-10-30</th>\n",
       "      <td>Washington Wizards</td>\n",
       "      <td>Detroit Pistons</td>\n",
       "    </tr>\n",
       "    <tr>\n",
       "      <th>2013-10-30</th>\n",
       "      <td>Los Angeles Lakers</td>\n",
       "      <td>Golden State Warriors</td>\n",
       "    </tr>\n",
       "    <tr>\n",
       "      <th>2013-10-30</th>\n",
       "      <td>Charlotte Bobcats</td>\n",
       "      <td>Houston Rockets</td>\n",
       "    </tr>\n",
       "    <tr>\n",
       "      <th>2013-10-30</th>\n",
       "      <td>Orlando Magic</td>\n",
       "      <td>Minnesota Timberwolves</td>\n",
       "    </tr>\n",
       "    <tr>\n",
       "      <th>2013-10-30</th>\n",
       "      <td>Indiana Pacers</td>\n",
       "      <td>New Orleans Pelicans</td>\n",
       "    </tr>\n",
       "    <tr>\n",
       "      <th>2013-10-30</th>\n",
       "      <td>Milwaukee Bucks</td>\n",
       "      <td>New York Knicks</td>\n",
       "    </tr>\n",
       "    <tr>\n",
       "      <th>2013-10-30</th>\n",
       "      <td>Miami Heat</td>\n",
       "      <td>Philadelphia 76ers</td>\n",
       "    </tr>\n",
       "    <tr>\n",
       "      <th>2013-10-30</th>\n",
       "      <td>Portland Trail Blazers</td>\n",
       "      <td>Phoenix Suns</td>\n",
       "    </tr>\n",
       "    <tr>\n",
       "      <th>2013-10-30</th>\n",
       "      <td>Denver Nuggets</td>\n",
       "      <td>Sacramento Kings</td>\n",
       "    </tr>\n",
       "    <tr>\n",
       "      <th>2013-10-30</th>\n",
       "      <td>Memphis Grizzlies</td>\n",
       "      <td>San Antonio Spurs</td>\n",
       "    </tr>\n",
       "    <tr>\n",
       "      <th>2013-10-30</th>\n",
       "      <td>Boston Celtics</td>\n",
       "      <td>Toronto Raptors</td>\n",
       "    </tr>\n",
       "    <tr>\n",
       "      <th>2013-10-30</th>\n",
       "      <td>Oklahoma City Thunder</td>\n",
       "      <td>Utah Jazz</td>\n",
       "    </tr>\n",
       "    <tr>\n",
       "      <th>2013-10-31</th>\n",
       "      <td>New York Knicks</td>\n",
       "      <td>Chicago Bulls</td>\n",
       "    </tr>\n",
       "    <tr>\n",
       "      <th>2013-10-31</th>\n",
       "      <td>Golden State Warriors</td>\n",
       "      <td>Los Angeles Clippers</td>\n",
       "    </tr>\n",
       "    <tr>\n",
       "      <th>2013-11-01</th>\n",
       "      <td>Toronto Raptors</td>\n",
       "      <td>Atlanta Hawks</td>\n",
       "    </tr>\n",
       "    <tr>\n",
       "      <th>2013-11-01</th>\n",
       "      <td>Milwaukee Bucks</td>\n",
       "      <td>Boston Celtics</td>\n",
       "    </tr>\n",
       "    <tr>\n",
       "      <th>2013-11-01</th>\n",
       "      <td>Miami Heat</td>\n",
       "      <td>Brooklyn Nets</td>\n",
       "    </tr>\n",
       "    <tr>\n",
       "      <th>2013-11-01</th>\n",
       "      <td>Cleveland Cavaliers</td>\n",
       "      <td>Charlotte Bobcats</td>\n",
       "    </tr>\n",
       "    <tr>\n",
       "      <th>2013-11-01</th>\n",
       "      <td>Portland Trail Blazers</td>\n",
       "      <td>Denver Nuggets</td>\n",
       "    </tr>\n",
       "    <tr>\n",
       "      <th>2013-11-01</th>\n",
       "      <td>Dallas Mavericks</td>\n",
       "      <td>Houston Rockets</td>\n",
       "    </tr>\n",
       "    <tr>\n",
       "      <th>2013-11-01</th>\n",
       "      <td>San Antonio Spurs</td>\n",
       "      <td>Los Angeles Lakers</td>\n",
       "    </tr>\n",
       "    <tr>\n",
       "      <th>2013-11-01</th>\n",
       "      <td>Detroit Pistons</td>\n",
       "      <td>Memphis Grizzlies</td>\n",
       "    </tr>\n",
       "    <tr>\n",
       "      <th>2013-11-01</th>\n",
       "      <td>Oklahoma City Thunder</td>\n",
       "      <td>Minnesota Timberwolves</td>\n",
       "    </tr>\n",
       "    <tr>\n",
       "      <th>2013-11-01</th>\n",
       "      <td>New Orleans Pelicans</td>\n",
       "      <td>Orlando Magic</td>\n",
       "    </tr>\n",
       "    <tr>\n",
       "      <th>2013-11-01</th>\n",
       "      <td>Utah Jazz</td>\n",
       "      <td>Phoenix Suns</td>\n",
       "    </tr>\n",
       "    <tr>\n",
       "      <th>...</th>\n",
       "      <td>...</td>\n",
       "      <td>...</td>\n",
       "    </tr>\n",
       "    <tr>\n",
       "      <th>2016-04-10</th>\n",
       "      <td>Golden State Warriors</td>\n",
       "      <td>San Antonio Spurs</td>\n",
       "    </tr>\n",
       "    <tr>\n",
       "      <th>2016-04-10</th>\n",
       "      <td>Charlotte Hornets</td>\n",
       "      <td>Washington Wizards</td>\n",
       "    </tr>\n",
       "    <tr>\n",
       "      <th>2016-04-11</th>\n",
       "      <td>Charlotte Hornets</td>\n",
       "      <td>Boston Celtics</td>\n",
       "    </tr>\n",
       "    <tr>\n",
       "      <th>2016-04-11</th>\n",
       "      <td>Washington Wizards</td>\n",
       "      <td>Brooklyn Nets</td>\n",
       "    </tr>\n",
       "    <tr>\n",
       "      <th>2016-04-11</th>\n",
       "      <td>Atlanta Hawks</td>\n",
       "      <td>Cleveland Cavaliers</td>\n",
       "    </tr>\n",
       "    <tr>\n",
       "      <th>2016-04-11</th>\n",
       "      <td>Houston Rockets</td>\n",
       "      <td>Minnesota Timberwolves</td>\n",
       "    </tr>\n",
       "    <tr>\n",
       "      <th>2016-04-11</th>\n",
       "      <td>Chicago Bulls</td>\n",
       "      <td>New Orleans Pelicans</td>\n",
       "    </tr>\n",
       "    <tr>\n",
       "      <th>2016-04-11</th>\n",
       "      <td>Los Angeles Lakers</td>\n",
       "      <td>Oklahoma City Thunder</td>\n",
       "    </tr>\n",
       "    <tr>\n",
       "      <th>2016-04-11</th>\n",
       "      <td>Milwaukee Bucks</td>\n",
       "      <td>Orlando Magic</td>\n",
       "    </tr>\n",
       "    <tr>\n",
       "      <th>2016-04-11</th>\n",
       "      <td>Sacramento Kings</td>\n",
       "      <td>Phoenix Suns</td>\n",
       "    </tr>\n",
       "    <tr>\n",
       "      <th>2016-04-11</th>\n",
       "      <td>Dallas Mavericks</td>\n",
       "      <td>Utah Jazz</td>\n",
       "    </tr>\n",
       "    <tr>\n",
       "      <th>2016-04-12</th>\n",
       "      <td>Miami Heat</td>\n",
       "      <td>Detroit Pistons</td>\n",
       "    </tr>\n",
       "    <tr>\n",
       "      <th>2016-04-12</th>\n",
       "      <td>New York Knicks</td>\n",
       "      <td>Indiana Pacers</td>\n",
       "    </tr>\n",
       "    <tr>\n",
       "      <th>2016-04-12</th>\n",
       "      <td>Memphis Grizzlies</td>\n",
       "      <td>Los Angeles Clippers</td>\n",
       "    </tr>\n",
       "    <tr>\n",
       "      <th>2016-04-12</th>\n",
       "      <td>Oklahoma City Thunder</td>\n",
       "      <td>San Antonio Spurs</td>\n",
       "    </tr>\n",
       "    <tr>\n",
       "      <th>2016-04-12</th>\n",
       "      <td>Philadelphia 76ers</td>\n",
       "      <td>Toronto Raptors</td>\n",
       "    </tr>\n",
       "    <tr>\n",
       "      <th>2016-04-13</th>\n",
       "      <td>Miami Heat</td>\n",
       "      <td>Boston Celtics</td>\n",
       "    </tr>\n",
       "    <tr>\n",
       "      <th>2016-04-13</th>\n",
       "      <td>Toronto Raptors</td>\n",
       "      <td>Brooklyn Nets</td>\n",
       "    </tr>\n",
       "    <tr>\n",
       "      <th>2016-04-13</th>\n",
       "      <td>Philadelphia 76ers</td>\n",
       "      <td>Chicago Bulls</td>\n",
       "    </tr>\n",
       "    <tr>\n",
       "      <th>2016-04-13</th>\n",
       "      <td>Orlando Magic</td>\n",
       "      <td>Charlotte Hornets</td>\n",
       "    </tr>\n",
       "    <tr>\n",
       "      <th>2016-04-13</th>\n",
       "      <td>Detroit Pistons</td>\n",
       "      <td>Cleveland Cavaliers</td>\n",
       "    </tr>\n",
       "    <tr>\n",
       "      <th>2016-04-13</th>\n",
       "      <td>San Antonio Spurs</td>\n",
       "      <td>Dallas Mavericks</td>\n",
       "    </tr>\n",
       "    <tr>\n",
       "      <th>2016-04-13</th>\n",
       "      <td>Memphis Grizzlies</td>\n",
       "      <td>Golden State Warriors</td>\n",
       "    </tr>\n",
       "    <tr>\n",
       "      <th>2016-04-13</th>\n",
       "      <td>Sacramento Kings</td>\n",
       "      <td>Houston Rockets</td>\n",
       "    </tr>\n",
       "    <tr>\n",
       "      <th>2016-04-13</th>\n",
       "      <td>Utah Jazz</td>\n",
       "      <td>Los Angeles Lakers</td>\n",
       "    </tr>\n",
       "    <tr>\n",
       "      <th>2016-04-13</th>\n",
       "      <td>Indiana Pacers</td>\n",
       "      <td>Milwaukee Bucks</td>\n",
       "    </tr>\n",
       "    <tr>\n",
       "      <th>2016-04-13</th>\n",
       "      <td>New Orleans Pelicans</td>\n",
       "      <td>Minnesota Timberwolves</td>\n",
       "    </tr>\n",
       "    <tr>\n",
       "      <th>2016-04-13</th>\n",
       "      <td>Los Angeles Clippers</td>\n",
       "      <td>Phoenix Suns</td>\n",
       "    </tr>\n",
       "    <tr>\n",
       "      <th>2016-04-13</th>\n",
       "      <td>Denver Nuggets</td>\n",
       "      <td>Portland Trail Blazers</td>\n",
       "    </tr>\n",
       "    <tr>\n",
       "      <th>2016-04-13</th>\n",
       "      <td>Atlanta Hawks</td>\n",
       "      <td>Washington Wizards</td>\n",
       "    </tr>\n",
       "  </tbody>\n",
       "</table>\n",
       "<p>3690 rows × 2 columns</p>\n",
       "</div>"
      ],
      "text/plain": [
       "                           Visitor                    Home\n",
       "Date                                                      \n",
       "2013-10-29           Orlando Magic          Indiana Pacers\n",
       "2013-10-29    Los Angeles Clippers      Los Angeles Lakers\n",
       "2013-10-29           Chicago Bulls              Miami Heat\n",
       "2013-10-30           Brooklyn Nets     Cleveland Cavaliers\n",
       "2013-10-30           Atlanta Hawks        Dallas Mavericks\n",
       "2013-10-30      Washington Wizards         Detroit Pistons\n",
       "2013-10-30      Los Angeles Lakers   Golden State Warriors\n",
       "2013-10-30       Charlotte Bobcats         Houston Rockets\n",
       "2013-10-30           Orlando Magic  Minnesota Timberwolves\n",
       "2013-10-30          Indiana Pacers    New Orleans Pelicans\n",
       "2013-10-30         Milwaukee Bucks         New York Knicks\n",
       "2013-10-30              Miami Heat      Philadelphia 76ers\n",
       "2013-10-30  Portland Trail Blazers            Phoenix Suns\n",
       "2013-10-30          Denver Nuggets        Sacramento Kings\n",
       "2013-10-30       Memphis Grizzlies       San Antonio Spurs\n",
       "2013-10-30          Boston Celtics         Toronto Raptors\n",
       "2013-10-30   Oklahoma City Thunder               Utah Jazz\n",
       "2013-10-31         New York Knicks           Chicago Bulls\n",
       "2013-10-31   Golden State Warriors    Los Angeles Clippers\n",
       "2013-11-01         Toronto Raptors           Atlanta Hawks\n",
       "2013-11-01         Milwaukee Bucks          Boston Celtics\n",
       "2013-11-01              Miami Heat           Brooklyn Nets\n",
       "2013-11-01     Cleveland Cavaliers       Charlotte Bobcats\n",
       "2013-11-01  Portland Trail Blazers          Denver Nuggets\n",
       "2013-11-01        Dallas Mavericks         Houston Rockets\n",
       "2013-11-01       San Antonio Spurs      Los Angeles Lakers\n",
       "2013-11-01         Detroit Pistons       Memphis Grizzlies\n",
       "2013-11-01   Oklahoma City Thunder  Minnesota Timberwolves\n",
       "2013-11-01    New Orleans Pelicans           Orlando Magic\n",
       "2013-11-01               Utah Jazz            Phoenix Suns\n",
       "...                            ...                     ...\n",
       "2016-04-10   Golden State Warriors       San Antonio Spurs\n",
       "2016-04-10       Charlotte Hornets      Washington Wizards\n",
       "2016-04-11       Charlotte Hornets          Boston Celtics\n",
       "2016-04-11      Washington Wizards           Brooklyn Nets\n",
       "2016-04-11           Atlanta Hawks     Cleveland Cavaliers\n",
       "2016-04-11         Houston Rockets  Minnesota Timberwolves\n",
       "2016-04-11           Chicago Bulls    New Orleans Pelicans\n",
       "2016-04-11      Los Angeles Lakers   Oklahoma City Thunder\n",
       "2016-04-11         Milwaukee Bucks           Orlando Magic\n",
       "2016-04-11        Sacramento Kings            Phoenix Suns\n",
       "2016-04-11        Dallas Mavericks               Utah Jazz\n",
       "2016-04-12              Miami Heat         Detroit Pistons\n",
       "2016-04-12         New York Knicks          Indiana Pacers\n",
       "2016-04-12       Memphis Grizzlies    Los Angeles Clippers\n",
       "2016-04-12   Oklahoma City Thunder       San Antonio Spurs\n",
       "2016-04-12      Philadelphia 76ers         Toronto Raptors\n",
       "2016-04-13              Miami Heat          Boston Celtics\n",
       "2016-04-13         Toronto Raptors           Brooklyn Nets\n",
       "2016-04-13      Philadelphia 76ers           Chicago Bulls\n",
       "2016-04-13           Orlando Magic       Charlotte Hornets\n",
       "2016-04-13         Detroit Pistons     Cleveland Cavaliers\n",
       "2016-04-13       San Antonio Spurs        Dallas Mavericks\n",
       "2016-04-13       Memphis Grizzlies   Golden State Warriors\n",
       "2016-04-13        Sacramento Kings         Houston Rockets\n",
       "2016-04-13               Utah Jazz      Los Angeles Lakers\n",
       "2016-04-13          Indiana Pacers         Milwaukee Bucks\n",
       "2016-04-13    New Orleans Pelicans  Minnesota Timberwolves\n",
       "2016-04-13    Los Angeles Clippers            Phoenix Suns\n",
       "2016-04-13          Denver Nuggets  Portland Trail Blazers\n",
       "2016-04-13           Atlanta Hawks      Washington Wizards\n",
       "\n",
       "[3690 rows x 2 columns]"
      ]
     },
     "execution_count": 151,
     "metadata": {},
     "output_type": "execute_result"
    }
   ],
   "source": [
    "df"
   ]
  },
  {
   "cell_type": "code",
   "execution_count": null,
   "metadata": {
    "_datascience": {},
    "collapsed": true
   },
   "outputs": [],
   "source": []
  },
  {
   "cell_type": "code",
   "execution_count": 131,
   "metadata": {
    "_datascience": {},
    "collapsed": true
   },
   "outputs": [],
   "source": [
    "df555.to_csv(\"data/schedule/schedule_20152016_regularseason_fixed.csv\")"
   ]
  },
  {
   "cell_type": "code",
   "execution_count": 129,
   "metadata": {
    "_datascience": {},
    "collapsed": false
   },
   "outputs": [],
   "source": [
    "df555['Date'] = pd.to_datetime(df555['Date'])"
   ]
  },
  {
   "cell_type": "code",
   "execution_count": 85,
   "metadata": {
    "_datascience": {},
    "collapsed": true
   },
   "outputs": [],
   "source": [
    "months = [\"January\",\"February\",\"March\",\"April\",\"May\",\"June\",\"July\",\n",
    "         \"August\",\n",
    "         \"September\",\n",
    "         \"October\",\n",
    "         \"November\",\n",
    "         \"December\"]"
   ]
  },
  {
   "cell_type": "code",
   "execution_count": 86,
   "metadata": {
    "_datascience": {},
    "collapsed": false
   },
   "outputs": [
    {
     "data": {
      "text/plain": [
       "True"
      ]
     },
     "execution_count": 86,
     "metadata": {},
     "output_type": "execute_result"
    }
   ],
   "source": [
    "\"January\" in months"
   ]
  },
  {
   "cell_type": "code",
   "execution_count": 124,
   "metadata": {
    "_datascience": {},
    "collapsed": false
   },
   "outputs": [],
   "source": [
    "i = 0\n",
    "killrows = []\n",
    "for d in df555.Date:\n",
    "    if d in months:\n",
    "        killrows.append(i)\n",
    "    i += 1"
   ]
  },
  {
   "cell_type": "code",
   "execution_count": 126,
   "metadata": {
    "_datascience": {},
    "collapsed": false
   },
   "outputs": [
    {
     "data": {
      "text/html": [
       "<div style=\"max-height:1000px;max-width:1500px;overflow:auto;\">\n",
       "<table border=\"1\" class=\"dataframe\">\n",
       "  <thead>\n",
       "    <tr style=\"text-align: right;\">\n",
       "      <th></th>\n",
       "      <th>Date</th>\n",
       "      <th>Visitor/Neutral</th>\n",
       "      <th>Home/Neutral</th>\n",
       "    </tr>\n",
       "  </thead>\n",
       "  <tbody>\n",
       "    <tr>\n",
       "      <th>1</th>\n",
       "      <td>Tue Oct 27 2015</td>\n",
       "      <td>Detroit Pistons</td>\n",
       "      <td>Atlanta Hawks</td>\n",
       "    </tr>\n",
       "    <tr>\n",
       "      <th>2</th>\n",
       "      <td>Tue Oct 27 2015</td>\n",
       "      <td>Cleveland Cavaliers</td>\n",
       "      <td>Chicago Bulls</td>\n",
       "    </tr>\n",
       "    <tr>\n",
       "      <th>3</th>\n",
       "      <td>Tue Oct 27 2015</td>\n",
       "      <td>New Orleans Pelicans</td>\n",
       "      <td>Golden State Warriors</td>\n",
       "    </tr>\n",
       "    <tr>\n",
       "      <th>4</th>\n",
       "      <td>Wed Oct 28 2015</td>\n",
       "      <td>Philadelphia 76ers</td>\n",
       "      <td>Boston Celtics</td>\n",
       "    </tr>\n",
       "    <tr>\n",
       "      <th>5</th>\n",
       "      <td>Wed Oct 28 2015</td>\n",
       "      <td>Chicago Bulls</td>\n",
       "      <td>Brooklyn Nets</td>\n",
       "    </tr>\n",
       "    <tr>\n",
       "      <th>6</th>\n",
       "      <td>Wed Oct 28 2015</td>\n",
       "      <td>Utah Jazz</td>\n",
       "      <td>Detroit Pistons</td>\n",
       "    </tr>\n",
       "    <tr>\n",
       "      <th>7</th>\n",
       "      <td>Wed Oct 28 2015</td>\n",
       "      <td>Denver Nuggets</td>\n",
       "      <td>Houston Rockets</td>\n",
       "    </tr>\n",
       "    <tr>\n",
       "      <th>8</th>\n",
       "      <td>Wed Oct 28 2015</td>\n",
       "      <td>Minnesota Timberwolves</td>\n",
       "      <td>Los Angeles Lakers</td>\n",
       "    </tr>\n",
       "    <tr>\n",
       "      <th>9</th>\n",
       "      <td>Wed Oct 28 2015</td>\n",
       "      <td>Cleveland Cavaliers</td>\n",
       "      <td>Memphis Grizzlies</td>\n",
       "    </tr>\n",
       "    <tr>\n",
       "      <th>10</th>\n",
       "      <td>Wed Oct 28 2015</td>\n",
       "      <td>Charlotte Hornets</td>\n",
       "      <td>Miami Heat</td>\n",
       "    </tr>\n",
       "    <tr>\n",
       "      <th>11</th>\n",
       "      <td>Wed Oct 28 2015</td>\n",
       "      <td>New York Knicks</td>\n",
       "      <td>Milwaukee Bucks</td>\n",
       "    </tr>\n",
       "    <tr>\n",
       "      <th>12</th>\n",
       "      <td>Wed Oct 28 2015</td>\n",
       "      <td>San Antonio Spurs</td>\n",
       "      <td>Oklahoma City Thunder</td>\n",
       "    </tr>\n",
       "    <tr>\n",
       "      <th>13</th>\n",
       "      <td>Wed Oct 28 2015</td>\n",
       "      <td>Washington Wizards</td>\n",
       "      <td>Orlando Magic</td>\n",
       "    </tr>\n",
       "    <tr>\n",
       "      <th>14</th>\n",
       "      <td>Wed Oct 28 2015</td>\n",
       "      <td>Dallas Mavericks</td>\n",
       "      <td>Phoenix Suns</td>\n",
       "    </tr>\n",
       "    <tr>\n",
       "      <th>15</th>\n",
       "      <td>Wed Oct 28 2015</td>\n",
       "      <td>New Orleans Pelicans</td>\n",
       "      <td>Portland Trail Blazers</td>\n",
       "    </tr>\n",
       "    <tr>\n",
       "      <th>16</th>\n",
       "      <td>Wed Oct 28 2015</td>\n",
       "      <td>Los Angeles Clippers</td>\n",
       "      <td>Sacramento Kings</td>\n",
       "    </tr>\n",
       "    <tr>\n",
       "      <th>17</th>\n",
       "      <td>Wed Oct 28 2015</td>\n",
       "      <td>Indiana Pacers</td>\n",
       "      <td>Toronto Raptors</td>\n",
       "    </tr>\n",
       "    <tr>\n",
       "      <th>18</th>\n",
       "      <td>Thu Oct 29 2015</td>\n",
       "      <td>Memphis Grizzlies</td>\n",
       "      <td>Indiana Pacers</td>\n",
       "    </tr>\n",
       "    <tr>\n",
       "      <th>19</th>\n",
       "      <td>Thu Oct 29 2015</td>\n",
       "      <td>Dallas Mavericks</td>\n",
       "      <td>Los Angeles Clippers</td>\n",
       "    </tr>\n",
       "    <tr>\n",
       "      <th>20</th>\n",
       "      <td>Thu Oct 29 2015</td>\n",
       "      <td>Atlanta Hawks</td>\n",
       "      <td>New York Knicks</td>\n",
       "    </tr>\n",
       "    <tr>\n",
       "      <th>21</th>\n",
       "      <td>Fri Oct 30 2015</td>\n",
       "      <td>Charlotte Hornets</td>\n",
       "      <td>Atlanta Hawks</td>\n",
       "    </tr>\n",
       "    <tr>\n",
       "      <th>22</th>\n",
       "      <td>Fri Oct 30 2015</td>\n",
       "      <td>Toronto Raptors</td>\n",
       "      <td>Boston Celtics</td>\n",
       "    </tr>\n",
       "    <tr>\n",
       "      <th>23</th>\n",
       "      <td>Fri Oct 30 2015</td>\n",
       "      <td>Miami Heat</td>\n",
       "      <td>Cleveland Cavaliers</td>\n",
       "    </tr>\n",
       "    <tr>\n",
       "      <th>24</th>\n",
       "      <td>Fri Oct 30 2015</td>\n",
       "      <td>Minnesota Timberwolves</td>\n",
       "      <td>Denver Nuggets</td>\n",
       "    </tr>\n",
       "    <tr>\n",
       "      <th>25</th>\n",
       "      <td>Fri Oct 30 2015</td>\n",
       "      <td>Chicago Bulls</td>\n",
       "      <td>Detroit Pistons</td>\n",
       "    </tr>\n",
       "    <tr>\n",
       "      <th>26</th>\n",
       "      <td>Fri Oct 30 2015</td>\n",
       "      <td>Golden State Warriors</td>\n",
       "      <td>Houston Rockets</td>\n",
       "    </tr>\n",
       "    <tr>\n",
       "      <th>27</th>\n",
       "      <td>Fri Oct 30 2015</td>\n",
       "      <td>Washington Wizards</td>\n",
       "      <td>Milwaukee Bucks</td>\n",
       "    </tr>\n",
       "    <tr>\n",
       "      <th>28</th>\n",
       "      <td>Fri Oct 30 2015</td>\n",
       "      <td>Oklahoma City Thunder</td>\n",
       "      <td>Orlando Magic</td>\n",
       "    </tr>\n",
       "    <tr>\n",
       "      <th>29</th>\n",
       "      <td>Fri Oct 30 2015</td>\n",
       "      <td>Utah Jazz</td>\n",
       "      <td>Philadelphia 76ers</td>\n",
       "    </tr>\n",
       "    <tr>\n",
       "      <th>30</th>\n",
       "      <td>Fri Oct 30 2015</td>\n",
       "      <td>Portland Trail Blazers</td>\n",
       "      <td>Phoenix Suns</td>\n",
       "    </tr>\n",
       "    <tr>\n",
       "      <th>...</th>\n",
       "      <td>...</td>\n",
       "      <td>...</td>\n",
       "      <td>...</td>\n",
       "    </tr>\n",
       "    <tr>\n",
       "      <th>1207</th>\n",
       "      <td>Sun Apr 10 2016</td>\n",
       "      <td>Golden State Warriors</td>\n",
       "      <td>San Antonio Spurs</td>\n",
       "    </tr>\n",
       "    <tr>\n",
       "      <th>1208</th>\n",
       "      <td>Sun Apr 10 2016</td>\n",
       "      <td>Charlotte Hornets</td>\n",
       "      <td>Washington Wizards</td>\n",
       "    </tr>\n",
       "    <tr>\n",
       "      <th>1209</th>\n",
       "      <td>Mon Apr 11 2016</td>\n",
       "      <td>Charlotte Hornets</td>\n",
       "      <td>Boston Celtics</td>\n",
       "    </tr>\n",
       "    <tr>\n",
       "      <th>1210</th>\n",
       "      <td>Mon Apr 11 2016</td>\n",
       "      <td>Washington Wizards</td>\n",
       "      <td>Brooklyn Nets</td>\n",
       "    </tr>\n",
       "    <tr>\n",
       "      <th>1211</th>\n",
       "      <td>Mon Apr 11 2016</td>\n",
       "      <td>Atlanta Hawks</td>\n",
       "      <td>Cleveland Cavaliers</td>\n",
       "    </tr>\n",
       "    <tr>\n",
       "      <th>1212</th>\n",
       "      <td>Mon Apr 11 2016</td>\n",
       "      <td>Houston Rockets</td>\n",
       "      <td>Minnesota Timberwolves</td>\n",
       "    </tr>\n",
       "    <tr>\n",
       "      <th>1213</th>\n",
       "      <td>Mon Apr 11 2016</td>\n",
       "      <td>Chicago Bulls</td>\n",
       "      <td>New Orleans Pelicans</td>\n",
       "    </tr>\n",
       "    <tr>\n",
       "      <th>1214</th>\n",
       "      <td>Mon Apr 11 2016</td>\n",
       "      <td>Los Angeles Lakers</td>\n",
       "      <td>Oklahoma City Thunder</td>\n",
       "    </tr>\n",
       "    <tr>\n",
       "      <th>1215</th>\n",
       "      <td>Mon Apr 11 2016</td>\n",
       "      <td>Milwaukee Bucks</td>\n",
       "      <td>Orlando Magic</td>\n",
       "    </tr>\n",
       "    <tr>\n",
       "      <th>1216</th>\n",
       "      <td>Mon Apr 11 2016</td>\n",
       "      <td>Sacramento Kings</td>\n",
       "      <td>Phoenix Suns</td>\n",
       "    </tr>\n",
       "    <tr>\n",
       "      <th>1217</th>\n",
       "      <td>Mon Apr 11 2016</td>\n",
       "      <td>Dallas Mavericks</td>\n",
       "      <td>Utah Jazz</td>\n",
       "    </tr>\n",
       "    <tr>\n",
       "      <th>1218</th>\n",
       "      <td>Tue Apr 12 2016</td>\n",
       "      <td>Miami Heat</td>\n",
       "      <td>Detroit Pistons</td>\n",
       "    </tr>\n",
       "    <tr>\n",
       "      <th>1219</th>\n",
       "      <td>Tue Apr 12 2016</td>\n",
       "      <td>New York Knicks</td>\n",
       "      <td>Indiana Pacers</td>\n",
       "    </tr>\n",
       "    <tr>\n",
       "      <th>1220</th>\n",
       "      <td>Tue Apr 12 2016</td>\n",
       "      <td>Memphis Grizzlies</td>\n",
       "      <td>Los Angeles Clippers</td>\n",
       "    </tr>\n",
       "    <tr>\n",
       "      <th>1221</th>\n",
       "      <td>Tue Apr 12 2016</td>\n",
       "      <td>Oklahoma City Thunder</td>\n",
       "      <td>San Antonio Spurs</td>\n",
       "    </tr>\n",
       "    <tr>\n",
       "      <th>1222</th>\n",
       "      <td>Tue Apr 12 2016</td>\n",
       "      <td>Philadelphia 76ers</td>\n",
       "      <td>Toronto Raptors</td>\n",
       "    </tr>\n",
       "    <tr>\n",
       "      <th>1223</th>\n",
       "      <td>Wed Apr 13 2016</td>\n",
       "      <td>Miami Heat</td>\n",
       "      <td>Boston Celtics</td>\n",
       "    </tr>\n",
       "    <tr>\n",
       "      <th>1224</th>\n",
       "      <td>Wed Apr 13 2016</td>\n",
       "      <td>Toronto Raptors</td>\n",
       "      <td>Brooklyn Nets</td>\n",
       "    </tr>\n",
       "    <tr>\n",
       "      <th>1225</th>\n",
       "      <td>Wed Apr 13 2016</td>\n",
       "      <td>Philadelphia 76ers</td>\n",
       "      <td>Chicago Bulls</td>\n",
       "    </tr>\n",
       "    <tr>\n",
       "      <th>1226</th>\n",
       "      <td>Wed Apr 13 2016</td>\n",
       "      <td>Orlando Magic</td>\n",
       "      <td>Charlotte Hornets</td>\n",
       "    </tr>\n",
       "    <tr>\n",
       "      <th>1227</th>\n",
       "      <td>Wed Apr 13 2016</td>\n",
       "      <td>Detroit Pistons</td>\n",
       "      <td>Cleveland Cavaliers</td>\n",
       "    </tr>\n",
       "    <tr>\n",
       "      <th>1228</th>\n",
       "      <td>Wed Apr 13 2016</td>\n",
       "      <td>San Antonio Spurs</td>\n",
       "      <td>Dallas Mavericks</td>\n",
       "    </tr>\n",
       "    <tr>\n",
       "      <th>1229</th>\n",
       "      <td>Wed Apr 13 2016</td>\n",
       "      <td>Memphis Grizzlies</td>\n",
       "      <td>Golden State Warriors</td>\n",
       "    </tr>\n",
       "    <tr>\n",
       "      <th>1230</th>\n",
       "      <td>Wed Apr 13 2016</td>\n",
       "      <td>Sacramento Kings</td>\n",
       "      <td>Houston Rockets</td>\n",
       "    </tr>\n",
       "    <tr>\n",
       "      <th>1231</th>\n",
       "      <td>Wed Apr 13 2016</td>\n",
       "      <td>Utah Jazz</td>\n",
       "      <td>Los Angeles Lakers</td>\n",
       "    </tr>\n",
       "    <tr>\n",
       "      <th>1232</th>\n",
       "      <td>Wed Apr 13 2016</td>\n",
       "      <td>Indiana Pacers</td>\n",
       "      <td>Milwaukee Bucks</td>\n",
       "    </tr>\n",
       "    <tr>\n",
       "      <th>1233</th>\n",
       "      <td>Wed Apr 13 2016</td>\n",
       "      <td>New Orleans Pelicans</td>\n",
       "      <td>Minnesota Timberwolves</td>\n",
       "    </tr>\n",
       "    <tr>\n",
       "      <th>1234</th>\n",
       "      <td>Wed Apr 13 2016</td>\n",
       "      <td>Los Angeles Clippers</td>\n",
       "      <td>Phoenix Suns</td>\n",
       "    </tr>\n",
       "    <tr>\n",
       "      <th>1235</th>\n",
       "      <td>Wed Apr 13 2016</td>\n",
       "      <td>Denver Nuggets</td>\n",
       "      <td>Portland Trail Blazers</td>\n",
       "    </tr>\n",
       "    <tr>\n",
       "      <th>1236</th>\n",
       "      <td>Wed Apr 13 2016</td>\n",
       "      <td>Atlanta Hawks</td>\n",
       "      <td>Washington Wizards</td>\n",
       "    </tr>\n",
       "  </tbody>\n",
       "</table>\n",
       "<p>1230 rows × 3 columns</p>\n",
       "</div>"
      ],
      "text/plain": [
       "                 Date         Visitor/Neutral            Home/Neutral\n",
       "1     Tue Oct 27 2015         Detroit Pistons           Atlanta Hawks\n",
       "2     Tue Oct 27 2015     Cleveland Cavaliers           Chicago Bulls\n",
       "3     Tue Oct 27 2015    New Orleans Pelicans   Golden State Warriors\n",
       "4     Wed Oct 28 2015      Philadelphia 76ers          Boston Celtics\n",
       "5     Wed Oct 28 2015           Chicago Bulls           Brooklyn Nets\n",
       "6     Wed Oct 28 2015               Utah Jazz         Detroit Pistons\n",
       "7     Wed Oct 28 2015          Denver Nuggets         Houston Rockets\n",
       "8     Wed Oct 28 2015  Minnesota Timberwolves      Los Angeles Lakers\n",
       "9     Wed Oct 28 2015     Cleveland Cavaliers       Memphis Grizzlies\n",
       "10    Wed Oct 28 2015       Charlotte Hornets              Miami Heat\n",
       "11    Wed Oct 28 2015         New York Knicks         Milwaukee Bucks\n",
       "12    Wed Oct 28 2015       San Antonio Spurs   Oklahoma City Thunder\n",
       "13    Wed Oct 28 2015      Washington Wizards           Orlando Magic\n",
       "14    Wed Oct 28 2015        Dallas Mavericks            Phoenix Suns\n",
       "15    Wed Oct 28 2015    New Orleans Pelicans  Portland Trail Blazers\n",
       "16    Wed Oct 28 2015    Los Angeles Clippers        Sacramento Kings\n",
       "17    Wed Oct 28 2015          Indiana Pacers         Toronto Raptors\n",
       "18    Thu Oct 29 2015       Memphis Grizzlies          Indiana Pacers\n",
       "19    Thu Oct 29 2015        Dallas Mavericks    Los Angeles Clippers\n",
       "20    Thu Oct 29 2015           Atlanta Hawks         New York Knicks\n",
       "21    Fri Oct 30 2015       Charlotte Hornets           Atlanta Hawks\n",
       "22    Fri Oct 30 2015         Toronto Raptors          Boston Celtics\n",
       "23    Fri Oct 30 2015              Miami Heat     Cleveland Cavaliers\n",
       "24    Fri Oct 30 2015  Minnesota Timberwolves          Denver Nuggets\n",
       "25    Fri Oct 30 2015           Chicago Bulls         Detroit Pistons\n",
       "26    Fri Oct 30 2015   Golden State Warriors         Houston Rockets\n",
       "27    Fri Oct 30 2015      Washington Wizards         Milwaukee Bucks\n",
       "28    Fri Oct 30 2015   Oklahoma City Thunder           Orlando Magic\n",
       "29    Fri Oct 30 2015               Utah Jazz      Philadelphia 76ers\n",
       "30    Fri Oct 30 2015  Portland Trail Blazers            Phoenix Suns\n",
       "...               ...                     ...                     ...\n",
       "1207  Sun Apr 10 2016   Golden State Warriors       San Antonio Spurs\n",
       "1208  Sun Apr 10 2016       Charlotte Hornets      Washington Wizards\n",
       "1209  Mon Apr 11 2016       Charlotte Hornets          Boston Celtics\n",
       "1210  Mon Apr 11 2016      Washington Wizards           Brooklyn Nets\n",
       "1211  Mon Apr 11 2016           Atlanta Hawks     Cleveland Cavaliers\n",
       "1212  Mon Apr 11 2016         Houston Rockets  Minnesota Timberwolves\n",
       "1213  Mon Apr 11 2016           Chicago Bulls    New Orleans Pelicans\n",
       "1214  Mon Apr 11 2016      Los Angeles Lakers   Oklahoma City Thunder\n",
       "1215  Mon Apr 11 2016         Milwaukee Bucks           Orlando Magic\n",
       "1216  Mon Apr 11 2016        Sacramento Kings            Phoenix Suns\n",
       "1217  Mon Apr 11 2016        Dallas Mavericks               Utah Jazz\n",
       "1218  Tue Apr 12 2016              Miami Heat         Detroit Pistons\n",
       "1219  Tue Apr 12 2016         New York Knicks          Indiana Pacers\n",
       "1220  Tue Apr 12 2016       Memphis Grizzlies    Los Angeles Clippers\n",
       "1221  Tue Apr 12 2016   Oklahoma City Thunder       San Antonio Spurs\n",
       "1222  Tue Apr 12 2016      Philadelphia 76ers         Toronto Raptors\n",
       "1223  Wed Apr 13 2016              Miami Heat          Boston Celtics\n",
       "1224  Wed Apr 13 2016         Toronto Raptors           Brooklyn Nets\n",
       "1225  Wed Apr 13 2016      Philadelphia 76ers           Chicago Bulls\n",
       "1226  Wed Apr 13 2016           Orlando Magic       Charlotte Hornets\n",
       "1227  Wed Apr 13 2016         Detroit Pistons     Cleveland Cavaliers\n",
       "1228  Wed Apr 13 2016       San Antonio Spurs        Dallas Mavericks\n",
       "1229  Wed Apr 13 2016       Memphis Grizzlies   Golden State Warriors\n",
       "1230  Wed Apr 13 2016        Sacramento Kings         Houston Rockets\n",
       "1231  Wed Apr 13 2016               Utah Jazz      Los Angeles Lakers\n",
       "1232  Wed Apr 13 2016          Indiana Pacers         Milwaukee Bucks\n",
       "1233  Wed Apr 13 2016    New Orleans Pelicans  Minnesota Timberwolves\n",
       "1234  Wed Apr 13 2016    Los Angeles Clippers            Phoenix Suns\n",
       "1235  Wed Apr 13 2016          Denver Nuggets  Portland Trail Blazers\n",
       "1236  Wed Apr 13 2016           Atlanta Hawks      Washington Wizards\n",
       "\n",
       "[1230 rows x 3 columns]"
      ]
     },
     "execution_count": 126,
     "metadata": {},
     "output_type": "execute_result"
    }
   ],
   "source": [
    "df555"
   ]
  },
  {
   "cell_type": "code",
   "execution_count": 119,
   "metadata": {
    "_datascience": {},
    "collapsed": false
   },
   "outputs": [
    {
     "data": {
      "text/plain": [
       "Int64Index([0, 39, 263, 492, 724, 895, 1133], dtype='int64')"
      ]
     },
     "execution_count": 119,
     "metadata": {},
     "output_type": "execute_result"
    }
   ],
   "source": [
    "df555.index[[killrows]]"
   ]
  },
  {
   "cell_type": "code",
   "execution_count": 122,
   "metadata": {
    "_datascience": {},
    "collapsed": false
   },
   "outputs": [],
   "source": [
    "df555 = df555.drop(df555.index[killrows])"
   ]
  },
  {
   "cell_type": "code",
   "execution_count": 123,
   "metadata": {
    "_datascience": {},
    "collapsed": false
   },
   "outputs": [
    {
     "data": {
      "text/html": [
       "<div style=\"max-height:1000px;max-width:1500px;overflow:auto;\">\n",
       "<table border=\"1\" class=\"dataframe\">\n",
       "  <thead>\n",
       "    <tr style=\"text-align: right;\">\n",
       "      <th></th>\n",
       "      <th>Date</th>\n",
       "      <th>Visitor/Neutral</th>\n",
       "      <th>Home/Neutral</th>\n",
       "    </tr>\n",
       "  </thead>\n",
       "  <tbody>\n",
       "    <tr>\n",
       "      <th>1</th>\n",
       "      <td>Tue Oct 27 2015</td>\n",
       "      <td>Detroit Pistons</td>\n",
       "      <td>Atlanta Hawks</td>\n",
       "    </tr>\n",
       "    <tr>\n",
       "      <th>2</th>\n",
       "      <td>Tue Oct 27 2015</td>\n",
       "      <td>Cleveland Cavaliers</td>\n",
       "      <td>Chicago Bulls</td>\n",
       "    </tr>\n",
       "    <tr>\n",
       "      <th>3</th>\n",
       "      <td>Tue Oct 27 2015</td>\n",
       "      <td>New Orleans Pelicans</td>\n",
       "      <td>Golden State Warriors</td>\n",
       "    </tr>\n",
       "    <tr>\n",
       "      <th>4</th>\n",
       "      <td>Wed Oct 28 2015</td>\n",
       "      <td>Philadelphia 76ers</td>\n",
       "      <td>Boston Celtics</td>\n",
       "    </tr>\n",
       "    <tr>\n",
       "      <th>5</th>\n",
       "      <td>Wed Oct 28 2015</td>\n",
       "      <td>Chicago Bulls</td>\n",
       "      <td>Brooklyn Nets</td>\n",
       "    </tr>\n",
       "    <tr>\n",
       "      <th>6</th>\n",
       "      <td>Wed Oct 28 2015</td>\n",
       "      <td>Utah Jazz</td>\n",
       "      <td>Detroit Pistons</td>\n",
       "    </tr>\n",
       "    <tr>\n",
       "      <th>7</th>\n",
       "      <td>Wed Oct 28 2015</td>\n",
       "      <td>Denver Nuggets</td>\n",
       "      <td>Houston Rockets</td>\n",
       "    </tr>\n",
       "    <tr>\n",
       "      <th>8</th>\n",
       "      <td>Wed Oct 28 2015</td>\n",
       "      <td>Minnesota Timberwolves</td>\n",
       "      <td>Los Angeles Lakers</td>\n",
       "    </tr>\n",
       "    <tr>\n",
       "      <th>9</th>\n",
       "      <td>Wed Oct 28 2015</td>\n",
       "      <td>Cleveland Cavaliers</td>\n",
       "      <td>Memphis Grizzlies</td>\n",
       "    </tr>\n",
       "    <tr>\n",
       "      <th>10</th>\n",
       "      <td>Wed Oct 28 2015</td>\n",
       "      <td>Charlotte Hornets</td>\n",
       "      <td>Miami Heat</td>\n",
       "    </tr>\n",
       "    <tr>\n",
       "      <th>11</th>\n",
       "      <td>Wed Oct 28 2015</td>\n",
       "      <td>New York Knicks</td>\n",
       "      <td>Milwaukee Bucks</td>\n",
       "    </tr>\n",
       "    <tr>\n",
       "      <th>12</th>\n",
       "      <td>Wed Oct 28 2015</td>\n",
       "      <td>San Antonio Spurs</td>\n",
       "      <td>Oklahoma City Thunder</td>\n",
       "    </tr>\n",
       "    <tr>\n",
       "      <th>13</th>\n",
       "      <td>Wed Oct 28 2015</td>\n",
       "      <td>Washington Wizards</td>\n",
       "      <td>Orlando Magic</td>\n",
       "    </tr>\n",
       "    <tr>\n",
       "      <th>14</th>\n",
       "      <td>Wed Oct 28 2015</td>\n",
       "      <td>Dallas Mavericks</td>\n",
       "      <td>Phoenix Suns</td>\n",
       "    </tr>\n",
       "    <tr>\n",
       "      <th>15</th>\n",
       "      <td>Wed Oct 28 2015</td>\n",
       "      <td>New Orleans Pelicans</td>\n",
       "      <td>Portland Trail Blazers</td>\n",
       "    </tr>\n",
       "    <tr>\n",
       "      <th>16</th>\n",
       "      <td>Wed Oct 28 2015</td>\n",
       "      <td>Los Angeles Clippers</td>\n",
       "      <td>Sacramento Kings</td>\n",
       "    </tr>\n",
       "    <tr>\n",
       "      <th>17</th>\n",
       "      <td>Wed Oct 28 2015</td>\n",
       "      <td>Indiana Pacers</td>\n",
       "      <td>Toronto Raptors</td>\n",
       "    </tr>\n",
       "    <tr>\n",
       "      <th>18</th>\n",
       "      <td>Thu Oct 29 2015</td>\n",
       "      <td>Memphis Grizzlies</td>\n",
       "      <td>Indiana Pacers</td>\n",
       "    </tr>\n",
       "    <tr>\n",
       "      <th>19</th>\n",
       "      <td>Thu Oct 29 2015</td>\n",
       "      <td>Dallas Mavericks</td>\n",
       "      <td>Los Angeles Clippers</td>\n",
       "    </tr>\n",
       "    <tr>\n",
       "      <th>20</th>\n",
       "      <td>Thu Oct 29 2015</td>\n",
       "      <td>Atlanta Hawks</td>\n",
       "      <td>New York Knicks</td>\n",
       "    </tr>\n",
       "    <tr>\n",
       "      <th>21</th>\n",
       "      <td>Fri Oct 30 2015</td>\n",
       "      <td>Charlotte Hornets</td>\n",
       "      <td>Atlanta Hawks</td>\n",
       "    </tr>\n",
       "    <tr>\n",
       "      <th>22</th>\n",
       "      <td>Fri Oct 30 2015</td>\n",
       "      <td>Toronto Raptors</td>\n",
       "      <td>Boston Celtics</td>\n",
       "    </tr>\n",
       "    <tr>\n",
       "      <th>23</th>\n",
       "      <td>Fri Oct 30 2015</td>\n",
       "      <td>Miami Heat</td>\n",
       "      <td>Cleveland Cavaliers</td>\n",
       "    </tr>\n",
       "    <tr>\n",
       "      <th>24</th>\n",
       "      <td>Fri Oct 30 2015</td>\n",
       "      <td>Minnesota Timberwolves</td>\n",
       "      <td>Denver Nuggets</td>\n",
       "    </tr>\n",
       "    <tr>\n",
       "      <th>25</th>\n",
       "      <td>Fri Oct 30 2015</td>\n",
       "      <td>Chicago Bulls</td>\n",
       "      <td>Detroit Pistons</td>\n",
       "    </tr>\n",
       "    <tr>\n",
       "      <th>26</th>\n",
       "      <td>Fri Oct 30 2015</td>\n",
       "      <td>Golden State Warriors</td>\n",
       "      <td>Houston Rockets</td>\n",
       "    </tr>\n",
       "    <tr>\n",
       "      <th>27</th>\n",
       "      <td>Fri Oct 30 2015</td>\n",
       "      <td>Washington Wizards</td>\n",
       "      <td>Milwaukee Bucks</td>\n",
       "    </tr>\n",
       "    <tr>\n",
       "      <th>28</th>\n",
       "      <td>Fri Oct 30 2015</td>\n",
       "      <td>Oklahoma City Thunder</td>\n",
       "      <td>Orlando Magic</td>\n",
       "    </tr>\n",
       "    <tr>\n",
       "      <th>29</th>\n",
       "      <td>Fri Oct 30 2015</td>\n",
       "      <td>Utah Jazz</td>\n",
       "      <td>Philadelphia 76ers</td>\n",
       "    </tr>\n",
       "    <tr>\n",
       "      <th>30</th>\n",
       "      <td>Fri Oct 30 2015</td>\n",
       "      <td>Portland Trail Blazers</td>\n",
       "      <td>Phoenix Suns</td>\n",
       "    </tr>\n",
       "    <tr>\n",
       "      <th>...</th>\n",
       "      <td>...</td>\n",
       "      <td>...</td>\n",
       "      <td>...</td>\n",
       "    </tr>\n",
       "    <tr>\n",
       "      <th>1207</th>\n",
       "      <td>Sun Apr 10 2016</td>\n",
       "      <td>Golden State Warriors</td>\n",
       "      <td>San Antonio Spurs</td>\n",
       "    </tr>\n",
       "    <tr>\n",
       "      <th>1208</th>\n",
       "      <td>Sun Apr 10 2016</td>\n",
       "      <td>Charlotte Hornets</td>\n",
       "      <td>Washington Wizards</td>\n",
       "    </tr>\n",
       "    <tr>\n",
       "      <th>1209</th>\n",
       "      <td>Mon Apr 11 2016</td>\n",
       "      <td>Charlotte Hornets</td>\n",
       "      <td>Boston Celtics</td>\n",
       "    </tr>\n",
       "    <tr>\n",
       "      <th>1210</th>\n",
       "      <td>Mon Apr 11 2016</td>\n",
       "      <td>Washington Wizards</td>\n",
       "      <td>Brooklyn Nets</td>\n",
       "    </tr>\n",
       "    <tr>\n",
       "      <th>1211</th>\n",
       "      <td>Mon Apr 11 2016</td>\n",
       "      <td>Atlanta Hawks</td>\n",
       "      <td>Cleveland Cavaliers</td>\n",
       "    </tr>\n",
       "    <tr>\n",
       "      <th>1212</th>\n",
       "      <td>Mon Apr 11 2016</td>\n",
       "      <td>Houston Rockets</td>\n",
       "      <td>Minnesota Timberwolves</td>\n",
       "    </tr>\n",
       "    <tr>\n",
       "      <th>1213</th>\n",
       "      <td>Mon Apr 11 2016</td>\n",
       "      <td>Chicago Bulls</td>\n",
       "      <td>New Orleans Pelicans</td>\n",
       "    </tr>\n",
       "    <tr>\n",
       "      <th>1214</th>\n",
       "      <td>Mon Apr 11 2016</td>\n",
       "      <td>Los Angeles Lakers</td>\n",
       "      <td>Oklahoma City Thunder</td>\n",
       "    </tr>\n",
       "    <tr>\n",
       "      <th>1215</th>\n",
       "      <td>Mon Apr 11 2016</td>\n",
       "      <td>Milwaukee Bucks</td>\n",
       "      <td>Orlando Magic</td>\n",
       "    </tr>\n",
       "    <tr>\n",
       "      <th>1216</th>\n",
       "      <td>Mon Apr 11 2016</td>\n",
       "      <td>Sacramento Kings</td>\n",
       "      <td>Phoenix Suns</td>\n",
       "    </tr>\n",
       "    <tr>\n",
       "      <th>1217</th>\n",
       "      <td>Mon Apr 11 2016</td>\n",
       "      <td>Dallas Mavericks</td>\n",
       "      <td>Utah Jazz</td>\n",
       "    </tr>\n",
       "    <tr>\n",
       "      <th>1218</th>\n",
       "      <td>Tue Apr 12 2016</td>\n",
       "      <td>Miami Heat</td>\n",
       "      <td>Detroit Pistons</td>\n",
       "    </tr>\n",
       "    <tr>\n",
       "      <th>1219</th>\n",
       "      <td>Tue Apr 12 2016</td>\n",
       "      <td>New York Knicks</td>\n",
       "      <td>Indiana Pacers</td>\n",
       "    </tr>\n",
       "    <tr>\n",
       "      <th>1220</th>\n",
       "      <td>Tue Apr 12 2016</td>\n",
       "      <td>Memphis Grizzlies</td>\n",
       "      <td>Los Angeles Clippers</td>\n",
       "    </tr>\n",
       "    <tr>\n",
       "      <th>1221</th>\n",
       "      <td>Tue Apr 12 2016</td>\n",
       "      <td>Oklahoma City Thunder</td>\n",
       "      <td>San Antonio Spurs</td>\n",
       "    </tr>\n",
       "    <tr>\n",
       "      <th>1222</th>\n",
       "      <td>Tue Apr 12 2016</td>\n",
       "      <td>Philadelphia 76ers</td>\n",
       "      <td>Toronto Raptors</td>\n",
       "    </tr>\n",
       "    <tr>\n",
       "      <th>1223</th>\n",
       "      <td>Wed Apr 13 2016</td>\n",
       "      <td>Miami Heat</td>\n",
       "      <td>Boston Celtics</td>\n",
       "    </tr>\n",
       "    <tr>\n",
       "      <th>1224</th>\n",
       "      <td>Wed Apr 13 2016</td>\n",
       "      <td>Toronto Raptors</td>\n",
       "      <td>Brooklyn Nets</td>\n",
       "    </tr>\n",
       "    <tr>\n",
       "      <th>1225</th>\n",
       "      <td>Wed Apr 13 2016</td>\n",
       "      <td>Philadelphia 76ers</td>\n",
       "      <td>Chicago Bulls</td>\n",
       "    </tr>\n",
       "    <tr>\n",
       "      <th>1226</th>\n",
       "      <td>Wed Apr 13 2016</td>\n",
       "      <td>Orlando Magic</td>\n",
       "      <td>Charlotte Hornets</td>\n",
       "    </tr>\n",
       "    <tr>\n",
       "      <th>1227</th>\n",
       "      <td>Wed Apr 13 2016</td>\n",
       "      <td>Detroit Pistons</td>\n",
       "      <td>Cleveland Cavaliers</td>\n",
       "    </tr>\n",
       "    <tr>\n",
       "      <th>1228</th>\n",
       "      <td>Wed Apr 13 2016</td>\n",
       "      <td>San Antonio Spurs</td>\n",
       "      <td>Dallas Mavericks</td>\n",
       "    </tr>\n",
       "    <tr>\n",
       "      <th>1229</th>\n",
       "      <td>Wed Apr 13 2016</td>\n",
       "      <td>Memphis Grizzlies</td>\n",
       "      <td>Golden State Warriors</td>\n",
       "    </tr>\n",
       "    <tr>\n",
       "      <th>1230</th>\n",
       "      <td>Wed Apr 13 2016</td>\n",
       "      <td>Sacramento Kings</td>\n",
       "      <td>Houston Rockets</td>\n",
       "    </tr>\n",
       "    <tr>\n",
       "      <th>1231</th>\n",
       "      <td>Wed Apr 13 2016</td>\n",
       "      <td>Utah Jazz</td>\n",
       "      <td>Los Angeles Lakers</td>\n",
       "    </tr>\n",
       "    <tr>\n",
       "      <th>1232</th>\n",
       "      <td>Wed Apr 13 2016</td>\n",
       "      <td>Indiana Pacers</td>\n",
       "      <td>Milwaukee Bucks</td>\n",
       "    </tr>\n",
       "    <tr>\n",
       "      <th>1233</th>\n",
       "      <td>Wed Apr 13 2016</td>\n",
       "      <td>New Orleans Pelicans</td>\n",
       "      <td>Minnesota Timberwolves</td>\n",
       "    </tr>\n",
       "    <tr>\n",
       "      <th>1234</th>\n",
       "      <td>Wed Apr 13 2016</td>\n",
       "      <td>Los Angeles Clippers</td>\n",
       "      <td>Phoenix Suns</td>\n",
       "    </tr>\n",
       "    <tr>\n",
       "      <th>1235</th>\n",
       "      <td>Wed Apr 13 2016</td>\n",
       "      <td>Denver Nuggets</td>\n",
       "      <td>Portland Trail Blazers</td>\n",
       "    </tr>\n",
       "    <tr>\n",
       "      <th>1236</th>\n",
       "      <td>Wed Apr 13 2016</td>\n",
       "      <td>Atlanta Hawks</td>\n",
       "      <td>Washington Wizards</td>\n",
       "    </tr>\n",
       "  </tbody>\n",
       "</table>\n",
       "<p>1230 rows × 3 columns</p>\n",
       "</div>"
      ],
      "text/plain": [
       "                 Date         Visitor/Neutral            Home/Neutral\n",
       "1     Tue Oct 27 2015         Detroit Pistons           Atlanta Hawks\n",
       "2     Tue Oct 27 2015     Cleveland Cavaliers           Chicago Bulls\n",
       "3     Tue Oct 27 2015    New Orleans Pelicans   Golden State Warriors\n",
       "4     Wed Oct 28 2015      Philadelphia 76ers          Boston Celtics\n",
       "5     Wed Oct 28 2015           Chicago Bulls           Brooklyn Nets\n",
       "6     Wed Oct 28 2015               Utah Jazz         Detroit Pistons\n",
       "7     Wed Oct 28 2015          Denver Nuggets         Houston Rockets\n",
       "8     Wed Oct 28 2015  Minnesota Timberwolves      Los Angeles Lakers\n",
       "9     Wed Oct 28 2015     Cleveland Cavaliers       Memphis Grizzlies\n",
       "10    Wed Oct 28 2015       Charlotte Hornets              Miami Heat\n",
       "11    Wed Oct 28 2015         New York Knicks         Milwaukee Bucks\n",
       "12    Wed Oct 28 2015       San Antonio Spurs   Oklahoma City Thunder\n",
       "13    Wed Oct 28 2015      Washington Wizards           Orlando Magic\n",
       "14    Wed Oct 28 2015        Dallas Mavericks            Phoenix Suns\n",
       "15    Wed Oct 28 2015    New Orleans Pelicans  Portland Trail Blazers\n",
       "16    Wed Oct 28 2015    Los Angeles Clippers        Sacramento Kings\n",
       "17    Wed Oct 28 2015          Indiana Pacers         Toronto Raptors\n",
       "18    Thu Oct 29 2015       Memphis Grizzlies          Indiana Pacers\n",
       "19    Thu Oct 29 2015        Dallas Mavericks    Los Angeles Clippers\n",
       "20    Thu Oct 29 2015           Atlanta Hawks         New York Knicks\n",
       "21    Fri Oct 30 2015       Charlotte Hornets           Atlanta Hawks\n",
       "22    Fri Oct 30 2015         Toronto Raptors          Boston Celtics\n",
       "23    Fri Oct 30 2015              Miami Heat     Cleveland Cavaliers\n",
       "24    Fri Oct 30 2015  Minnesota Timberwolves          Denver Nuggets\n",
       "25    Fri Oct 30 2015           Chicago Bulls         Detroit Pistons\n",
       "26    Fri Oct 30 2015   Golden State Warriors         Houston Rockets\n",
       "27    Fri Oct 30 2015      Washington Wizards         Milwaukee Bucks\n",
       "28    Fri Oct 30 2015   Oklahoma City Thunder           Orlando Magic\n",
       "29    Fri Oct 30 2015               Utah Jazz      Philadelphia 76ers\n",
       "30    Fri Oct 30 2015  Portland Trail Blazers            Phoenix Suns\n",
       "...               ...                     ...                     ...\n",
       "1207  Sun Apr 10 2016   Golden State Warriors       San Antonio Spurs\n",
       "1208  Sun Apr 10 2016       Charlotte Hornets      Washington Wizards\n",
       "1209  Mon Apr 11 2016       Charlotte Hornets          Boston Celtics\n",
       "1210  Mon Apr 11 2016      Washington Wizards           Brooklyn Nets\n",
       "1211  Mon Apr 11 2016           Atlanta Hawks     Cleveland Cavaliers\n",
       "1212  Mon Apr 11 2016         Houston Rockets  Minnesota Timberwolves\n",
       "1213  Mon Apr 11 2016           Chicago Bulls    New Orleans Pelicans\n",
       "1214  Mon Apr 11 2016      Los Angeles Lakers   Oklahoma City Thunder\n",
       "1215  Mon Apr 11 2016         Milwaukee Bucks           Orlando Magic\n",
       "1216  Mon Apr 11 2016        Sacramento Kings            Phoenix Suns\n",
       "1217  Mon Apr 11 2016        Dallas Mavericks               Utah Jazz\n",
       "1218  Tue Apr 12 2016              Miami Heat         Detroit Pistons\n",
       "1219  Tue Apr 12 2016         New York Knicks          Indiana Pacers\n",
       "1220  Tue Apr 12 2016       Memphis Grizzlies    Los Angeles Clippers\n",
       "1221  Tue Apr 12 2016   Oklahoma City Thunder       San Antonio Spurs\n",
       "1222  Tue Apr 12 2016      Philadelphia 76ers         Toronto Raptors\n",
       "1223  Wed Apr 13 2016              Miami Heat          Boston Celtics\n",
       "1224  Wed Apr 13 2016         Toronto Raptors           Brooklyn Nets\n",
       "1225  Wed Apr 13 2016      Philadelphia 76ers           Chicago Bulls\n",
       "1226  Wed Apr 13 2016           Orlando Magic       Charlotte Hornets\n",
       "1227  Wed Apr 13 2016         Detroit Pistons     Cleveland Cavaliers\n",
       "1228  Wed Apr 13 2016       San Antonio Spurs        Dallas Mavericks\n",
       "1229  Wed Apr 13 2016       Memphis Grizzlies   Golden State Warriors\n",
       "1230  Wed Apr 13 2016        Sacramento Kings         Houston Rockets\n",
       "1231  Wed Apr 13 2016               Utah Jazz      Los Angeles Lakers\n",
       "1232  Wed Apr 13 2016          Indiana Pacers         Milwaukee Bucks\n",
       "1233  Wed Apr 13 2016    New Orleans Pelicans  Minnesota Timberwolves\n",
       "1234  Wed Apr 13 2016    Los Angeles Clippers            Phoenix Suns\n",
       "1235  Wed Apr 13 2016          Denver Nuggets  Portland Trail Blazers\n",
       "1236  Wed Apr 13 2016           Atlanta Hawks      Washington Wizards\n",
       "\n",
       "[1230 rows x 3 columns]"
      ]
     },
     "execution_count": 123,
     "metadata": {},
     "output_type": "execute_result"
    }
   ],
   "source": [
    "df555"
   ]
  },
  {
   "cell_type": "code",
   "execution_count": 96,
   "metadata": {
    "_datascience": {},
    "collapsed": false
   },
   "outputs": [
    {
     "ename": "ValueError",
     "evalue": "The truth value of a Series is ambiguous. Use a.empty, a.bool(), a.item(), a.any() or a.all().",
     "output_type": "error",
     "traceback": [
      "\u001b[1;31m---------------------------------------------------------------------------\u001b[0m",
      "\u001b[1;31mValueError\u001b[0m                                Traceback (most recent call last)",
      "\u001b[1;32m<ipython-input-96-b3669ba73533>\u001b[0m in \u001b[0;36m<module>\u001b[1;34m()\u001b[0m\n\u001b[1;32m----> 1\u001b[1;33m \u001b[0mdf555\u001b[0m\u001b[1;33m[\u001b[0m\u001b[0mdf555\u001b[0m\u001b[1;33m.\u001b[0m\u001b[0mDate\u001b[0m \u001b[1;32min\u001b[0m \u001b[0mmonths\u001b[0m\u001b[1;33m]\u001b[0m\u001b[1;33m\u001b[0m\u001b[0m\n\u001b[0m",
      "\u001b[1;32m/usr/local/lib/python2.7/dist-packages/pandas/core/generic.pyc\u001b[0m in \u001b[0;36m__nonzero__\u001b[1;34m(self)\u001b[0m\n\u001b[0;32m    712\u001b[0m         raise ValueError(\"The truth value of a {0} is ambiguous. \"\n\u001b[0;32m    713\u001b[0m                          \u001b[1;34m\"Use a.empty, a.bool(), a.item(), a.any() or a.all().\"\u001b[0m\u001b[1;33m\u001b[0m\u001b[0m\n\u001b[1;32m--> 714\u001b[1;33m                          .format(self.__class__.__name__))\n\u001b[0m\u001b[0;32m    715\u001b[0m \u001b[1;33m\u001b[0m\u001b[0m\n\u001b[0;32m    716\u001b[0m     \u001b[0m__bool__\u001b[0m \u001b[1;33m=\u001b[0m \u001b[0m__nonzero__\u001b[0m\u001b[1;33m\u001b[0m\u001b[0m\n",
      "\u001b[1;31mValueError\u001b[0m: The truth value of a Series is ambiguous. Use a.empty, a.bool(), a.item(), a.any() or a.all()."
     ]
    }
   ],
   "source": [
    "df555[df555.Date in months]"
   ]
  },
  {
   "cell_type": "code",
   "execution_count": 95,
   "metadata": {
    "_datascience": {},
    "collapsed": false
   },
   "outputs": [
    {
     "name": "stdout",
     "output_type": "stream",
     "text": [
      "Date\n",
      "Visitor/Neutral\n",
      "Home/Neutral\n"
     ]
    }
   ],
   "source": [
    "for i in df555[:0]:\n",
    "    print i"
   ]
  },
  {
   "cell_type": "code",
   "execution_count": 91,
   "metadata": {
    "_datascience": {},
    "collapsed": false
   },
   "outputs": [
    {
     "ename": "KeyError",
     "evalue": "<pandas.core.indexing._IXIndexer object at 0x7f7ac70eb310>",
     "output_type": "error",
     "traceback": [
      "\u001b[1;31m---------------------------------------------------------------------------\u001b[0m",
      "\u001b[1;31mKeyError\u001b[0m                                  Traceback (most recent call last)",
      "\u001b[1;32m<ipython-input-91-c3bc2638e2d8>\u001b[0m in \u001b[0;36m<module>\u001b[1;34m()\u001b[0m\n\u001b[0;32m      1\u001b[0m \u001b[1;32mfor\u001b[0m \u001b[0mrow\u001b[0m \u001b[1;32min\u001b[0m \u001b[0mdf555\u001b[0m\u001b[1;33m.\u001b[0m\u001b[0mindex\u001b[0m\u001b[1;33m:\u001b[0m\u001b[1;33m\u001b[0m\u001b[0m\n\u001b[1;32m----> 2\u001b[1;33m     \u001b[1;32mif\u001b[0m \u001b[0mdf555\u001b[0m\u001b[1;33m[\u001b[0m\u001b[0mdf555\u001b[0m\u001b[1;33m.\u001b[0m\u001b[0mix\u001b[0m\u001b[1;33m(\u001b[0m\u001b[0mrow\u001b[0m\u001b[1;33m)\u001b[0m\u001b[1;33m]\u001b[0m\u001b[1;33m.\u001b[0m\u001b[0mDate\u001b[0m \u001b[1;32min\u001b[0m \u001b[0mmonths\u001b[0m\u001b[1;33m:\u001b[0m\u001b[1;33m\u001b[0m\u001b[0m\n\u001b[0m\u001b[0;32m      3\u001b[0m         \u001b[1;32mprint\u001b[0m \u001b[0mrow\u001b[0m\u001b[1;33m\u001b[0m\u001b[0m\n",
      "\u001b[1;32m/usr/local/lib/python2.7/dist-packages/pandas/core/frame.pyc\u001b[0m in \u001b[0;36m__getitem__\u001b[1;34m(self, key)\u001b[0m\n\u001b[0;32m   1789\u001b[0m             \u001b[1;32mreturn\u001b[0m \u001b[0mself\u001b[0m\u001b[1;33m.\u001b[0m\u001b[0m_getitem_multilevel\u001b[0m\u001b[1;33m(\u001b[0m\u001b[0mkey\u001b[0m\u001b[1;33m)\u001b[0m\u001b[1;33m\u001b[0m\u001b[0m\n\u001b[0;32m   1790\u001b[0m         \u001b[1;32melse\u001b[0m\u001b[1;33m:\u001b[0m\u001b[1;33m\u001b[0m\u001b[0m\n\u001b[1;32m-> 1791\u001b[1;33m             \u001b[1;32mreturn\u001b[0m \u001b[0mself\u001b[0m\u001b[1;33m.\u001b[0m\u001b[0m_getitem_column\u001b[0m\u001b[1;33m(\u001b[0m\u001b[0mkey\u001b[0m\u001b[1;33m)\u001b[0m\u001b[1;33m\u001b[0m\u001b[0m\n\u001b[0m\u001b[0;32m   1792\u001b[0m \u001b[1;33m\u001b[0m\u001b[0m\n\u001b[0;32m   1793\u001b[0m     \u001b[1;32mdef\u001b[0m \u001b[0m_getitem_column\u001b[0m\u001b[1;33m(\u001b[0m\u001b[0mself\u001b[0m\u001b[1;33m,\u001b[0m \u001b[0mkey\u001b[0m\u001b[1;33m)\u001b[0m\u001b[1;33m:\u001b[0m\u001b[1;33m\u001b[0m\u001b[0m\n",
      "\u001b[1;32m/usr/local/lib/python2.7/dist-packages/pandas/core/frame.pyc\u001b[0m in \u001b[0;36m_getitem_column\u001b[1;34m(self, key)\u001b[0m\n\u001b[0;32m   1796\u001b[0m         \u001b[1;31m# get column\u001b[0m\u001b[1;33m\u001b[0m\u001b[1;33m\u001b[0m\u001b[0m\n\u001b[0;32m   1797\u001b[0m         \u001b[1;32mif\u001b[0m \u001b[0mself\u001b[0m\u001b[1;33m.\u001b[0m\u001b[0mcolumns\u001b[0m\u001b[1;33m.\u001b[0m\u001b[0mis_unique\u001b[0m\u001b[1;33m:\u001b[0m\u001b[1;33m\u001b[0m\u001b[0m\n\u001b[1;32m-> 1798\u001b[1;33m             \u001b[1;32mreturn\u001b[0m \u001b[0mself\u001b[0m\u001b[1;33m.\u001b[0m\u001b[0m_get_item_cache\u001b[0m\u001b[1;33m(\u001b[0m\u001b[0mkey\u001b[0m\u001b[1;33m)\u001b[0m\u001b[1;33m\u001b[0m\u001b[0m\n\u001b[0m\u001b[0;32m   1799\u001b[0m \u001b[1;33m\u001b[0m\u001b[0m\n\u001b[0;32m   1800\u001b[0m         \u001b[1;31m# duplicate columns & possible reduce dimensionaility\u001b[0m\u001b[1;33m\u001b[0m\u001b[1;33m\u001b[0m\u001b[0m\n",
      "\u001b[1;32m/usr/local/lib/python2.7/dist-packages/pandas/core/generic.pyc\u001b[0m in \u001b[0;36m_get_item_cache\u001b[1;34m(self, item)\u001b[0m\n\u001b[0;32m   1082\u001b[0m         \u001b[0mres\u001b[0m \u001b[1;33m=\u001b[0m \u001b[0mcache\u001b[0m\u001b[1;33m.\u001b[0m\u001b[0mget\u001b[0m\u001b[1;33m(\u001b[0m\u001b[0mitem\u001b[0m\u001b[1;33m)\u001b[0m\u001b[1;33m\u001b[0m\u001b[0m\n\u001b[0;32m   1083\u001b[0m         \u001b[1;32mif\u001b[0m \u001b[0mres\u001b[0m \u001b[1;32mis\u001b[0m \u001b[0mNone\u001b[0m\u001b[1;33m:\u001b[0m\u001b[1;33m\u001b[0m\u001b[0m\n\u001b[1;32m-> 1084\u001b[1;33m             \u001b[0mvalues\u001b[0m \u001b[1;33m=\u001b[0m \u001b[0mself\u001b[0m\u001b[1;33m.\u001b[0m\u001b[0m_data\u001b[0m\u001b[1;33m.\u001b[0m\u001b[0mget\u001b[0m\u001b[1;33m(\u001b[0m\u001b[0mitem\u001b[0m\u001b[1;33m)\u001b[0m\u001b[1;33m\u001b[0m\u001b[0m\n\u001b[0m\u001b[0;32m   1085\u001b[0m             \u001b[0mres\u001b[0m \u001b[1;33m=\u001b[0m \u001b[0mself\u001b[0m\u001b[1;33m.\u001b[0m\u001b[0m_box_item_values\u001b[0m\u001b[1;33m(\u001b[0m\u001b[0mitem\u001b[0m\u001b[1;33m,\u001b[0m \u001b[0mvalues\u001b[0m\u001b[1;33m)\u001b[0m\u001b[1;33m\u001b[0m\u001b[0m\n\u001b[0;32m   1086\u001b[0m             \u001b[0mcache\u001b[0m\u001b[1;33m[\u001b[0m\u001b[0mitem\u001b[0m\u001b[1;33m]\u001b[0m \u001b[1;33m=\u001b[0m \u001b[0mres\u001b[0m\u001b[1;33m\u001b[0m\u001b[0m\n",
      "\u001b[1;32m/usr/local/lib/python2.7/dist-packages/pandas/core/internals.pyc\u001b[0m in \u001b[0;36mget\u001b[1;34m(self, item, fastpath)\u001b[0m\n\u001b[0;32m   2849\u001b[0m \u001b[1;33m\u001b[0m\u001b[0m\n\u001b[0;32m   2850\u001b[0m             \u001b[1;32mif\u001b[0m \u001b[1;32mnot\u001b[0m \u001b[0misnull\u001b[0m\u001b[1;33m(\u001b[0m\u001b[0mitem\u001b[0m\u001b[1;33m)\u001b[0m\u001b[1;33m:\u001b[0m\u001b[1;33m\u001b[0m\u001b[0m\n\u001b[1;32m-> 2851\u001b[1;33m                 \u001b[0mloc\u001b[0m \u001b[1;33m=\u001b[0m \u001b[0mself\u001b[0m\u001b[1;33m.\u001b[0m\u001b[0mitems\u001b[0m\u001b[1;33m.\u001b[0m\u001b[0mget_loc\u001b[0m\u001b[1;33m(\u001b[0m\u001b[0mitem\u001b[0m\u001b[1;33m)\u001b[0m\u001b[1;33m\u001b[0m\u001b[0m\n\u001b[0m\u001b[0;32m   2852\u001b[0m             \u001b[1;32melse\u001b[0m\u001b[1;33m:\u001b[0m\u001b[1;33m\u001b[0m\u001b[0m\n\u001b[0;32m   2853\u001b[0m                 \u001b[0mindexer\u001b[0m \u001b[1;33m=\u001b[0m \u001b[0mnp\u001b[0m\u001b[1;33m.\u001b[0m\u001b[0marange\u001b[0m\u001b[1;33m(\u001b[0m\u001b[0mlen\u001b[0m\u001b[1;33m(\u001b[0m\u001b[0mself\u001b[0m\u001b[1;33m.\u001b[0m\u001b[0mitems\u001b[0m\u001b[1;33m)\u001b[0m\u001b[1;33m)\u001b[0m\u001b[1;33m[\u001b[0m\u001b[0misnull\u001b[0m\u001b[1;33m(\u001b[0m\u001b[0mself\u001b[0m\u001b[1;33m.\u001b[0m\u001b[0mitems\u001b[0m\u001b[1;33m)\u001b[0m\u001b[1;33m]\u001b[0m\u001b[1;33m\u001b[0m\u001b[0m\n",
      "\u001b[1;32m/usr/local/lib/python2.7/dist-packages/pandas/core/index.pyc\u001b[0m in \u001b[0;36mget_loc\u001b[1;34m(self, key, method)\u001b[0m\n\u001b[0;32m   1576\u001b[0m         \"\"\"\n\u001b[0;32m   1577\u001b[0m         \u001b[1;32mif\u001b[0m \u001b[0mmethod\u001b[0m \u001b[1;32mis\u001b[0m \u001b[0mNone\u001b[0m\u001b[1;33m:\u001b[0m\u001b[1;33m\u001b[0m\u001b[0m\n\u001b[1;32m-> 1578\u001b[1;33m             \u001b[1;32mreturn\u001b[0m \u001b[0mself\u001b[0m\u001b[1;33m.\u001b[0m\u001b[0m_engine\u001b[0m\u001b[1;33m.\u001b[0m\u001b[0mget_loc\u001b[0m\u001b[1;33m(\u001b[0m\u001b[0m_values_from_object\u001b[0m\u001b[1;33m(\u001b[0m\u001b[0mkey\u001b[0m\u001b[1;33m)\u001b[0m\u001b[1;33m)\u001b[0m\u001b[1;33m\u001b[0m\u001b[0m\n\u001b[0m\u001b[0;32m   1579\u001b[0m \u001b[1;33m\u001b[0m\u001b[0m\n\u001b[0;32m   1580\u001b[0m         \u001b[0mindexer\u001b[0m \u001b[1;33m=\u001b[0m \u001b[0mself\u001b[0m\u001b[1;33m.\u001b[0m\u001b[0mget_indexer\u001b[0m\u001b[1;33m(\u001b[0m\u001b[1;33m[\u001b[0m\u001b[0mkey\u001b[0m\u001b[1;33m]\u001b[0m\u001b[1;33m,\u001b[0m \u001b[0mmethod\u001b[0m\u001b[1;33m=\u001b[0m\u001b[0mmethod\u001b[0m\u001b[1;33m)\u001b[0m\u001b[1;33m\u001b[0m\u001b[0m\n",
      "\u001b[1;32mpandas/index.pyx\u001b[0m in \u001b[0;36mpandas.index.IndexEngine.get_loc (pandas/index.c:3824)\u001b[1;34m()\u001b[0m\n",
      "\u001b[1;32mpandas/index.pyx\u001b[0m in \u001b[0;36mpandas.index.IndexEngine.get_loc (pandas/index.c:3704)\u001b[1;34m()\u001b[0m\n",
      "\u001b[1;32mpandas/hashtable.pyx\u001b[0m in \u001b[0;36mpandas.hashtable.PyObjectHashTable.get_item (pandas/hashtable.c:12349)\u001b[1;34m()\u001b[0m\n",
      "\u001b[1;32mpandas/hashtable.pyx\u001b[0m in \u001b[0;36mpandas.hashtable.PyObjectHashTable.get_item (pandas/hashtable.c:12300)\u001b[1;34m()\u001b[0m\n",
      "\u001b[1;31mKeyError\u001b[0m: <pandas.core.indexing._IXIndexer object at 0x7f7ac70eb310>"
     ]
    }
   ],
   "source": [
    "for row in df555a.index:\n",
    "    "
   ]
  },
  {
   "cell_type": "markdown",
   "metadata": {
    "_datascience": {}
   },
   "source": [
    "## Where to get schedules\n",
    "\n",
    "* [NBA 2013-2014 Schedule and Results](http://www.basketball-reference.com/leagues/NBA_2014_games.html)"
   ]
  },
  {
   "cell_type": "code",
   "execution_count": 94,
   "metadata": {
    "_datascience": {},
    "collapsed": false
   },
   "outputs": [],
   "source": [
    "df.columns = [\"Visitor\",\"Home\"]"
   ]
  },
  {
   "cell_type": "code",
   "execution_count": 96,
   "metadata": {
    "_datascience": {},
    "collapsed": false
   },
   "outputs": [],
   "source": [
    "df.to_pickle(\"data/schedule/reg_season_schedule_2013_2014_2015.p\")"
   ]
  },
  {
   "cell_type": "markdown",
   "metadata": {
    "_datascience": {}
   },
   "source": [
    "## Load and combine all 3 schedules"
   ]
  },
  {
   "cell_type": "code",
   "execution_count": 86,
   "metadata": {
    "_datascience": {},
    "collapsed": false
   },
   "outputs": [],
   "source": [
    "# Load 3 frames\n",
    "d3.to_csv(\"data/schedule/schedule_20132014_regularseason_fixed.csv\")\n",
    "d4.to_csv(\"data/schedule/schedule_20142015_regularseason_fixed.csv\")\n",
    "d5.to_csv(\"data/schedule/schedule_20142015_regularseason_fixed.csv\")\n"
   ]
  },
  {
   "cell_type": "code",
   "execution_count": 87,
   "metadata": {
    "_datascience": {},
    "collapsed": false
   },
   "outputs": [],
   "source": [
    "frames = [d3,d4,d5]"
   ]
  },
  {
   "cell_type": "code",
   "execution_count": 89,
   "metadata": {
    "_datascience": {},
    "collapsed": false
   },
   "outputs": [],
   "source": [
    "df = pd.concat(frames)"
   ]
  },
  {
   "cell_type": "code",
   "execution_count": 92,
   "metadata": {
    "_datascience": {},
    "collapsed": false
   },
   "outputs": [],
   "source": [
    "df = df.sort_index()"
   ]
  },
  {
   "cell_type": "code",
   "execution_count": null,
   "metadata": {
    "_datascience": {},
    "collapsed": true
   },
   "outputs": [],
   "source": []
  },
  {
   "cell_type": "code",
   "execution_count": null,
   "metadata": {
    "_datascience": {},
    "collapsed": true
   },
   "outputs": [],
   "source": []
  },
  {
   "cell_type": "markdown",
   "metadata": {
    "_datascience": {}
   },
   "source": [
    "# Background Functions"
   ]
  },
  {
   "cell_type": "code",
   "execution_count": 424,
   "metadata": {
    "_datascience": {},
    "collapsed": false
   },
   "outputs": [],
   "source": [
    "# Update Teams in Arguments\n",
    "period_args = hp.init_args\n",
    "period_args.update({\"TeamID\":team_id,\"OpponentTeamID\":opponent_id})"
   ]
  },
  {
   "cell_type": "code",
   "execution_count": 443,
   "metadata": {
    "_datascience": {},
    "collapsed": true
   },
   "outputs": [
    {
     "name": "stdout",
     "output_type": "stream",
     "text": [
      "Base\n",
      "http://stats.nba.com/stats/leaguedashteamstats?PlusMinus=N&GameScope=&TeamID=1610612746&Location=&StarterBench=&ShotClockRange=&SeasonType=Regular+Season&Division=&Season=2014-15&PaceAdjust=N&DateFrom=1-10-2015&PlayerPosition=&VsConference=&OpponentTeamID=1610612742&DateTo=1-10-2015&GameSegment=&LastNGames=0&PlayerExperience=&VsDivision=&LeagueID=00&Outcome=&MeasureType=Base&PORound=0&PerMode=Totals&SeasonSegment=&Period=1&Rank=N&Month=0\n",
      "<Response [200]>\n",
      "[]\n",
      "[u'W', u'MIN', u'TOV', 'Period', 'TeamID', u'REB', u'TEAM_NAME', u'W_PCT', u'FG3A', u'AST', u'PLUS_MINUS', 'DateFrom', u'FG3M', u'OREB', u'FGM', u'PF', u'PTS', u'FGA', 'OpponentTeamID', u'CFPARAMS', u'STL', 'DateTo', u'L', u'FTA', u'BLK', u'GP', u'DREB', u'FTM', u'FT_PCT', 'MeasureType', u'PFD', u'FG_PCT', u'CFID', u'TEAM_ID', u'FG3_PCT', u'BLKA']\n",
      "initializing periodframe\n",
      "Advanced\n",
      "http://stats.nba.com/stats/leaguedashteamstats?PlusMinus=N&GameScope=&TeamID=1610612746&Location=&StarterBench=&ShotClockRange=&SeasonType=Regular+Season&Division=&Season=2014-15&PaceAdjust=N&DateFrom=1-10-2015&PlayerPosition=&VsConference=&OpponentTeamID=1610612742&DateTo=1-10-2015&GameSegment=&LastNGames=0&PlayerExperience=&VsDivision=&LeagueID=00&Outcome=&MeasureType=Advanced&PORound=0&PerMode=Totals&SeasonSegment=&Period=1&Rank=N&Month=0\n",
      "<Response [200]>\n",
      "[u'TEAM_ID', u'TEAM_NAME', u'GP', u'W', u'L', u'W_PCT', u'MIN', u'FGM', u'FGA', u'FG_PCT', u'FG3M', u'FG3A', u'FG3_PCT', u'FTM', u'FTA', u'FT_PCT', u'OREB', u'DREB', u'REB', u'AST', u'TOV', u'STL', u'BLK', u'BLKA', u'PF', u'PFD', u'PTS', u'PLUS_MINUS', u'CFID', u'CFPARAMS', 'MeasureType', 'OpponentTeamID', 'DateTo', 'DateFrom', 'Period', 'TeamID']\n",
      "[u'TS_PCT', u'EFG_PCT', u'DEF_RATING', u'OFF_RATING', u'NET_RATING', u'PIE', u'AST_TO', u'PACE', u'OREB_PCT', u'REB_PCT', u'TM_TOV_PCT', u'AST_RATIO', u'AST_PCT', u'DREB_PCT']\n",
      "Misc\n",
      "http://stats.nba.com/stats/leaguedashteamstats?PlusMinus=N&GameScope=&TeamID=1610612746&Location=&StarterBench=&ShotClockRange=&SeasonType=Regular+Season&Division=&Season=2014-15&PaceAdjust=N&DateFrom=1-10-2015&PlayerPosition=&VsConference=&OpponentTeamID=1610612742&DateTo=1-10-2015&GameSegment=&LastNGames=0&PlayerExperience=&VsDivision=&LeagueID=00&Outcome=&MeasureType=Misc&PORound=0&PerMode=Totals&SeasonSegment=&Period=1&Rank=N&Month=0\n",
      "<Response [200]>\n",
      "[u'TEAM_ID', u'TEAM_NAME', u'GP', u'W', u'L', u'W_PCT', u'MIN', u'FGM', u'FGA', u'FG_PCT', u'FG3M', u'FG3A', u'FG3_PCT', u'FTM', u'FTA', u'FT_PCT', u'OREB', u'DREB', u'REB', u'AST', u'TOV', u'STL', u'BLK', u'BLKA', u'PF', u'PFD', u'PTS', u'PLUS_MINUS', u'CFID', u'CFPARAMS', 'MeasureType', 'OpponentTeamID', 'DateTo', 'DateFrom', 'Period', 'TeamID', u'TS_PCT', u'EFG_PCT', u'DEF_RATING', u'OFF_RATING', u'NET_RATING', u'PIE', u'AST_TO', u'PACE', u'OREB_PCT', u'REB_PCT', u'TM_TOV_PCT', u'AST_RATIO', u'AST_PCT', u'DREB_PCT']\n",
      "[u'PTS_OFF_TOV', u'PTS_FB', u'OPP_PTS_FB', u'PTS_2ND_CHANCE', u'OPP_PTS_2ND_CHANCE', u'OPP_PTS_OFF_TOV', u'PTS_PAINT', u'OPP_PTS_PAINT']\n",
      "Four Factors\n",
      "http://stats.nba.com/stats/leaguedashteamstats?PlusMinus=N&GameScope=&TeamID=1610612746&Location=&StarterBench=&ShotClockRange=&SeasonType=Regular+Season&Division=&Season=2014-15&PaceAdjust=N&DateFrom=1-10-2015&PlayerPosition=&VsConference=&OpponentTeamID=1610612742&DateTo=1-10-2015&GameSegment=&LastNGames=0&PlayerExperience=&VsDivision=&LeagueID=00&Outcome=&MeasureType=Four+Factors&PORound=0&PerMode=Totals&SeasonSegment=&Period=1&Rank=N&Month=0\n",
      "<Response [200]>\n",
      "[u'TEAM_ID', u'TEAM_NAME', u'GP', u'W', u'L', u'W_PCT', u'MIN', u'FGM', u'FGA', u'FG_PCT', u'FG3M', u'FG3A', u'FG3_PCT', u'FTM', u'FTA', u'FT_PCT', u'OREB', u'DREB', u'REB', u'AST', u'TOV', u'STL', u'BLK', u'BLKA', u'PF', u'PFD', u'PTS', u'PLUS_MINUS', u'CFID', u'CFPARAMS', 'MeasureType', 'OpponentTeamID', 'DateTo', 'DateFrom', 'Period', 'TeamID', u'TS_PCT', u'EFG_PCT', u'DEF_RATING', u'OFF_RATING', u'NET_RATING', u'PIE', u'AST_TO', u'PACE', u'OREB_PCT', u'REB_PCT', u'TM_TOV_PCT', u'AST_RATIO', u'AST_PCT', u'DREB_PCT', u'PTS_OFF_TOV', u'PTS_FB', u'OPP_PTS_FB', u'PTS_2ND_CHANCE', u'OPP_PTS_2ND_CHANCE', u'OPP_PTS_OFF_TOV', u'PTS_PAINT', u'OPP_PTS_PAINT']\n",
      "[u'FTA_RATE', u'OPP_EFG_PCT', u'OPP_FTA_RATE', u'OPP_OREB_PCT', u'OPP_TOV_PCT']\n",
      "Scoring\n",
      "http://stats.nba.com/stats/leaguedashteamstats?PlusMinus=N&GameScope=&TeamID=1610612746&Location=&StarterBench=&ShotClockRange=&SeasonType=Regular+Season&Division=&Season=2014-15&PaceAdjust=N&DateFrom=1-10-2015&PlayerPosition=&VsConference=&OpponentTeamID=1610612742&DateTo=1-10-2015&GameSegment=&LastNGames=0&PlayerExperience=&VsDivision=&LeagueID=00&Outcome=&MeasureType=Scoring&PORound=0&PerMode=Totals&SeasonSegment=&Period=1&Rank=N&Month=0\n",
      "<Response [200]>\n",
      "[u'TEAM_ID', u'TEAM_NAME', u'GP', u'W', u'L', u'W_PCT', u'MIN', u'FGM', u'FGA', u'FG_PCT', u'FG3M', u'FG3A', u'FG3_PCT', u'FTM', u'FTA', u'FT_PCT', u'OREB', u'DREB', u'REB', u'AST', u'TOV', u'STL', u'BLK', u'BLKA', u'PF', u'PFD', u'PTS', u'PLUS_MINUS', u'CFID', u'CFPARAMS', 'MeasureType', 'OpponentTeamID', 'DateTo', 'DateFrom', 'Period', 'TeamID', u'TS_PCT', u'EFG_PCT', u'DEF_RATING', u'OFF_RATING', u'NET_RATING', u'PIE', u'AST_TO', u'PACE', u'OREB_PCT', u'REB_PCT', u'TM_TOV_PCT', u'AST_RATIO', u'AST_PCT', u'DREB_PCT', u'PTS_OFF_TOV', u'PTS_FB', u'OPP_PTS_FB', u'PTS_2ND_CHANCE', u'OPP_PTS_2ND_CHANCE', u'OPP_PTS_OFF_TOV', u'PTS_PAINT', u'OPP_PTS_PAINT', u'FTA_RATE', u'OPP_EFG_PCT', u'OPP_FTA_RATE', u'OPP_OREB_PCT', u'OPP_TOV_PCT']\n",
      "[u'PCT_AST_FGM', u'PCT_PTS_FB', u'PCT_PTS_2PT', u'PCT_AST_3PM', u'PCT_UAST_FGM', u'PCT_AST_2PM', u'PCT_FGA_3PT', u'PCT_FGA_2PT', u'PCT_PTS_2PT_MR', u'PCT_PTS_FT', u'PCT_UAST_3PM', u'PCT_PTS_3PT', u'PCT_PTS_PAINT', u'PCT_PTS_OFF_TOV', u'PCT_UAST_2PM']\n",
      "Opponent\n",
      "http://stats.nba.com/stats/leaguedashteamstats?PlusMinus=N&GameScope=&TeamID=1610612746&Location=&StarterBench=&ShotClockRange=&SeasonType=Regular+Season&Division=&Season=2014-15&PaceAdjust=N&DateFrom=1-10-2015&PlayerPosition=&VsConference=&OpponentTeamID=1610612742&DateTo=1-10-2015&GameSegment=&LastNGames=0&PlayerExperience=&VsDivision=&LeagueID=00&Outcome=&MeasureType=Opponent&PORound=0&PerMode=Totals&SeasonSegment=&Period=1&Rank=N&Month=0\n",
      "<Response [200]>\n",
      "[u'TEAM_ID', u'TEAM_NAME', u'GP', u'W', u'L', u'W_PCT', u'MIN', u'FGM', u'FGA', u'FG_PCT', u'FG3M', u'FG3A', u'FG3_PCT', u'FTM', u'FTA', u'FT_PCT', u'OREB', u'DREB', u'REB', u'AST', u'TOV', u'STL', u'BLK', u'BLKA', u'PF', u'PFD', u'PTS', u'PLUS_MINUS', u'CFID', u'CFPARAMS', 'MeasureType', 'OpponentTeamID', 'DateTo', 'DateFrom', 'Period', 'TeamID', u'TS_PCT', u'EFG_PCT', u'DEF_RATING', u'OFF_RATING', u'NET_RATING', u'PIE', u'AST_TO', u'PACE', u'OREB_PCT', u'REB_PCT', u'TM_TOV_PCT', u'AST_RATIO', u'AST_PCT', u'DREB_PCT', u'PTS_OFF_TOV', u'PTS_FB', u'OPP_PTS_FB', u'PTS_2ND_CHANCE', u'OPP_PTS_2ND_CHANCE', u'OPP_PTS_OFF_TOV', u'PTS_PAINT', u'OPP_PTS_PAINT', u'FTA_RATE', u'OPP_EFG_PCT', u'OPP_FTA_RATE', u'OPP_OREB_PCT', u'OPP_TOV_PCT', u'PCT_AST_FGM', u'PCT_PTS_FB', u'PCT_PTS_2PT', u'PCT_AST_3PM', u'PCT_UAST_FGM', u'PCT_AST_2PM', u'PCT_FGA_3PT', u'PCT_FGA_2PT', u'PCT_PTS_2PT_MR', u'PCT_PTS_FT', u'PCT_UAST_3PM', u'PCT_PTS_3PT', u'PCT_PTS_PAINT', u'PCT_PTS_OFF_TOV', u'PCT_UAST_2PM']\n",
      "[u'OPP_BLKA', u'OPP_TOV', u'OPP_FTA', u'OPP_BLK', u'OPP_FG3_PCT', u'OPP_REB', u'OPP_FGM', u'OPP_PF', u'OPP_PFD', u'OPP_FG_PCT', u'OPP_FT_PCT', u'OPP_STL', u'OPP_FG3A', u'OPP_PTS', u'OPP_AST', u'OPP_FGA', u'OPP_OREB', u'OPP_DREB', u'OPP_FTM', u'OPP_FG3M']\n",
      "Base\n",
      "http://stats.nba.com/stats/leaguedashteamstats?PlusMinus=N&GameScope=&TeamID=1610612746&Location=&StarterBench=&ShotClockRange=&SeasonType=Regular+Season&Division=&Season=2014-15&PaceAdjust=N&DateFrom=1-10-2015&PlayerPosition=&VsConference=&OpponentTeamID=1610612742&DateTo=1-10-2015&GameSegment=&LastNGames=0&PlayerExperience=&VsDivision=&LeagueID=00&Outcome=&MeasureType=Base&PORound=0&PerMode=Totals&SeasonSegment=&Period=2&Rank=N&Month=0\n",
      "<Response [200]>\n",
      "[]\n",
      "[u'W', u'MIN', u'TOV', 'Period', 'TeamID', u'REB', u'TEAM_NAME', u'W_PCT', u'FG3A', u'AST', u'PLUS_MINUS', 'DateFrom', u'FG3M', u'OREB', u'FGM', u'PF', u'PTS', u'FGA', 'OpponentTeamID', u'CFPARAMS', u'STL', 'DateTo', u'L', u'FTA', u'BLK', u'GP', u'DREB', u'FTM', u'FT_PCT', 'MeasureType', u'PFD', u'FG_PCT', u'CFID', u'TEAM_ID', u'FG3_PCT', u'BLKA']\n",
      "initializing periodframe\n",
      "Advanced\n",
      "http://stats.nba.com/stats/leaguedashteamstats?PlusMinus=N&GameScope=&TeamID=1610612746&Location=&StarterBench=&ShotClockRange=&SeasonType=Regular+Season&Division=&Season=2014-15&PaceAdjust=N&DateFrom=1-10-2015&PlayerPosition=&VsConference=&OpponentTeamID=1610612742&DateTo=1-10-2015&GameSegment=&LastNGames=0&PlayerExperience=&VsDivision=&LeagueID=00&Outcome=&MeasureType=Advanced&PORound=0&PerMode=Totals&SeasonSegment=&Period=2&Rank=N&Month=0\n",
      "<Response [200]>\n",
      "[u'TEAM_ID', u'TEAM_NAME', u'GP', u'W', u'L', u'W_PCT', u'MIN', u'FGM', u'FGA', u'FG_PCT', u'FG3M', u'FG3A', u'FG3_PCT', u'FTM', u'FTA', u'FT_PCT', u'OREB', u'DREB', u'REB', u'AST', u'TOV', u'STL', u'BLK', u'BLKA', u'PF', u'PFD', u'PTS', u'PLUS_MINUS', u'CFID', u'CFPARAMS', 'MeasureType', 'OpponentTeamID', 'DateTo', 'DateFrom', 'Period', 'TeamID']\n",
      "[u'TS_PCT', u'EFG_PCT', u'DEF_RATING', u'OFF_RATING', u'NET_RATING', u'PIE', u'AST_TO', u'PACE', u'OREB_PCT', u'REB_PCT', u'TM_TOV_PCT', u'AST_RATIO', u'AST_PCT', u'DREB_PCT']\n",
      "Misc\n",
      "http://stats.nba.com/stats/leaguedashteamstats?PlusMinus=N&GameScope=&TeamID=1610612746&Location=&StarterBench=&ShotClockRange=&SeasonType=Regular+Season&Division=&Season=2014-15&PaceAdjust=N&DateFrom=1-10-2015&PlayerPosition=&VsConference=&OpponentTeamID=1610612742&DateTo=1-10-2015&GameSegment=&LastNGames=0&PlayerExperience=&VsDivision=&LeagueID=00&Outcome=&MeasureType=Misc&PORound=0&PerMode=Totals&SeasonSegment=&Period=2&Rank=N&Month=0\n",
      "<Response [200]>\n",
      "[u'TEAM_ID', u'TEAM_NAME', u'GP', u'W', u'L', u'W_PCT', u'MIN', u'FGM', u'FGA', u'FG_PCT', u'FG3M', u'FG3A', u'FG3_PCT', u'FTM', u'FTA', u'FT_PCT', u'OREB', u'DREB', u'REB', u'AST', u'TOV', u'STL', u'BLK', u'BLKA', u'PF', u'PFD', u'PTS', u'PLUS_MINUS', u'CFID', u'CFPARAMS', 'MeasureType', 'OpponentTeamID', 'DateTo', 'DateFrom', 'Period', 'TeamID', u'TS_PCT', u'EFG_PCT', u'DEF_RATING', u'OFF_RATING', u'NET_RATING', u'PIE', u'AST_TO', u'PACE', u'OREB_PCT', u'REB_PCT', u'TM_TOV_PCT', u'AST_RATIO', u'AST_PCT', u'DREB_PCT']\n",
      "[u'PTS_OFF_TOV', u'PTS_FB', u'OPP_PTS_FB', u'PTS_2ND_CHANCE', u'OPP_PTS_2ND_CHANCE', u'OPP_PTS_OFF_TOV', u'PTS_PAINT', u'OPP_PTS_PAINT']\n",
      "Four Factors\n",
      "http://stats.nba.com/stats/leaguedashteamstats?PlusMinus=N&GameScope=&TeamID=1610612746&Location=&StarterBench=&ShotClockRange=&SeasonType=Regular+Season&Division=&Season=2014-15&PaceAdjust=N&DateFrom=1-10-2015&PlayerPosition=&VsConference=&OpponentTeamID=1610612742&DateTo=1-10-2015&GameSegment=&LastNGames=0&PlayerExperience=&VsDivision=&LeagueID=00&Outcome=&MeasureType=Four+Factors&PORound=0&PerMode=Totals&SeasonSegment=&Period=2&Rank=N&Month=0\n",
      "<Response [200]>\n",
      "[u'TEAM_ID', u'TEAM_NAME', u'GP', u'W', u'L', u'W_PCT', u'MIN', u'FGM', u'FGA', u'FG_PCT', u'FG3M', u'FG3A', u'FG3_PCT', u'FTM', u'FTA', u'FT_PCT', u'OREB', u'DREB', u'REB', u'AST', u'TOV', u'STL', u'BLK', u'BLKA', u'PF', u'PFD', u'PTS', u'PLUS_MINUS', u'CFID', u'CFPARAMS', 'MeasureType', 'OpponentTeamID', 'DateTo', 'DateFrom', 'Period', 'TeamID', u'TS_PCT', u'EFG_PCT', u'DEF_RATING', u'OFF_RATING', u'NET_RATING', u'PIE', u'AST_TO', u'PACE', u'OREB_PCT', u'REB_PCT', u'TM_TOV_PCT', u'AST_RATIO', u'AST_PCT', u'DREB_PCT', u'PTS_OFF_TOV', u'PTS_FB', u'OPP_PTS_FB', u'PTS_2ND_CHANCE', u'OPP_PTS_2ND_CHANCE', u'OPP_PTS_OFF_TOV', u'PTS_PAINT', u'OPP_PTS_PAINT']\n",
      "[u'FTA_RATE', u'OPP_EFG_PCT', u'OPP_FTA_RATE', u'OPP_OREB_PCT', u'OPP_TOV_PCT']\n",
      "Scoring\n",
      "http://stats.nba.com/stats/leaguedashteamstats?PlusMinus=N&GameScope=&TeamID=1610612746&Location=&StarterBench=&ShotClockRange=&SeasonType=Regular+Season&Division=&Season=2014-15&PaceAdjust=N&DateFrom=1-10-2015&PlayerPosition=&VsConference=&OpponentTeamID=1610612742&DateTo=1-10-2015&GameSegment=&LastNGames=0&PlayerExperience=&VsDivision=&LeagueID=00&Outcome=&MeasureType=Scoring&PORound=0&PerMode=Totals&SeasonSegment=&Period=2&Rank=N&Month=0\n",
      "<Response [200]>\n",
      "[u'TEAM_ID', u'TEAM_NAME', u'GP', u'W', u'L', u'W_PCT', u'MIN', u'FGM', u'FGA', u'FG_PCT', u'FG3M', u'FG3A', u'FG3_PCT', u'FTM', u'FTA', u'FT_PCT', u'OREB', u'DREB', u'REB', u'AST', u'TOV', u'STL', u'BLK', u'BLKA', u'PF', u'PFD', u'PTS', u'PLUS_MINUS', u'CFID', u'CFPARAMS', 'MeasureType', 'OpponentTeamID', 'DateTo', 'DateFrom', 'Period', 'TeamID', u'TS_PCT', u'EFG_PCT', u'DEF_RATING', u'OFF_RATING', u'NET_RATING', u'PIE', u'AST_TO', u'PACE', u'OREB_PCT', u'REB_PCT', u'TM_TOV_PCT', u'AST_RATIO', u'AST_PCT', u'DREB_PCT', u'PTS_OFF_TOV', u'PTS_FB', u'OPP_PTS_FB', u'PTS_2ND_CHANCE', u'OPP_PTS_2ND_CHANCE', u'OPP_PTS_OFF_TOV', u'PTS_PAINT', u'OPP_PTS_PAINT', u'FTA_RATE', u'OPP_EFG_PCT', u'OPP_FTA_RATE', u'OPP_OREB_PCT', u'OPP_TOV_PCT']\n",
      "[u'PCT_AST_FGM', u'PCT_PTS_FB', u'PCT_PTS_2PT', u'PCT_AST_3PM', u'PCT_UAST_FGM', u'PCT_AST_2PM', u'PCT_FGA_3PT', u'PCT_FGA_2PT', u'PCT_PTS_2PT_MR', u'PCT_PTS_FT', u'PCT_UAST_3PM', u'PCT_PTS_3PT', u'PCT_PTS_PAINT', u'PCT_PTS_OFF_TOV', u'PCT_UAST_2PM']\n",
      "Opponent\n",
      "http://stats.nba.com/stats/leaguedashteamstats?PlusMinus=N&GameScope=&TeamID=1610612746&Location=&StarterBench=&ShotClockRange=&SeasonType=Regular+Season&Division=&Season=2014-15&PaceAdjust=N&DateFrom=1-10-2015&PlayerPosition=&VsConference=&OpponentTeamID=1610612742&DateTo=1-10-2015&GameSegment=&LastNGames=0&PlayerExperience=&VsDivision=&LeagueID=00&Outcome=&MeasureType=Opponent&PORound=0&PerMode=Totals&SeasonSegment=&Period=2&Rank=N&Month=0\n",
      "<Response [200]>\n",
      "[u'TEAM_ID', u'TEAM_NAME', u'GP', u'W', u'L', u'W_PCT', u'MIN', u'FGM', u'FGA', u'FG_PCT', u'FG3M', u'FG3A', u'FG3_PCT', u'FTM', u'FTA', u'FT_PCT', u'OREB', u'DREB', u'REB', u'AST', u'TOV', u'STL', u'BLK', u'BLKA', u'PF', u'PFD', u'PTS', u'PLUS_MINUS', u'CFID', u'CFPARAMS', 'MeasureType', 'OpponentTeamID', 'DateTo', 'DateFrom', 'Period', 'TeamID', u'TS_PCT', u'EFG_PCT', u'DEF_RATING', u'OFF_RATING', u'NET_RATING', u'PIE', u'AST_TO', u'PACE', u'OREB_PCT', u'REB_PCT', u'TM_TOV_PCT', u'AST_RATIO', u'AST_PCT', u'DREB_PCT', u'PTS_OFF_TOV', u'PTS_FB', u'OPP_PTS_FB', u'PTS_2ND_CHANCE', u'OPP_PTS_2ND_CHANCE', u'OPP_PTS_OFF_TOV', u'PTS_PAINT', u'OPP_PTS_PAINT', u'FTA_RATE', u'OPP_EFG_PCT', u'OPP_FTA_RATE', u'OPP_OREB_PCT', u'OPP_TOV_PCT', u'PCT_AST_FGM', u'PCT_PTS_FB', u'PCT_PTS_2PT', u'PCT_AST_3PM', u'PCT_UAST_FGM', u'PCT_AST_2PM', u'PCT_FGA_3PT', u'PCT_FGA_2PT', u'PCT_PTS_2PT_MR', u'PCT_PTS_FT', u'PCT_UAST_3PM', u'PCT_PTS_3PT', u'PCT_PTS_PAINT', u'PCT_PTS_OFF_TOV', u'PCT_UAST_2PM']\n",
      "[u'OPP_BLKA', u'OPP_TOV', u'OPP_FTA', u'OPP_BLK', u'OPP_FG3_PCT', u'OPP_REB', u'OPP_FGM', u'OPP_PF', u'OPP_PFD', u'OPP_FG_PCT', u'OPP_FT_PCT', u'OPP_STL', u'OPP_FG3A', u'OPP_PTS', u'OPP_AST', u'OPP_FGA', u'OPP_OREB', u'OPP_DREB', u'OPP_FTM', u'OPP_FG3M']\n",
      "Base\n",
      "http://stats.nba.com/stats/leaguedashteamstats?PlusMinus=N&GameScope=&TeamID=1610612746&Location=&StarterBench=&ShotClockRange=&SeasonType=Regular+Season&Division=&Season=2014-15&PaceAdjust=N&DateFrom=1-10-2015&PlayerPosition=&VsConference=&OpponentTeamID=1610612742&DateTo=1-10-2015&GameSegment=&LastNGames=0&PlayerExperience=&VsDivision=&LeagueID=00&Outcome=&MeasureType=Base&PORound=0&PerMode=Totals&SeasonSegment=&Period=3&Rank=N&Month=0\n",
      "<Response [200]>\n",
      "[]\n",
      "[u'W', u'MIN', u'TOV', 'Period', 'TeamID', u'REB', u'TEAM_NAME', u'W_PCT', u'FG3A', u'AST', u'PLUS_MINUS', 'DateFrom', u'FG3M', u'OREB', u'FGM', u'PF', u'PTS', u'FGA', 'OpponentTeamID', u'CFPARAMS', u'STL', 'DateTo', u'L', u'FTA', u'BLK', u'GP', u'DREB', u'FTM', u'FT_PCT', 'MeasureType', u'PFD', u'FG_PCT', u'CFID', u'TEAM_ID', u'FG3_PCT', u'BLKA']\n",
      "initializing periodframe\n",
      "Advanced\n",
      "http://stats.nba.com/stats/leaguedashteamstats?PlusMinus=N&GameScope=&TeamID=1610612746&Location=&StarterBench=&ShotClockRange=&SeasonType=Regular+Season&Division=&Season=2014-15&PaceAdjust=N&DateFrom=1-10-2015&PlayerPosition=&VsConference=&OpponentTeamID=1610612742&DateTo=1-10-2015&GameSegment=&LastNGames=0&PlayerExperience=&VsDivision=&LeagueID=00&Outcome=&MeasureType=Advanced&PORound=0&PerMode=Totals&SeasonSegment=&Period=3&Rank=N&Month=0\n",
      "<Response [200]>\n",
      "[u'TEAM_ID', u'TEAM_NAME', u'GP', u'W', u'L', u'W_PCT', u'MIN', u'FGM', u'FGA', u'FG_PCT', u'FG3M', u'FG3A', u'FG3_PCT', u'FTM', u'FTA', u'FT_PCT', u'OREB', u'DREB', u'REB', u'AST', u'TOV', u'STL', u'BLK', u'BLKA', u'PF', u'PFD', u'PTS', u'PLUS_MINUS', u'CFID', u'CFPARAMS', 'MeasureType', 'OpponentTeamID', 'DateTo', 'DateFrom', 'Period', 'TeamID']\n",
      "[u'TS_PCT', u'EFG_PCT', u'DEF_RATING', u'OFF_RATING', u'NET_RATING', u'PIE', u'AST_TO', u'PACE', u'OREB_PCT', u'REB_PCT', u'TM_TOV_PCT', u'AST_RATIO', u'AST_PCT', u'DREB_PCT']\n",
      "Misc\n",
      "http://stats.nba.com/stats/leaguedashteamstats?PlusMinus=N&GameScope=&TeamID=1610612746&Location=&StarterBench=&ShotClockRange=&SeasonType=Regular+Season&Division=&Season=2014-15&PaceAdjust=N&DateFrom=1-10-2015&PlayerPosition=&VsConference=&OpponentTeamID=1610612742&DateTo=1-10-2015&GameSegment=&LastNGames=0&PlayerExperience=&VsDivision=&LeagueID=00&Outcome=&MeasureType=Misc&PORound=0&PerMode=Totals&SeasonSegment=&Period=3&Rank=N&Month=0\n",
      "<Response [200]>\n",
      "[u'TEAM_ID', u'TEAM_NAME', u'GP', u'W', u'L', u'W_PCT', u'MIN', u'FGM', u'FGA', u'FG_PCT', u'FG3M', u'FG3A', u'FG3_PCT', u'FTM', u'FTA', u'FT_PCT', u'OREB', u'DREB', u'REB', u'AST', u'TOV', u'STL', u'BLK', u'BLKA', u'PF', u'PFD', u'PTS', u'PLUS_MINUS', u'CFID', u'CFPARAMS', 'MeasureType', 'OpponentTeamID', 'DateTo', 'DateFrom', 'Period', 'TeamID', u'TS_PCT', u'EFG_PCT', u'DEF_RATING', u'OFF_RATING', u'NET_RATING', u'PIE', u'AST_TO', u'PACE', u'OREB_PCT', u'REB_PCT', u'TM_TOV_PCT', u'AST_RATIO', u'AST_PCT', u'DREB_PCT']\n",
      "[u'PTS_OFF_TOV', u'PTS_FB', u'OPP_PTS_FB', u'PTS_2ND_CHANCE', u'OPP_PTS_2ND_CHANCE', u'OPP_PTS_OFF_TOV', u'PTS_PAINT', u'OPP_PTS_PAINT']\n",
      "Four Factors\n",
      "http://stats.nba.com/stats/leaguedashteamstats?PlusMinus=N&GameScope=&TeamID=1610612746&Location=&StarterBench=&ShotClockRange=&SeasonType=Regular+Season&Division=&Season=2014-15&PaceAdjust=N&DateFrom=1-10-2015&PlayerPosition=&VsConference=&OpponentTeamID=1610612742&DateTo=1-10-2015&GameSegment=&LastNGames=0&PlayerExperience=&VsDivision=&LeagueID=00&Outcome=&MeasureType=Four+Factors&PORound=0&PerMode=Totals&SeasonSegment=&Period=3&Rank=N&Month=0\n",
      "<Response [200]>\n",
      "[u'TEAM_ID', u'TEAM_NAME', u'GP', u'W', u'L', u'W_PCT', u'MIN', u'FGM', u'FGA', u'FG_PCT', u'FG3M', u'FG3A', u'FG3_PCT', u'FTM', u'FTA', u'FT_PCT', u'OREB', u'DREB', u'REB', u'AST', u'TOV', u'STL', u'BLK', u'BLKA', u'PF', u'PFD', u'PTS', u'PLUS_MINUS', u'CFID', u'CFPARAMS', 'MeasureType', 'OpponentTeamID', 'DateTo', 'DateFrom', 'Period', 'TeamID', u'TS_PCT', u'EFG_PCT', u'DEF_RATING', u'OFF_RATING', u'NET_RATING', u'PIE', u'AST_TO', u'PACE', u'OREB_PCT', u'REB_PCT', u'TM_TOV_PCT', u'AST_RATIO', u'AST_PCT', u'DREB_PCT', u'PTS_OFF_TOV', u'PTS_FB', u'OPP_PTS_FB', u'PTS_2ND_CHANCE', u'OPP_PTS_2ND_CHANCE', u'OPP_PTS_OFF_TOV', u'PTS_PAINT', u'OPP_PTS_PAINT']\n",
      "[u'FTA_RATE', u'OPP_EFG_PCT', u'OPP_FTA_RATE', u'OPP_OREB_PCT', u'OPP_TOV_PCT']\n",
      "Scoring\n",
      "http://stats.nba.com/stats/leaguedashteamstats?PlusMinus=N&GameScope=&TeamID=1610612746&Location=&StarterBench=&ShotClockRange=&SeasonType=Regular+Season&Division=&Season=2014-15&PaceAdjust=N&DateFrom=1-10-2015&PlayerPosition=&VsConference=&OpponentTeamID=1610612742&DateTo=1-10-2015&GameSegment=&LastNGames=0&PlayerExperience=&VsDivision=&LeagueID=00&Outcome=&MeasureType=Scoring&PORound=0&PerMode=Totals&SeasonSegment=&Period=3&Rank=N&Month=0\n",
      "<Response [200]>\n",
      "[u'TEAM_ID', u'TEAM_NAME', u'GP', u'W', u'L', u'W_PCT', u'MIN', u'FGM', u'FGA', u'FG_PCT', u'FG3M', u'FG3A', u'FG3_PCT', u'FTM', u'FTA', u'FT_PCT', u'OREB', u'DREB', u'REB', u'AST', u'TOV', u'STL', u'BLK', u'BLKA', u'PF', u'PFD', u'PTS', u'PLUS_MINUS', u'CFID', u'CFPARAMS', 'MeasureType', 'OpponentTeamID', 'DateTo', 'DateFrom', 'Period', 'TeamID', u'TS_PCT', u'EFG_PCT', u'DEF_RATING', u'OFF_RATING', u'NET_RATING', u'PIE', u'AST_TO', u'PACE', u'OREB_PCT', u'REB_PCT', u'TM_TOV_PCT', u'AST_RATIO', u'AST_PCT', u'DREB_PCT', u'PTS_OFF_TOV', u'PTS_FB', u'OPP_PTS_FB', u'PTS_2ND_CHANCE', u'OPP_PTS_2ND_CHANCE', u'OPP_PTS_OFF_TOV', u'PTS_PAINT', u'OPP_PTS_PAINT', u'FTA_RATE', u'OPP_EFG_PCT', u'OPP_FTA_RATE', u'OPP_OREB_PCT', u'OPP_TOV_PCT']\n",
      "[u'PCT_AST_FGM', u'PCT_PTS_FB', u'PCT_PTS_2PT', u'PCT_AST_3PM', u'PCT_UAST_FGM', u'PCT_AST_2PM', u'PCT_FGA_3PT', u'PCT_FGA_2PT', u'PCT_PTS_2PT_MR', u'PCT_PTS_FT', u'PCT_UAST_3PM', u'PCT_PTS_3PT', u'PCT_PTS_PAINT', u'PCT_PTS_OFF_TOV', u'PCT_UAST_2PM']\n",
      "Opponent\n",
      "http://stats.nba.com/stats/leaguedashteamstats?PlusMinus=N&GameScope=&TeamID=1610612746&Location=&StarterBench=&ShotClockRange=&SeasonType=Regular+Season&Division=&Season=2014-15&PaceAdjust=N&DateFrom=1-10-2015&PlayerPosition=&VsConference=&OpponentTeamID=1610612742&DateTo=1-10-2015&GameSegment=&LastNGames=0&PlayerExperience=&VsDivision=&LeagueID=00&Outcome=&MeasureType=Opponent&PORound=0&PerMode=Totals&SeasonSegment=&Period=3&Rank=N&Month=0\n",
      "<Response [200]>\n",
      "[u'TEAM_ID', u'TEAM_NAME', u'GP', u'W', u'L', u'W_PCT', u'MIN', u'FGM', u'FGA', u'FG_PCT', u'FG3M', u'FG3A', u'FG3_PCT', u'FTM', u'FTA', u'FT_PCT', u'OREB', u'DREB', u'REB', u'AST', u'TOV', u'STL', u'BLK', u'BLKA', u'PF', u'PFD', u'PTS', u'PLUS_MINUS', u'CFID', u'CFPARAMS', 'MeasureType', 'OpponentTeamID', 'DateTo', 'DateFrom', 'Period', 'TeamID', u'TS_PCT', u'EFG_PCT', u'DEF_RATING', u'OFF_RATING', u'NET_RATING', u'PIE', u'AST_TO', u'PACE', u'OREB_PCT', u'REB_PCT', u'TM_TOV_PCT', u'AST_RATIO', u'AST_PCT', u'DREB_PCT', u'PTS_OFF_TOV', u'PTS_FB', u'OPP_PTS_FB', u'PTS_2ND_CHANCE', u'OPP_PTS_2ND_CHANCE', u'OPP_PTS_OFF_TOV', u'PTS_PAINT', u'OPP_PTS_PAINT', u'FTA_RATE', u'OPP_EFG_PCT', u'OPP_FTA_RATE', u'OPP_OREB_PCT', u'OPP_TOV_PCT', u'PCT_AST_FGM', u'PCT_PTS_FB', u'PCT_PTS_2PT', u'PCT_AST_3PM', u'PCT_UAST_FGM', u'PCT_AST_2PM', u'PCT_FGA_3PT', u'PCT_FGA_2PT', u'PCT_PTS_2PT_MR', u'PCT_PTS_FT', u'PCT_UAST_3PM', u'PCT_PTS_3PT', u'PCT_PTS_PAINT', u'PCT_PTS_OFF_TOV', u'PCT_UAST_2PM']\n",
      "[u'OPP_BLKA', u'OPP_TOV', u'OPP_FTA', u'OPP_BLK', u'OPP_FG3_PCT', u'OPP_REB', u'OPP_FGM', u'OPP_PF', u'OPP_PFD', u'OPP_FG_PCT', u'OPP_FT_PCT', u'OPP_STL', u'OPP_FG3A', u'OPP_PTS', u'OPP_AST', u'OPP_FGA', u'OPP_OREB', u'OPP_DREB', u'OPP_FTM', u'OPP_FG3M']\n",
      "Base\n",
      "http://stats.nba.com/stats/leaguedashteamstats?PlusMinus=N&GameScope=&TeamID=1610612746&Location=&StarterBench=&ShotClockRange=&SeasonType=Regular+Season&Division=&Season=2014-15&PaceAdjust=N&DateFrom=1-10-2015&PlayerPosition=&VsConference=&OpponentTeamID=1610612742&DateTo=1-10-2015&GameSegment=&LastNGames=0&PlayerExperience=&VsDivision=&LeagueID=00&Outcome=&MeasureType=Base&PORound=0&PerMode=Totals&SeasonSegment=&Period=4&Rank=N&Month=0\n",
      "<Response [200]>\n",
      "[]\n",
      "[u'W', u'MIN', u'TOV', 'Period', 'TeamID', u'REB', u'TEAM_NAME', u'W_PCT', u'FG3A', u'AST', u'PLUS_MINUS', 'DateFrom', u'FG3M', u'OREB', u'FGM', u'PF', u'PTS', u'FGA', 'OpponentTeamID', u'CFPARAMS', u'STL', 'DateTo', u'L', u'FTA', u'BLK', u'GP', u'DREB', u'FTM', u'FT_PCT', 'MeasureType', u'PFD', u'FG_PCT', u'CFID', u'TEAM_ID', u'FG3_PCT', u'BLKA']\n",
      "initializing periodframe\n",
      "Advanced\n",
      "http://stats.nba.com/stats/leaguedashteamstats?PlusMinus=N&GameScope=&TeamID=1610612746&Location=&StarterBench=&ShotClockRange=&SeasonType=Regular+Season&Division=&Season=2014-15&PaceAdjust=N&DateFrom=1-10-2015&PlayerPosition=&VsConference=&OpponentTeamID=1610612742&DateTo=1-10-2015&GameSegment=&LastNGames=0&PlayerExperience=&VsDivision=&LeagueID=00&Outcome=&MeasureType=Advanced&PORound=0&PerMode=Totals&SeasonSegment=&Period=4&Rank=N&Month=0\n",
      "<Response [200]>\n",
      "[u'TEAM_ID', u'TEAM_NAME', u'GP', u'W', u'L', u'W_PCT', u'MIN', u'FGM', u'FGA', u'FG_PCT', u'FG3M', u'FG3A', u'FG3_PCT', u'FTM', u'FTA', u'FT_PCT', u'OREB', u'DREB', u'REB', u'AST', u'TOV', u'STL', u'BLK', u'BLKA', u'PF', u'PFD', u'PTS', u'PLUS_MINUS', u'CFID', u'CFPARAMS', 'MeasureType', 'OpponentTeamID', 'DateTo', 'DateFrom', 'Period', 'TeamID']\n",
      "[u'TS_PCT', u'EFG_PCT', u'DEF_RATING', u'OFF_RATING', u'NET_RATING', u'PIE', u'AST_TO', u'PACE', u'OREB_PCT', u'REB_PCT', u'TM_TOV_PCT', u'AST_RATIO', u'AST_PCT', u'DREB_PCT']\n",
      "Misc\n",
      "http://stats.nba.com/stats/leaguedashteamstats?PlusMinus=N&GameScope=&TeamID=1610612746&Location=&StarterBench=&ShotClockRange=&SeasonType=Regular+Season&Division=&Season=2014-15&PaceAdjust=N&DateFrom=1-10-2015&PlayerPosition=&VsConference=&OpponentTeamID=1610612742&DateTo=1-10-2015&GameSegment=&LastNGames=0&PlayerExperience=&VsDivision=&LeagueID=00&Outcome=&MeasureType=Misc&PORound=0&PerMode=Totals&SeasonSegment=&Period=4&Rank=N&Month=0\n",
      "<Response [200]>\n",
      "[u'TEAM_ID', u'TEAM_NAME', u'GP', u'W', u'L', u'W_PCT', u'MIN', u'FGM', u'FGA', u'FG_PCT', u'FG3M', u'FG3A', u'FG3_PCT', u'FTM', u'FTA', u'FT_PCT', u'OREB', u'DREB', u'REB', u'AST', u'TOV', u'STL', u'BLK', u'BLKA', u'PF', u'PFD', u'PTS', u'PLUS_MINUS', u'CFID', u'CFPARAMS', 'MeasureType', 'OpponentTeamID', 'DateTo', 'DateFrom', 'Period', 'TeamID', u'TS_PCT', u'EFG_PCT', u'DEF_RATING', u'OFF_RATING', u'NET_RATING', u'PIE', u'AST_TO', u'PACE', u'OREB_PCT', u'REB_PCT', u'TM_TOV_PCT', u'AST_RATIO', u'AST_PCT', u'DREB_PCT']\n",
      "[u'PTS_OFF_TOV', u'PTS_FB', u'OPP_PTS_FB', u'PTS_2ND_CHANCE', u'OPP_PTS_2ND_CHANCE', u'OPP_PTS_OFF_TOV', u'PTS_PAINT', u'OPP_PTS_PAINT']\n",
      "Four Factors\n",
      "http://stats.nba.com/stats/leaguedashteamstats?PlusMinus=N&GameScope=&TeamID=1610612746&Location=&StarterBench=&ShotClockRange=&SeasonType=Regular+Season&Division=&Season=2014-15&PaceAdjust=N&DateFrom=1-10-2015&PlayerPosition=&VsConference=&OpponentTeamID=1610612742&DateTo=1-10-2015&GameSegment=&LastNGames=0&PlayerExperience=&VsDivision=&LeagueID=00&Outcome=&MeasureType=Four+Factors&PORound=0&PerMode=Totals&SeasonSegment=&Period=4&Rank=N&Month=0\n",
      "<Response [200]>\n",
      "[u'TEAM_ID', u'TEAM_NAME', u'GP', u'W', u'L', u'W_PCT', u'MIN', u'FGM', u'FGA', u'FG_PCT', u'FG3M', u'FG3A', u'FG3_PCT', u'FTM', u'FTA', u'FT_PCT', u'OREB', u'DREB', u'REB', u'AST', u'TOV', u'STL', u'BLK', u'BLKA', u'PF', u'PFD', u'PTS', u'PLUS_MINUS', u'CFID', u'CFPARAMS', 'MeasureType', 'OpponentTeamID', 'DateTo', 'DateFrom', 'Period', 'TeamID', u'TS_PCT', u'EFG_PCT', u'DEF_RATING', u'OFF_RATING', u'NET_RATING', u'PIE', u'AST_TO', u'PACE', u'OREB_PCT', u'REB_PCT', u'TM_TOV_PCT', u'AST_RATIO', u'AST_PCT', u'DREB_PCT', u'PTS_OFF_TOV', u'PTS_FB', u'OPP_PTS_FB', u'PTS_2ND_CHANCE', u'OPP_PTS_2ND_CHANCE', u'OPP_PTS_OFF_TOV', u'PTS_PAINT', u'OPP_PTS_PAINT']\n",
      "[u'FTA_RATE', u'OPP_EFG_PCT', u'OPP_FTA_RATE', u'OPP_OREB_PCT', u'OPP_TOV_PCT']\n",
      "Scoring\n",
      "http://stats.nba.com/stats/leaguedashteamstats?PlusMinus=N&GameScope=&TeamID=1610612746&Location=&StarterBench=&ShotClockRange=&SeasonType=Regular+Season&Division=&Season=2014-15&PaceAdjust=N&DateFrom=1-10-2015&PlayerPosition=&VsConference=&OpponentTeamID=1610612742&DateTo=1-10-2015&GameSegment=&LastNGames=0&PlayerExperience=&VsDivision=&LeagueID=00&Outcome=&MeasureType=Scoring&PORound=0&PerMode=Totals&SeasonSegment=&Period=4&Rank=N&Month=0\n",
      "<Response [200]>\n",
      "[u'TEAM_ID', u'TEAM_NAME', u'GP', u'W', u'L', u'W_PCT', u'MIN', u'FGM', u'FGA', u'FG_PCT', u'FG3M', u'FG3A', u'FG3_PCT', u'FTM', u'FTA', u'FT_PCT', u'OREB', u'DREB', u'REB', u'AST', u'TOV', u'STL', u'BLK', u'BLKA', u'PF', u'PFD', u'PTS', u'PLUS_MINUS', u'CFID', u'CFPARAMS', 'MeasureType', 'OpponentTeamID', 'DateTo', 'DateFrom', 'Period', 'TeamID', u'TS_PCT', u'EFG_PCT', u'DEF_RATING', u'OFF_RATING', u'NET_RATING', u'PIE', u'AST_TO', u'PACE', u'OREB_PCT', u'REB_PCT', u'TM_TOV_PCT', u'AST_RATIO', u'AST_PCT', u'DREB_PCT', u'PTS_OFF_TOV', u'PTS_FB', u'OPP_PTS_FB', u'PTS_2ND_CHANCE', u'OPP_PTS_2ND_CHANCE', u'OPP_PTS_OFF_TOV', u'PTS_PAINT', u'OPP_PTS_PAINT', u'FTA_RATE', u'OPP_EFG_PCT', u'OPP_FTA_RATE', u'OPP_OREB_PCT', u'OPP_TOV_PCT']\n",
      "[u'PCT_AST_FGM', u'PCT_PTS_FB', u'PCT_PTS_2PT', u'PCT_AST_3PM', u'PCT_UAST_FGM', u'PCT_AST_2PM', u'PCT_FGA_3PT', u'PCT_FGA_2PT', u'PCT_PTS_2PT_MR', u'PCT_PTS_FT', u'PCT_UAST_3PM', u'PCT_PTS_3PT', u'PCT_PTS_PAINT', u'PCT_PTS_OFF_TOV', u'PCT_UAST_2PM']\n",
      "Opponent\n",
      "http://stats.nba.com/stats/leaguedashteamstats?PlusMinus=N&GameScope=&TeamID=1610612746&Location=&StarterBench=&ShotClockRange=&SeasonType=Regular+Season&Division=&Season=2014-15&PaceAdjust=N&DateFrom=1-10-2015&PlayerPosition=&VsConference=&OpponentTeamID=1610612742&DateTo=1-10-2015&GameSegment=&LastNGames=0&PlayerExperience=&VsDivision=&LeagueID=00&Outcome=&MeasureType=Opponent&PORound=0&PerMode=Totals&SeasonSegment=&Period=4&Rank=N&Month=0\n",
      "<Response [200]>\n",
      "[u'TEAM_ID', u'TEAM_NAME', u'GP', u'W', u'L', u'W_PCT', u'MIN', u'FGM', u'FGA', u'FG_PCT', u'FG3M', u'FG3A', u'FG3_PCT', u'FTM', u'FTA', u'FT_PCT', u'OREB', u'DREB', u'REB', u'AST', u'TOV', u'STL', u'BLK', u'BLKA', u'PF', u'PFD', u'PTS', u'PLUS_MINUS', u'CFID', u'CFPARAMS', 'MeasureType', 'OpponentTeamID', 'DateTo', 'DateFrom', 'Period', 'TeamID', u'TS_PCT', u'EFG_PCT', u'DEF_RATING', u'OFF_RATING', u'NET_RATING', u'PIE', u'AST_TO', u'PACE', u'OREB_PCT', u'REB_PCT', u'TM_TOV_PCT', u'AST_RATIO', u'AST_PCT', u'DREB_PCT', u'PTS_OFF_TOV', u'PTS_FB', u'OPP_PTS_FB', u'PTS_2ND_CHANCE', u'OPP_PTS_2ND_CHANCE', u'OPP_PTS_OFF_TOV', u'PTS_PAINT', u'OPP_PTS_PAINT', u'FTA_RATE', u'OPP_EFG_PCT', u'OPP_FTA_RATE', u'OPP_OREB_PCT', u'OPP_TOV_PCT', u'PCT_AST_FGM', u'PCT_PTS_FB', u'PCT_PTS_2PT', u'PCT_AST_3PM', u'PCT_UAST_FGM', u'PCT_AST_2PM', u'PCT_FGA_3PT', u'PCT_FGA_2PT', u'PCT_PTS_2PT_MR', u'PCT_PTS_FT', u'PCT_UAST_3PM', u'PCT_PTS_3PT', u'PCT_PTS_PAINT', u'PCT_PTS_OFF_TOV', u'PCT_UAST_2PM']\n",
      "[u'OPP_BLKA', u'OPP_TOV', u'OPP_FTA', u'OPP_BLK', u'OPP_FG3_PCT', u'OPP_REB', u'OPP_FGM', u'OPP_PF', u'OPP_PFD', u'OPP_FG_PCT', u'OPP_FT_PCT', u'OPP_STL', u'OPP_FG3A', u'OPP_PTS', u'OPP_AST', u'OPP_FGA', u'OPP_OREB', u'OPP_DREB', u'OPP_FTM', u'OPP_FG3M']\n",
      "Base\n",
      "http://stats.nba.com/stats/leaguedashteamstats?PlusMinus=N&GameScope=&TeamID=1610612746&Location=&StarterBench=&ShotClockRange=&SeasonType=Regular+Season&Division=&Season=2014-15&PaceAdjust=N&DateFrom=2-9-2015&PlayerPosition=&VsConference=&OpponentTeamID=1610612742&DateTo=2-9-2015&GameSegment=&LastNGames=0&PlayerExperience=&VsDivision=&LeagueID=00&Outcome=&MeasureType=Base&PORound=0&PerMode=Totals&SeasonSegment=&Period=1&Rank=N&Month=0\n",
      "<Response [200]>\n",
      "[]\n",
      "[u'W', u'MIN', u'TOV', 'Period', 'TeamID', u'REB', u'TEAM_NAME', u'W_PCT', u'FG3A', u'AST', u'PLUS_MINUS', 'DateFrom', u'FG3M', u'OREB', u'FGM', u'PF', u'PTS', u'FGA', 'OpponentTeamID', u'CFPARAMS', u'STL', 'DateTo', u'L', u'FTA', u'BLK', u'GP', u'DREB', u'FTM', u'FT_PCT', 'MeasureType', u'PFD', u'FG_PCT', u'CFID', u'TEAM_ID', u'FG3_PCT', u'BLKA']\n",
      "initializing periodframe\n",
      "Advanced\n",
      "http://stats.nba.com/stats/leaguedashteamstats?PlusMinus=N&GameScope=&TeamID=1610612746&Location=&StarterBench=&ShotClockRange=&SeasonType=Regular+Season&Division=&Season=2014-15&PaceAdjust=N&DateFrom=2-9-2015&PlayerPosition=&VsConference=&OpponentTeamID=1610612742&DateTo=2-9-2015&GameSegment=&LastNGames=0&PlayerExperience=&VsDivision=&LeagueID=00&Outcome=&MeasureType=Advanced&PORound=0&PerMode=Totals&SeasonSegment=&Period=1&Rank=N&Month=0\n",
      "<Response [200]>\n",
      "[u'TEAM_ID', u'TEAM_NAME', u'GP', u'W', u'L', u'W_PCT', u'MIN', u'FGM', u'FGA', u'FG_PCT', u'FG3M', u'FG3A', u'FG3_PCT', u'FTM', u'FTA', u'FT_PCT', u'OREB', u'DREB', u'REB', u'AST', u'TOV', u'STL', u'BLK', u'BLKA', u'PF', u'PFD', u'PTS', u'PLUS_MINUS', u'CFID', u'CFPARAMS', 'MeasureType', 'OpponentTeamID', 'DateTo', 'DateFrom', 'Period', 'TeamID']\n",
      "[u'TS_PCT', u'EFG_PCT', u'DEF_RATING', u'OFF_RATING', u'NET_RATING', u'PIE', u'AST_TO', u'PACE', u'OREB_PCT', u'REB_PCT', u'TM_TOV_PCT', u'AST_RATIO', u'AST_PCT', u'DREB_PCT']\n",
      "Misc\n",
      "http://stats.nba.com/stats/leaguedashteamstats?PlusMinus=N&GameScope=&TeamID=1610612746&Location=&StarterBench=&ShotClockRange=&SeasonType=Regular+Season&Division=&Season=2014-15&PaceAdjust=N&DateFrom=2-9-2015&PlayerPosition=&VsConference=&OpponentTeamID=1610612742&DateTo=2-9-2015&GameSegment=&LastNGames=0&PlayerExperience=&VsDivision=&LeagueID=00&Outcome=&MeasureType=Misc&PORound=0&PerMode=Totals&SeasonSegment=&Period=1&Rank=N&Month=0\n",
      "<Response [200]>\n",
      "[u'TEAM_ID', u'TEAM_NAME', u'GP', u'W', u'L', u'W_PCT', u'MIN', u'FGM', u'FGA', u'FG_PCT', u'FG3M', u'FG3A', u'FG3_PCT', u'FTM', u'FTA', u'FT_PCT', u'OREB', u'DREB', u'REB', u'AST', u'TOV', u'STL', u'BLK', u'BLKA', u'PF', u'PFD', u'PTS', u'PLUS_MINUS', u'CFID', u'CFPARAMS', 'MeasureType', 'OpponentTeamID', 'DateTo', 'DateFrom', 'Period', 'TeamID', u'TS_PCT', u'EFG_PCT', u'DEF_RATING', u'OFF_RATING', u'NET_RATING', u'PIE', u'AST_TO', u'PACE', u'OREB_PCT', u'REB_PCT', u'TM_TOV_PCT', u'AST_RATIO', u'AST_PCT', u'DREB_PCT']\n",
      "[u'PTS_OFF_TOV', u'PTS_FB', u'OPP_PTS_FB', u'PTS_2ND_CHANCE', u'OPP_PTS_2ND_CHANCE', u'OPP_PTS_OFF_TOV', u'PTS_PAINT', u'OPP_PTS_PAINT']\n",
      "Four Factors\n",
      "http://stats.nba.com/stats/leaguedashteamstats?PlusMinus=N&GameScope=&TeamID=1610612746&Location=&StarterBench=&ShotClockRange=&SeasonType=Regular+Season&Division=&Season=2014-15&PaceAdjust=N&DateFrom=2-9-2015&PlayerPosition=&VsConference=&OpponentTeamID=1610612742&DateTo=2-9-2015&GameSegment=&LastNGames=0&PlayerExperience=&VsDivision=&LeagueID=00&Outcome=&MeasureType=Four+Factors&PORound=0&PerMode=Totals&SeasonSegment=&Period=1&Rank=N&Month=0\n",
      "<Response [200]>\n",
      "[u'TEAM_ID', u'TEAM_NAME', u'GP', u'W', u'L', u'W_PCT', u'MIN', u'FGM', u'FGA', u'FG_PCT', u'FG3M', u'FG3A', u'FG3_PCT', u'FTM', u'FTA', u'FT_PCT', u'OREB', u'DREB', u'REB', u'AST', u'TOV', u'STL', u'BLK', u'BLKA', u'PF', u'PFD', u'PTS', u'PLUS_MINUS', u'CFID', u'CFPARAMS', 'MeasureType', 'OpponentTeamID', 'DateTo', 'DateFrom', 'Period', 'TeamID', u'TS_PCT', u'EFG_PCT', u'DEF_RATING', u'OFF_RATING', u'NET_RATING', u'PIE', u'AST_TO', u'PACE', u'OREB_PCT', u'REB_PCT', u'TM_TOV_PCT', u'AST_RATIO', u'AST_PCT', u'DREB_PCT', u'PTS_OFF_TOV', u'PTS_FB', u'OPP_PTS_FB', u'PTS_2ND_CHANCE', u'OPP_PTS_2ND_CHANCE', u'OPP_PTS_OFF_TOV', u'PTS_PAINT', u'OPP_PTS_PAINT']\n",
      "[u'FTA_RATE', u'OPP_EFG_PCT', u'OPP_FTA_RATE', u'OPP_OREB_PCT', u'OPP_TOV_PCT']\n",
      "Scoring\n",
      "http://stats.nba.com/stats/leaguedashteamstats?PlusMinus=N&GameScope=&TeamID=1610612746&Location=&StarterBench=&ShotClockRange=&SeasonType=Regular+Season&Division=&Season=2014-15&PaceAdjust=N&DateFrom=2-9-2015&PlayerPosition=&VsConference=&OpponentTeamID=1610612742&DateTo=2-9-2015&GameSegment=&LastNGames=0&PlayerExperience=&VsDivision=&LeagueID=00&Outcome=&MeasureType=Scoring&PORound=0&PerMode=Totals&SeasonSegment=&Period=1&Rank=N&Month=0\n",
      "<Response [200]>\n",
      "[u'TEAM_ID', u'TEAM_NAME', u'GP', u'W', u'L', u'W_PCT', u'MIN', u'FGM', u'FGA', u'FG_PCT', u'FG3M', u'FG3A', u'FG3_PCT', u'FTM', u'FTA', u'FT_PCT', u'OREB', u'DREB', u'REB', u'AST', u'TOV', u'STL', u'BLK', u'BLKA', u'PF', u'PFD', u'PTS', u'PLUS_MINUS', u'CFID', u'CFPARAMS', 'MeasureType', 'OpponentTeamID', 'DateTo', 'DateFrom', 'Period', 'TeamID', u'TS_PCT', u'EFG_PCT', u'DEF_RATING', u'OFF_RATING', u'NET_RATING', u'PIE', u'AST_TO', u'PACE', u'OREB_PCT', u'REB_PCT', u'TM_TOV_PCT', u'AST_RATIO', u'AST_PCT', u'DREB_PCT', u'PTS_OFF_TOV', u'PTS_FB', u'OPP_PTS_FB', u'PTS_2ND_CHANCE', u'OPP_PTS_2ND_CHANCE', u'OPP_PTS_OFF_TOV', u'PTS_PAINT', u'OPP_PTS_PAINT', u'FTA_RATE', u'OPP_EFG_PCT', u'OPP_FTA_RATE', u'OPP_OREB_PCT', u'OPP_TOV_PCT']\n",
      "[u'PCT_AST_FGM', u'PCT_PTS_FB', u'PCT_PTS_2PT', u'PCT_AST_3PM', u'PCT_UAST_FGM', u'PCT_AST_2PM', u'PCT_FGA_3PT', u'PCT_FGA_2PT', u'PCT_PTS_2PT_MR', u'PCT_PTS_FT', u'PCT_UAST_3PM', u'PCT_PTS_3PT', u'PCT_PTS_PAINT', u'PCT_PTS_OFF_TOV', u'PCT_UAST_2PM']\n",
      "Opponent\n",
      "http://stats.nba.com/stats/leaguedashteamstats?PlusMinus=N&GameScope=&TeamID=1610612746&Location=&StarterBench=&ShotClockRange=&SeasonType=Regular+Season&Division=&Season=2014-15&PaceAdjust=N&DateFrom=2-9-2015&PlayerPosition=&VsConference=&OpponentTeamID=1610612742&DateTo=2-9-2015&GameSegment=&LastNGames=0&PlayerExperience=&VsDivision=&LeagueID=00&Outcome=&MeasureType=Opponent&PORound=0&PerMode=Totals&SeasonSegment=&Period=1&Rank=N&Month=0\n",
      "<Response [200]>\n",
      "[u'TEAM_ID', u'TEAM_NAME', u'GP', u'W', u'L', u'W_PCT', u'MIN', u'FGM', u'FGA', u'FG_PCT', u'FG3M', u'FG3A', u'FG3_PCT', u'FTM', u'FTA', u'FT_PCT', u'OREB', u'DREB', u'REB', u'AST', u'TOV', u'STL', u'BLK', u'BLKA', u'PF', u'PFD', u'PTS', u'PLUS_MINUS', u'CFID', u'CFPARAMS', 'MeasureType', 'OpponentTeamID', 'DateTo', 'DateFrom', 'Period', 'TeamID', u'TS_PCT', u'EFG_PCT', u'DEF_RATING', u'OFF_RATING', u'NET_RATING', u'PIE', u'AST_TO', u'PACE', u'OREB_PCT', u'REB_PCT', u'TM_TOV_PCT', u'AST_RATIO', u'AST_PCT', u'DREB_PCT', u'PTS_OFF_TOV', u'PTS_FB', u'OPP_PTS_FB', u'PTS_2ND_CHANCE', u'OPP_PTS_2ND_CHANCE', u'OPP_PTS_OFF_TOV', u'PTS_PAINT', u'OPP_PTS_PAINT', u'FTA_RATE', u'OPP_EFG_PCT', u'OPP_FTA_RATE', u'OPP_OREB_PCT', u'OPP_TOV_PCT', u'PCT_AST_FGM', u'PCT_PTS_FB', u'PCT_PTS_2PT', u'PCT_AST_3PM', u'PCT_UAST_FGM', u'PCT_AST_2PM', u'PCT_FGA_3PT', u'PCT_FGA_2PT', u'PCT_PTS_2PT_MR', u'PCT_PTS_FT', u'PCT_UAST_3PM', u'PCT_PTS_3PT', u'PCT_PTS_PAINT', u'PCT_PTS_OFF_TOV', u'PCT_UAST_2PM']\n",
      "[u'OPP_BLKA', u'OPP_TOV', u'OPP_FTA', u'OPP_BLK', u'OPP_FG3_PCT', u'OPP_REB', u'OPP_FGM', u'OPP_PF', u'OPP_PFD', u'OPP_FG_PCT', u'OPP_FT_PCT', u'OPP_STL', u'OPP_FG3A', u'OPP_PTS', u'OPP_AST', u'OPP_FGA', u'OPP_OREB', u'OPP_DREB', u'OPP_FTM', u'OPP_FG3M']\n",
      "Base\n",
      "http://stats.nba.com/stats/leaguedashteamstats?PlusMinus=N&GameScope=&TeamID=1610612746&Location=&StarterBench=&ShotClockRange=&SeasonType=Regular+Season&Division=&Season=2014-15&PaceAdjust=N&DateFrom=2-9-2015&PlayerPosition=&VsConference=&OpponentTeamID=1610612742&DateTo=2-9-2015&GameSegment=&LastNGames=0&PlayerExperience=&VsDivision=&LeagueID=00&Outcome=&MeasureType=Base&PORound=0&PerMode=Totals&SeasonSegment=&Period=2&Rank=N&Month=0\n",
      "<Response [200]>\n",
      "[]\n",
      "[u'W', u'MIN', u'TOV', 'Period', 'TeamID', u'REB', u'TEAM_NAME', u'W_PCT', u'FG3A', u'AST', u'PLUS_MINUS', 'DateFrom', u'FG3M', u'OREB', u'FGM', u'PF', u'PTS', u'FGA', 'OpponentTeamID', u'CFPARAMS', u'STL', 'DateTo', u'L', u'FTA', u'BLK', u'GP', u'DREB', u'FTM', u'FT_PCT', 'MeasureType', u'PFD', u'FG_PCT', u'CFID', u'TEAM_ID', u'FG3_PCT', u'BLKA']\n",
      "initializing periodframe\n",
      "Advanced\n",
      "http://stats.nba.com/stats/leaguedashteamstats?PlusMinus=N&GameScope=&TeamID=1610612746&Location=&StarterBench=&ShotClockRange=&SeasonType=Regular+Season&Division=&Season=2014-15&PaceAdjust=N&DateFrom=2-9-2015&PlayerPosition=&VsConference=&OpponentTeamID=1610612742&DateTo=2-9-2015&GameSegment=&LastNGames=0&PlayerExperience=&VsDivision=&LeagueID=00&Outcome=&MeasureType=Advanced&PORound=0&PerMode=Totals&SeasonSegment=&Period=2&Rank=N&Month=0\n",
      "<Response [200]>\n",
      "[u'TEAM_ID', u'TEAM_NAME', u'GP', u'W', u'L', u'W_PCT', u'MIN', u'FGM', u'FGA', u'FG_PCT', u'FG3M', u'FG3A', u'FG3_PCT', u'FTM', u'FTA', u'FT_PCT', u'OREB', u'DREB', u'REB', u'AST', u'TOV', u'STL', u'BLK', u'BLKA', u'PF', u'PFD', u'PTS', u'PLUS_MINUS', u'CFID', u'CFPARAMS', 'MeasureType', 'OpponentTeamID', 'DateTo', 'DateFrom', 'Period', 'TeamID']\n",
      "[u'TS_PCT', u'EFG_PCT', u'DEF_RATING', u'OFF_RATING', u'NET_RATING', u'PIE', u'AST_TO', u'PACE', u'OREB_PCT', u'REB_PCT', u'TM_TOV_PCT', u'AST_RATIO', u'AST_PCT', u'DREB_PCT']\n",
      "Misc\n",
      "http://stats.nba.com/stats/leaguedashteamstats?PlusMinus=N&GameScope=&TeamID=1610612746&Location=&StarterBench=&ShotClockRange=&SeasonType=Regular+Season&Division=&Season=2014-15&PaceAdjust=N&DateFrom=2-9-2015&PlayerPosition=&VsConference=&OpponentTeamID=1610612742&DateTo=2-9-2015&GameSegment=&LastNGames=0&PlayerExperience=&VsDivision=&LeagueID=00&Outcome=&MeasureType=Misc&PORound=0&PerMode=Totals&SeasonSegment=&Period=2&Rank=N&Month=0\n",
      "<Response [200]>\n",
      "[u'TEAM_ID', u'TEAM_NAME', u'GP', u'W', u'L', u'W_PCT', u'MIN', u'FGM', u'FGA', u'FG_PCT', u'FG3M', u'FG3A', u'FG3_PCT', u'FTM', u'FTA', u'FT_PCT', u'OREB', u'DREB', u'REB', u'AST', u'TOV', u'STL', u'BLK', u'BLKA', u'PF', u'PFD', u'PTS', u'PLUS_MINUS', u'CFID', u'CFPARAMS', 'MeasureType', 'OpponentTeamID', 'DateTo', 'DateFrom', 'Period', 'TeamID', u'TS_PCT', u'EFG_PCT', u'DEF_RATING', u'OFF_RATING', u'NET_RATING', u'PIE', u'AST_TO', u'PACE', u'OREB_PCT', u'REB_PCT', u'TM_TOV_PCT', u'AST_RATIO', u'AST_PCT', u'DREB_PCT']\n",
      "[u'PTS_OFF_TOV', u'PTS_FB', u'OPP_PTS_FB', u'PTS_2ND_CHANCE', u'OPP_PTS_2ND_CHANCE', u'OPP_PTS_OFF_TOV', u'PTS_PAINT', u'OPP_PTS_PAINT']\n",
      "Four Factors\n",
      "http://stats.nba.com/stats/leaguedashteamstats?PlusMinus=N&GameScope=&TeamID=1610612746&Location=&StarterBench=&ShotClockRange=&SeasonType=Regular+Season&Division=&Season=2014-15&PaceAdjust=N&DateFrom=2-9-2015&PlayerPosition=&VsConference=&OpponentTeamID=1610612742&DateTo=2-9-2015&GameSegment=&LastNGames=0&PlayerExperience=&VsDivision=&LeagueID=00&Outcome=&MeasureType=Four+Factors&PORound=0&PerMode=Totals&SeasonSegment=&Period=2&Rank=N&Month=0\n",
      "<Response [200]>\n",
      "[u'TEAM_ID', u'TEAM_NAME', u'GP', u'W', u'L', u'W_PCT', u'MIN', u'FGM', u'FGA', u'FG_PCT', u'FG3M', u'FG3A', u'FG3_PCT', u'FTM', u'FTA', u'FT_PCT', u'OREB', u'DREB', u'REB', u'AST', u'TOV', u'STL', u'BLK', u'BLKA', u'PF', u'PFD', u'PTS', u'PLUS_MINUS', u'CFID', u'CFPARAMS', 'MeasureType', 'OpponentTeamID', 'DateTo', 'DateFrom', 'Period', 'TeamID', u'TS_PCT', u'EFG_PCT', u'DEF_RATING', u'OFF_RATING', u'NET_RATING', u'PIE', u'AST_TO', u'PACE', u'OREB_PCT', u'REB_PCT', u'TM_TOV_PCT', u'AST_RATIO', u'AST_PCT', u'DREB_PCT', u'PTS_OFF_TOV', u'PTS_FB', u'OPP_PTS_FB', u'PTS_2ND_CHANCE', u'OPP_PTS_2ND_CHANCE', u'OPP_PTS_OFF_TOV', u'PTS_PAINT', u'OPP_PTS_PAINT']\n",
      "[u'FTA_RATE', u'OPP_EFG_PCT', u'OPP_FTA_RATE', u'OPP_OREB_PCT', u'OPP_TOV_PCT']\n",
      "Scoring\n",
      "http://stats.nba.com/stats/leaguedashteamstats?PlusMinus=N&GameScope=&TeamID=1610612746&Location=&StarterBench=&ShotClockRange=&SeasonType=Regular+Season&Division=&Season=2014-15&PaceAdjust=N&DateFrom=2-9-2015&PlayerPosition=&VsConference=&OpponentTeamID=1610612742&DateTo=2-9-2015&GameSegment=&LastNGames=0&PlayerExperience=&VsDivision=&LeagueID=00&Outcome=&MeasureType=Scoring&PORound=0&PerMode=Totals&SeasonSegment=&Period=2&Rank=N&Month=0\n",
      "<Response [200]>\n",
      "[u'TEAM_ID', u'TEAM_NAME', u'GP', u'W', u'L', u'W_PCT', u'MIN', u'FGM', u'FGA', u'FG_PCT', u'FG3M', u'FG3A', u'FG3_PCT', u'FTM', u'FTA', u'FT_PCT', u'OREB', u'DREB', u'REB', u'AST', u'TOV', u'STL', u'BLK', u'BLKA', u'PF', u'PFD', u'PTS', u'PLUS_MINUS', u'CFID', u'CFPARAMS', 'MeasureType', 'OpponentTeamID', 'DateTo', 'DateFrom', 'Period', 'TeamID', u'TS_PCT', u'EFG_PCT', u'DEF_RATING', u'OFF_RATING', u'NET_RATING', u'PIE', u'AST_TO', u'PACE', u'OREB_PCT', u'REB_PCT', u'TM_TOV_PCT', u'AST_RATIO', u'AST_PCT', u'DREB_PCT', u'PTS_OFF_TOV', u'PTS_FB', u'OPP_PTS_FB', u'PTS_2ND_CHANCE', u'OPP_PTS_2ND_CHANCE', u'OPP_PTS_OFF_TOV', u'PTS_PAINT', u'OPP_PTS_PAINT', u'FTA_RATE', u'OPP_EFG_PCT', u'OPP_FTA_RATE', u'OPP_OREB_PCT', u'OPP_TOV_PCT']\n",
      "[u'PCT_AST_FGM', u'PCT_PTS_FB', u'PCT_PTS_2PT', u'PCT_AST_3PM', u'PCT_UAST_FGM', u'PCT_AST_2PM', u'PCT_FGA_3PT', u'PCT_FGA_2PT', u'PCT_PTS_2PT_MR', u'PCT_PTS_FT', u'PCT_UAST_3PM', u'PCT_PTS_3PT', u'PCT_PTS_PAINT', u'PCT_PTS_OFF_TOV', u'PCT_UAST_2PM']\n",
      "Opponent\n",
      "http://stats.nba.com/stats/leaguedashteamstats?PlusMinus=N&GameScope=&TeamID=1610612746&Location=&StarterBench=&ShotClockRange=&SeasonType=Regular+Season&Division=&Season=2014-15&PaceAdjust=N&DateFrom=2-9-2015&PlayerPosition=&VsConference=&OpponentTeamID=1610612742&DateTo=2-9-2015&GameSegment=&LastNGames=0&PlayerExperience=&VsDivision=&LeagueID=00&Outcome=&MeasureType=Opponent&PORound=0&PerMode=Totals&SeasonSegment=&Period=2&Rank=N&Month=0\n",
      "<Response [200]>\n",
      "[u'TEAM_ID', u'TEAM_NAME', u'GP', u'W', u'L', u'W_PCT', u'MIN', u'FGM', u'FGA', u'FG_PCT', u'FG3M', u'FG3A', u'FG3_PCT', u'FTM', u'FTA', u'FT_PCT', u'OREB', u'DREB', u'REB', u'AST', u'TOV', u'STL', u'BLK', u'BLKA', u'PF', u'PFD', u'PTS', u'PLUS_MINUS', u'CFID', u'CFPARAMS', 'MeasureType', 'OpponentTeamID', 'DateTo', 'DateFrom', 'Period', 'TeamID', u'TS_PCT', u'EFG_PCT', u'DEF_RATING', u'OFF_RATING', u'NET_RATING', u'PIE', u'AST_TO', u'PACE', u'OREB_PCT', u'REB_PCT', u'TM_TOV_PCT', u'AST_RATIO', u'AST_PCT', u'DREB_PCT', u'PTS_OFF_TOV', u'PTS_FB', u'OPP_PTS_FB', u'PTS_2ND_CHANCE', u'OPP_PTS_2ND_CHANCE', u'OPP_PTS_OFF_TOV', u'PTS_PAINT', u'OPP_PTS_PAINT', u'FTA_RATE', u'OPP_EFG_PCT', u'OPP_FTA_RATE', u'OPP_OREB_PCT', u'OPP_TOV_PCT', u'PCT_AST_FGM', u'PCT_PTS_FB', u'PCT_PTS_2PT', u'PCT_AST_3PM', u'PCT_UAST_FGM', u'PCT_AST_2PM', u'PCT_FGA_3PT', u'PCT_FGA_2PT', u'PCT_PTS_2PT_MR', u'PCT_PTS_FT', u'PCT_UAST_3PM', u'PCT_PTS_3PT', u'PCT_PTS_PAINT', u'PCT_PTS_OFF_TOV', u'PCT_UAST_2PM']\n",
      "[u'OPP_BLKA', u'OPP_TOV', u'OPP_FTA', u'OPP_BLK', u'OPP_FG3_PCT', u'OPP_REB', u'OPP_FGM', u'OPP_PF', u'OPP_PFD', u'OPP_FG_PCT', u'OPP_FT_PCT', u'OPP_STL', u'OPP_FG3A', u'OPP_PTS', u'OPP_AST', u'OPP_FGA', u'OPP_OREB', u'OPP_DREB', u'OPP_FTM', u'OPP_FG3M']\n",
      "Base\n",
      "http://stats.nba.com/stats/leaguedashteamstats?PlusMinus=N&GameScope=&TeamID=1610612746&Location=&StarterBench=&ShotClockRange=&SeasonType=Regular+Season&Division=&Season=2014-15&PaceAdjust=N&DateFrom=2-9-2015&PlayerPosition=&VsConference=&OpponentTeamID=1610612742&DateTo=2-9-2015&GameSegment=&LastNGames=0&PlayerExperience=&VsDivision=&LeagueID=00&Outcome=&MeasureType=Base&PORound=0&PerMode=Totals&SeasonSegment=&Period=3&Rank=N&Month=0\n",
      "<Response [200]>\n",
      "[]\n",
      "[u'W', u'MIN', u'TOV', 'Period', 'TeamID', u'REB', u'TEAM_NAME', u'W_PCT', u'FG3A', u'AST', u'PLUS_MINUS', 'DateFrom', u'FG3M', u'OREB', u'FGM', u'PF', u'PTS', u'FGA', 'OpponentTeamID', u'CFPARAMS', u'STL', 'DateTo', u'L', u'FTA', u'BLK', u'GP', u'DREB', u'FTM', u'FT_PCT', 'MeasureType', u'PFD', u'FG_PCT', u'CFID', u'TEAM_ID', u'FG3_PCT', u'BLKA']\n",
      "initializing periodframe\n",
      "Advanced\n",
      "http://stats.nba.com/stats/leaguedashteamstats?PlusMinus=N&GameScope=&TeamID=1610612746&Location=&StarterBench=&ShotClockRange=&SeasonType=Regular+Season&Division=&Season=2014-15&PaceAdjust=N&DateFrom=2-9-2015&PlayerPosition=&VsConference=&OpponentTeamID=1610612742&DateTo=2-9-2015&GameSegment=&LastNGames=0&PlayerExperience=&VsDivision=&LeagueID=00&Outcome=&MeasureType=Advanced&PORound=0&PerMode=Totals&SeasonSegment=&Period=3&Rank=N&Month=0\n",
      "<Response [200]>\n",
      "[u'TEAM_ID', u'TEAM_NAME', u'GP', u'W', u'L', u'W_PCT', u'MIN', u'FGM', u'FGA', u'FG_PCT', u'FG3M', u'FG3A', u'FG3_PCT', u'FTM', u'FTA', u'FT_PCT', u'OREB', u'DREB', u'REB', u'AST', u'TOV', u'STL', u'BLK', u'BLKA', u'PF', u'PFD', u'PTS', u'PLUS_MINUS', u'CFID', u'CFPARAMS', 'MeasureType', 'OpponentTeamID', 'DateTo', 'DateFrom', 'Period', 'TeamID']\n",
      "[u'TS_PCT', u'EFG_PCT', u'DEF_RATING', u'OFF_RATING', u'NET_RATING', u'PIE', u'AST_TO', u'PACE', u'OREB_PCT', u'REB_PCT', u'TM_TOV_PCT', u'AST_RATIO', u'AST_PCT', u'DREB_PCT']\n",
      "Misc\n",
      "http://stats.nba.com/stats/leaguedashteamstats?PlusMinus=N&GameScope=&TeamID=1610612746&Location=&StarterBench=&ShotClockRange=&SeasonType=Regular+Season&Division=&Season=2014-15&PaceAdjust=N&DateFrom=2-9-2015&PlayerPosition=&VsConference=&OpponentTeamID=1610612742&DateTo=2-9-2015&GameSegment=&LastNGames=0&PlayerExperience=&VsDivision=&LeagueID=00&Outcome=&MeasureType=Misc&PORound=0&PerMode=Totals&SeasonSegment=&Period=3&Rank=N&Month=0\n",
      "<Response [200]>\n",
      "[u'TEAM_ID', u'TEAM_NAME', u'GP', u'W', u'L', u'W_PCT', u'MIN', u'FGM', u'FGA', u'FG_PCT', u'FG3M', u'FG3A', u'FG3_PCT', u'FTM', u'FTA', u'FT_PCT', u'OREB', u'DREB', u'REB', u'AST', u'TOV', u'STL', u'BLK', u'BLKA', u'PF', u'PFD', u'PTS', u'PLUS_MINUS', u'CFID', u'CFPARAMS', 'MeasureType', 'OpponentTeamID', 'DateTo', 'DateFrom', 'Period', 'TeamID', u'TS_PCT', u'EFG_PCT', u'DEF_RATING', u'OFF_RATING', u'NET_RATING', u'PIE', u'AST_TO', u'PACE', u'OREB_PCT', u'REB_PCT', u'TM_TOV_PCT', u'AST_RATIO', u'AST_PCT', u'DREB_PCT']\n",
      "[u'PTS_OFF_TOV', u'PTS_FB', u'OPP_PTS_FB', u'PTS_2ND_CHANCE', u'OPP_PTS_2ND_CHANCE', u'OPP_PTS_OFF_TOV', u'PTS_PAINT', u'OPP_PTS_PAINT']\n",
      "Four Factors\n",
      "http://stats.nba.com/stats/leaguedashteamstats?PlusMinus=N&GameScope=&TeamID=1610612746&Location=&StarterBench=&ShotClockRange=&SeasonType=Regular+Season&Division=&Season=2014-15&PaceAdjust=N&DateFrom=2-9-2015&PlayerPosition=&VsConference=&OpponentTeamID=1610612742&DateTo=2-9-2015&GameSegment=&LastNGames=0&PlayerExperience=&VsDivision=&LeagueID=00&Outcome=&MeasureType=Four+Factors&PORound=0&PerMode=Totals&SeasonSegment=&Period=3&Rank=N&Month=0\n",
      "<Response [200]>\n",
      "[u'TEAM_ID', u'TEAM_NAME', u'GP', u'W', u'L', u'W_PCT', u'MIN', u'FGM', u'FGA', u'FG_PCT', u'FG3M', u'FG3A', u'FG3_PCT', u'FTM', u'FTA', u'FT_PCT', u'OREB', u'DREB', u'REB', u'AST', u'TOV', u'STL', u'BLK', u'BLKA', u'PF', u'PFD', u'PTS', u'PLUS_MINUS', u'CFID', u'CFPARAMS', 'MeasureType', 'OpponentTeamID', 'DateTo', 'DateFrom', 'Period', 'TeamID', u'TS_PCT', u'EFG_PCT', u'DEF_RATING', u'OFF_RATING', u'NET_RATING', u'PIE', u'AST_TO', u'PACE', u'OREB_PCT', u'REB_PCT', u'TM_TOV_PCT', u'AST_RATIO', u'AST_PCT', u'DREB_PCT', u'PTS_OFF_TOV', u'PTS_FB', u'OPP_PTS_FB', u'PTS_2ND_CHANCE', u'OPP_PTS_2ND_CHANCE', u'OPP_PTS_OFF_TOV', u'PTS_PAINT', u'OPP_PTS_PAINT']\n",
      "[u'FTA_RATE', u'OPP_EFG_PCT', u'OPP_FTA_RATE', u'OPP_OREB_PCT', u'OPP_TOV_PCT']\n",
      "Scoring\n",
      "http://stats.nba.com/stats/leaguedashteamstats?PlusMinus=N&GameScope=&TeamID=1610612746&Location=&StarterBench=&ShotClockRange=&SeasonType=Regular+Season&Division=&Season=2014-15&PaceAdjust=N&DateFrom=2-9-2015&PlayerPosition=&VsConference=&OpponentTeamID=1610612742&DateTo=2-9-2015&GameSegment=&LastNGames=0&PlayerExperience=&VsDivision=&LeagueID=00&Outcome=&MeasureType=Scoring&PORound=0&PerMode=Totals&SeasonSegment=&Period=3&Rank=N&Month=0\n",
      "<Response [200]>\n",
      "[u'TEAM_ID', u'TEAM_NAME', u'GP', u'W', u'L', u'W_PCT', u'MIN', u'FGM', u'FGA', u'FG_PCT', u'FG3M', u'FG3A', u'FG3_PCT', u'FTM', u'FTA', u'FT_PCT', u'OREB', u'DREB', u'REB', u'AST', u'TOV', u'STL', u'BLK', u'BLKA', u'PF', u'PFD', u'PTS', u'PLUS_MINUS', u'CFID', u'CFPARAMS', 'MeasureType', 'OpponentTeamID', 'DateTo', 'DateFrom', 'Period', 'TeamID', u'TS_PCT', u'EFG_PCT', u'DEF_RATING', u'OFF_RATING', u'NET_RATING', u'PIE', u'AST_TO', u'PACE', u'OREB_PCT', u'REB_PCT', u'TM_TOV_PCT', u'AST_RATIO', u'AST_PCT', u'DREB_PCT', u'PTS_OFF_TOV', u'PTS_FB', u'OPP_PTS_FB', u'PTS_2ND_CHANCE', u'OPP_PTS_2ND_CHANCE', u'OPP_PTS_OFF_TOV', u'PTS_PAINT', u'OPP_PTS_PAINT', u'FTA_RATE', u'OPP_EFG_PCT', u'OPP_FTA_RATE', u'OPP_OREB_PCT', u'OPP_TOV_PCT']\n",
      "[u'PCT_AST_FGM', u'PCT_PTS_FB', u'PCT_PTS_2PT', u'PCT_AST_3PM', u'PCT_UAST_FGM', u'PCT_AST_2PM', u'PCT_FGA_3PT', u'PCT_FGA_2PT', u'PCT_PTS_2PT_MR', u'PCT_PTS_FT', u'PCT_UAST_3PM', u'PCT_PTS_3PT', u'PCT_PTS_PAINT', u'PCT_PTS_OFF_TOV', u'PCT_UAST_2PM']\n",
      "Opponent\n",
      "http://stats.nba.com/stats/leaguedashteamstats?PlusMinus=N&GameScope=&TeamID=1610612746&Location=&StarterBench=&ShotClockRange=&SeasonType=Regular+Season&Division=&Season=2014-15&PaceAdjust=N&DateFrom=2-9-2015&PlayerPosition=&VsConference=&OpponentTeamID=1610612742&DateTo=2-9-2015&GameSegment=&LastNGames=0&PlayerExperience=&VsDivision=&LeagueID=00&Outcome=&MeasureType=Opponent&PORound=0&PerMode=Totals&SeasonSegment=&Period=3&Rank=N&Month=0\n",
      "<Response [200]>\n",
      "[u'TEAM_ID', u'TEAM_NAME', u'GP', u'W', u'L', u'W_PCT', u'MIN', u'FGM', u'FGA', u'FG_PCT', u'FG3M', u'FG3A', u'FG3_PCT', u'FTM', u'FTA', u'FT_PCT', u'OREB', u'DREB', u'REB', u'AST', u'TOV', u'STL', u'BLK', u'BLKA', u'PF', u'PFD', u'PTS', u'PLUS_MINUS', u'CFID', u'CFPARAMS', 'MeasureType', 'OpponentTeamID', 'DateTo', 'DateFrom', 'Period', 'TeamID', u'TS_PCT', u'EFG_PCT', u'DEF_RATING', u'OFF_RATING', u'NET_RATING', u'PIE', u'AST_TO', u'PACE', u'OREB_PCT', u'REB_PCT', u'TM_TOV_PCT', u'AST_RATIO', u'AST_PCT', u'DREB_PCT', u'PTS_OFF_TOV', u'PTS_FB', u'OPP_PTS_FB', u'PTS_2ND_CHANCE', u'OPP_PTS_2ND_CHANCE', u'OPP_PTS_OFF_TOV', u'PTS_PAINT', u'OPP_PTS_PAINT', u'FTA_RATE', u'OPP_EFG_PCT', u'OPP_FTA_RATE', u'OPP_OREB_PCT', u'OPP_TOV_PCT', u'PCT_AST_FGM', u'PCT_PTS_FB', u'PCT_PTS_2PT', u'PCT_AST_3PM', u'PCT_UAST_FGM', u'PCT_AST_2PM', u'PCT_FGA_3PT', u'PCT_FGA_2PT', u'PCT_PTS_2PT_MR', u'PCT_PTS_FT', u'PCT_UAST_3PM', u'PCT_PTS_3PT', u'PCT_PTS_PAINT', u'PCT_PTS_OFF_TOV', u'PCT_UAST_2PM']\n",
      "[u'OPP_BLKA', u'OPP_TOV', u'OPP_FTA', u'OPP_BLK', u'OPP_FG3_PCT', u'OPP_REB', u'OPP_FGM', u'OPP_PF', u'OPP_PFD', u'OPP_FG_PCT', u'OPP_FT_PCT', u'OPP_STL', u'OPP_FG3A', u'OPP_PTS', u'OPP_AST', u'OPP_FGA', u'OPP_OREB', u'OPP_DREB', u'OPP_FTM', u'OPP_FG3M']\n",
      "Base\n",
      "http://stats.nba.com/stats/leaguedashteamstats?PlusMinus=N&GameScope=&TeamID=1610612746&Location=&StarterBench=&ShotClockRange=&SeasonType=Regular+Season&Division=&Season=2014-15&PaceAdjust=N&DateFrom=2-9-2015&PlayerPosition=&VsConference=&OpponentTeamID=1610612742&DateTo=2-9-2015&GameSegment=&LastNGames=0&PlayerExperience=&VsDivision=&LeagueID=00&Outcome=&MeasureType=Base&PORound=0&PerMode=Totals&SeasonSegment=&Period=4&Rank=N&Month=0\n",
      "<Response [200]>\n",
      "[]\n",
      "[u'W', u'MIN', u'TOV', 'Period', 'TeamID', u'REB', u'TEAM_NAME', u'W_PCT', u'FG3A', u'AST', u'PLUS_MINUS', 'DateFrom', u'FG3M', u'OREB', u'FGM', u'PF', u'PTS', u'FGA', 'OpponentTeamID', u'CFPARAMS', u'STL', 'DateTo', u'L', u'FTA', u'BLK', u'GP', u'DREB', u'FTM', u'FT_PCT', 'MeasureType', u'PFD', u'FG_PCT', u'CFID', u'TEAM_ID', u'FG3_PCT', u'BLKA']\n",
      "initializing periodframe\n",
      "Advanced\n",
      "http://stats.nba.com/stats/leaguedashteamstats?PlusMinus=N&GameScope=&TeamID=1610612746&Location=&StarterBench=&ShotClockRange=&SeasonType=Regular+Season&Division=&Season=2014-15&PaceAdjust=N&DateFrom=2-9-2015&PlayerPosition=&VsConference=&OpponentTeamID=1610612742&DateTo=2-9-2015&GameSegment=&LastNGames=0&PlayerExperience=&VsDivision=&LeagueID=00&Outcome=&MeasureType=Advanced&PORound=0&PerMode=Totals&SeasonSegment=&Period=4&Rank=N&Month=0\n",
      "<Response [200]>\n",
      "[u'TEAM_ID', u'TEAM_NAME', u'GP', u'W', u'L', u'W_PCT', u'MIN', u'FGM', u'FGA', u'FG_PCT', u'FG3M', u'FG3A', u'FG3_PCT', u'FTM', u'FTA', u'FT_PCT', u'OREB', u'DREB', u'REB', u'AST', u'TOV', u'STL', u'BLK', u'BLKA', u'PF', u'PFD', u'PTS', u'PLUS_MINUS', u'CFID', u'CFPARAMS', 'MeasureType', 'OpponentTeamID', 'DateTo', 'DateFrom', 'Period', 'TeamID']\n",
      "[u'TS_PCT', u'EFG_PCT', u'DEF_RATING', u'OFF_RATING', u'NET_RATING', u'PIE', u'AST_TO', u'PACE', u'OREB_PCT', u'REB_PCT', u'TM_TOV_PCT', u'AST_RATIO', u'AST_PCT', u'DREB_PCT']\n",
      "Misc\n",
      "http://stats.nba.com/stats/leaguedashteamstats?PlusMinus=N&GameScope=&TeamID=1610612746&Location=&StarterBench=&ShotClockRange=&SeasonType=Regular+Season&Division=&Season=2014-15&PaceAdjust=N&DateFrom=2-9-2015&PlayerPosition=&VsConference=&OpponentTeamID=1610612742&DateTo=2-9-2015&GameSegment=&LastNGames=0&PlayerExperience=&VsDivision=&LeagueID=00&Outcome=&MeasureType=Misc&PORound=0&PerMode=Totals&SeasonSegment=&Period=4&Rank=N&Month=0\n",
      "<Response [200]>\n",
      "[u'TEAM_ID', u'TEAM_NAME', u'GP', u'W', u'L', u'W_PCT', u'MIN', u'FGM', u'FGA', u'FG_PCT', u'FG3M', u'FG3A', u'FG3_PCT', u'FTM', u'FTA', u'FT_PCT', u'OREB', u'DREB', u'REB', u'AST', u'TOV', u'STL', u'BLK', u'BLKA', u'PF', u'PFD', u'PTS', u'PLUS_MINUS', u'CFID', u'CFPARAMS', 'MeasureType', 'OpponentTeamID', 'DateTo', 'DateFrom', 'Period', 'TeamID', u'TS_PCT', u'EFG_PCT', u'DEF_RATING', u'OFF_RATING', u'NET_RATING', u'PIE', u'AST_TO', u'PACE', u'OREB_PCT', u'REB_PCT', u'TM_TOV_PCT', u'AST_RATIO', u'AST_PCT', u'DREB_PCT']\n",
      "[u'PTS_OFF_TOV', u'PTS_FB', u'OPP_PTS_FB', u'PTS_2ND_CHANCE', u'OPP_PTS_2ND_CHANCE', u'OPP_PTS_OFF_TOV', u'PTS_PAINT', u'OPP_PTS_PAINT']\n",
      "Four Factors\n",
      "http://stats.nba.com/stats/leaguedashteamstats?PlusMinus=N&GameScope=&TeamID=1610612746&Location=&StarterBench=&ShotClockRange=&SeasonType=Regular+Season&Division=&Season=2014-15&PaceAdjust=N&DateFrom=2-9-2015&PlayerPosition=&VsConference=&OpponentTeamID=1610612742&DateTo=2-9-2015&GameSegment=&LastNGames=0&PlayerExperience=&VsDivision=&LeagueID=00&Outcome=&MeasureType=Four+Factors&PORound=0&PerMode=Totals&SeasonSegment=&Period=4&Rank=N&Month=0\n",
      "<Response [200]>\n",
      "[u'TEAM_ID', u'TEAM_NAME', u'GP', u'W', u'L', u'W_PCT', u'MIN', u'FGM', u'FGA', u'FG_PCT', u'FG3M', u'FG3A', u'FG3_PCT', u'FTM', u'FTA', u'FT_PCT', u'OREB', u'DREB', u'REB', u'AST', u'TOV', u'STL', u'BLK', u'BLKA', u'PF', u'PFD', u'PTS', u'PLUS_MINUS', u'CFID', u'CFPARAMS', 'MeasureType', 'OpponentTeamID', 'DateTo', 'DateFrom', 'Period', 'TeamID', u'TS_PCT', u'EFG_PCT', u'DEF_RATING', u'OFF_RATING', u'NET_RATING', u'PIE', u'AST_TO', u'PACE', u'OREB_PCT', u'REB_PCT', u'TM_TOV_PCT', u'AST_RATIO', u'AST_PCT', u'DREB_PCT', u'PTS_OFF_TOV', u'PTS_FB', u'OPP_PTS_FB', u'PTS_2ND_CHANCE', u'OPP_PTS_2ND_CHANCE', u'OPP_PTS_OFF_TOV', u'PTS_PAINT', u'OPP_PTS_PAINT']\n",
      "[u'FTA_RATE', u'OPP_EFG_PCT', u'OPP_FTA_RATE', u'OPP_OREB_PCT', u'OPP_TOV_PCT']\n",
      "Scoring\n",
      "http://stats.nba.com/stats/leaguedashteamstats?PlusMinus=N&GameScope=&TeamID=1610612746&Location=&StarterBench=&ShotClockRange=&SeasonType=Regular+Season&Division=&Season=2014-15&PaceAdjust=N&DateFrom=2-9-2015&PlayerPosition=&VsConference=&OpponentTeamID=1610612742&DateTo=2-9-2015&GameSegment=&LastNGames=0&PlayerExperience=&VsDivision=&LeagueID=00&Outcome=&MeasureType=Scoring&PORound=0&PerMode=Totals&SeasonSegment=&Period=4&Rank=N&Month=0\n",
      "<Response [200]>\n",
      "[u'TEAM_ID', u'TEAM_NAME', u'GP', u'W', u'L', u'W_PCT', u'MIN', u'FGM', u'FGA', u'FG_PCT', u'FG3M', u'FG3A', u'FG3_PCT', u'FTM', u'FTA', u'FT_PCT', u'OREB', u'DREB', u'REB', u'AST', u'TOV', u'STL', u'BLK', u'BLKA', u'PF', u'PFD', u'PTS', u'PLUS_MINUS', u'CFID', u'CFPARAMS', 'MeasureType', 'OpponentTeamID', 'DateTo', 'DateFrom', 'Period', 'TeamID', u'TS_PCT', u'EFG_PCT', u'DEF_RATING', u'OFF_RATING', u'NET_RATING', u'PIE', u'AST_TO', u'PACE', u'OREB_PCT', u'REB_PCT', u'TM_TOV_PCT', u'AST_RATIO', u'AST_PCT', u'DREB_PCT', u'PTS_OFF_TOV', u'PTS_FB', u'OPP_PTS_FB', u'PTS_2ND_CHANCE', u'OPP_PTS_2ND_CHANCE', u'OPP_PTS_OFF_TOV', u'PTS_PAINT', u'OPP_PTS_PAINT', u'FTA_RATE', u'OPP_EFG_PCT', u'OPP_FTA_RATE', u'OPP_OREB_PCT', u'OPP_TOV_PCT']\n",
      "[u'PCT_AST_FGM', u'PCT_PTS_FB', u'PCT_PTS_2PT', u'PCT_AST_3PM', u'PCT_UAST_FGM', u'PCT_AST_2PM', u'PCT_FGA_3PT', u'PCT_FGA_2PT', u'PCT_PTS_2PT_MR', u'PCT_PTS_FT', u'PCT_UAST_3PM', u'PCT_PTS_3PT', u'PCT_PTS_PAINT', u'PCT_PTS_OFF_TOV', u'PCT_UAST_2PM']\n",
      "Opponent\n",
      "http://stats.nba.com/stats/leaguedashteamstats?PlusMinus=N&GameScope=&TeamID=1610612746&Location=&StarterBench=&ShotClockRange=&SeasonType=Regular+Season&Division=&Season=2014-15&PaceAdjust=N&DateFrom=2-9-2015&PlayerPosition=&VsConference=&OpponentTeamID=1610612742&DateTo=2-9-2015&GameSegment=&LastNGames=0&PlayerExperience=&VsDivision=&LeagueID=00&Outcome=&MeasureType=Opponent&PORound=0&PerMode=Totals&SeasonSegment=&Period=4&Rank=N&Month=0\n",
      "<Response [200]>\n",
      "[u'TEAM_ID', u'TEAM_NAME', u'GP', u'W', u'L', u'W_PCT', u'MIN', u'FGM', u'FGA', u'FG_PCT', u'FG3M', u'FG3A', u'FG3_PCT', u'FTM', u'FTA', u'FT_PCT', u'OREB', u'DREB', u'REB', u'AST', u'TOV', u'STL', u'BLK', u'BLKA', u'PF', u'PFD', u'PTS', u'PLUS_MINUS', u'CFID', u'CFPARAMS', 'MeasureType', 'OpponentTeamID', 'DateTo', 'DateFrom', 'Period', 'TeamID', u'TS_PCT', u'EFG_PCT', u'DEF_RATING', u'OFF_RATING', u'NET_RATING', u'PIE', u'AST_TO', u'PACE', u'OREB_PCT', u'REB_PCT', u'TM_TOV_PCT', u'AST_RATIO', u'AST_PCT', u'DREB_PCT', u'PTS_OFF_TOV', u'PTS_FB', u'OPP_PTS_FB', u'PTS_2ND_CHANCE', u'OPP_PTS_2ND_CHANCE', u'OPP_PTS_OFF_TOV', u'PTS_PAINT', u'OPP_PTS_PAINT', u'FTA_RATE', u'OPP_EFG_PCT', u'OPP_FTA_RATE', u'OPP_OREB_PCT', u'OPP_TOV_PCT', u'PCT_AST_FGM', u'PCT_PTS_FB', u'PCT_PTS_2PT', u'PCT_AST_3PM', u'PCT_UAST_FGM', u'PCT_AST_2PM', u'PCT_FGA_3PT', u'PCT_FGA_2PT', u'PCT_PTS_2PT_MR', u'PCT_PTS_FT', u'PCT_UAST_3PM', u'PCT_PTS_3PT', u'PCT_PTS_PAINT', u'PCT_PTS_OFF_TOV', u'PCT_UAST_2PM']\n",
      "[u'OPP_BLKA', u'OPP_TOV', u'OPP_FTA', u'OPP_BLK', u'OPP_FG3_PCT', u'OPP_REB', u'OPP_FGM', u'OPP_PF', u'OPP_PFD', u'OPP_FG_PCT', u'OPP_FT_PCT', u'OPP_STL', u'OPP_FG3A', u'OPP_PTS', u'OPP_AST', u'OPP_FGA', u'OPP_OREB', u'OPP_DREB', u'OPP_FTM', u'OPP_FG3M']\n",
      "Base\n",
      "http://stats.nba.com/stats/leaguedashteamstats?PlusMinus=N&GameScope=&TeamID=1610612746&Location=&StarterBench=&ShotClockRange=&SeasonType=Regular+Season&Division=&Season=2014-15&PaceAdjust=N&DateFrom=3-13-2015&PlayerPosition=&VsConference=&OpponentTeamID=1610612742&DateTo=3-13-2015&GameSegment=&LastNGames=0&PlayerExperience=&VsDivision=&LeagueID=00&Outcome=&MeasureType=Base&PORound=0&PerMode=Totals&SeasonSegment=&Period=1&Rank=N&Month=0\n",
      "<Response [200]>\n",
      "[]\n",
      "[u'W', u'MIN', u'TOV', 'Period', 'TeamID', u'REB', u'TEAM_NAME', u'W_PCT', u'FG3A', u'AST', u'PLUS_MINUS', 'DateFrom', u'FG3M', u'OREB', u'FGM', u'PF', u'PTS', u'FGA', 'OpponentTeamID', u'CFPARAMS', u'STL', 'DateTo', u'L', u'FTA', u'BLK', u'GP', u'DREB', u'FTM', u'FT_PCT', 'MeasureType', u'PFD', u'FG_PCT', u'CFID', u'TEAM_ID', u'FG3_PCT', u'BLKA']\n",
      "initializing periodframe\n",
      "Advanced\n",
      "http://stats.nba.com/stats/leaguedashteamstats?PlusMinus=N&GameScope=&TeamID=1610612746&Location=&StarterBench=&ShotClockRange=&SeasonType=Regular+Season&Division=&Season=2014-15&PaceAdjust=N&DateFrom=3-13-2015&PlayerPosition=&VsConference=&OpponentTeamID=1610612742&DateTo=3-13-2015&GameSegment=&LastNGames=0&PlayerExperience=&VsDivision=&LeagueID=00&Outcome=&MeasureType=Advanced&PORound=0&PerMode=Totals&SeasonSegment=&Period=1&Rank=N&Month=0\n",
      "<Response [200]>\n",
      "[u'TEAM_ID', u'TEAM_NAME', u'GP', u'W', u'L', u'W_PCT', u'MIN', u'FGM', u'FGA', u'FG_PCT', u'FG3M', u'FG3A', u'FG3_PCT', u'FTM', u'FTA', u'FT_PCT', u'OREB', u'DREB', u'REB', u'AST', u'TOV', u'STL', u'BLK', u'BLKA', u'PF', u'PFD', u'PTS', u'PLUS_MINUS', u'CFID', u'CFPARAMS', 'MeasureType', 'OpponentTeamID', 'DateTo', 'DateFrom', 'Period', 'TeamID']\n",
      "[u'TS_PCT', u'EFG_PCT', u'DEF_RATING', u'OFF_RATING', u'NET_RATING', u'PIE', u'AST_TO', u'PACE', u'OREB_PCT', u'REB_PCT', u'TM_TOV_PCT', u'AST_RATIO', u'AST_PCT', u'DREB_PCT']\n",
      "Misc\n",
      "http://stats.nba.com/stats/leaguedashteamstats?PlusMinus=N&GameScope=&TeamID=1610612746&Location=&StarterBench=&ShotClockRange=&SeasonType=Regular+Season&Division=&Season=2014-15&PaceAdjust=N&DateFrom=3-13-2015&PlayerPosition=&VsConference=&OpponentTeamID=1610612742&DateTo=3-13-2015&GameSegment=&LastNGames=0&PlayerExperience=&VsDivision=&LeagueID=00&Outcome=&MeasureType=Misc&PORound=0&PerMode=Totals&SeasonSegment=&Period=1&Rank=N&Month=0\n",
      "<Response [200]>\n",
      "[u'TEAM_ID', u'TEAM_NAME', u'GP', u'W', u'L', u'W_PCT', u'MIN', u'FGM', u'FGA', u'FG_PCT', u'FG3M', u'FG3A', u'FG3_PCT', u'FTM', u'FTA', u'FT_PCT', u'OREB', u'DREB', u'REB', u'AST', u'TOV', u'STL', u'BLK', u'BLKA', u'PF', u'PFD', u'PTS', u'PLUS_MINUS', u'CFID', u'CFPARAMS', 'MeasureType', 'OpponentTeamID', 'DateTo', 'DateFrom', 'Period', 'TeamID', u'TS_PCT', u'EFG_PCT', u'DEF_RATING', u'OFF_RATING', u'NET_RATING', u'PIE', u'AST_TO', u'PACE', u'OREB_PCT', u'REB_PCT', u'TM_TOV_PCT', u'AST_RATIO', u'AST_PCT', u'DREB_PCT']\n",
      "[u'PTS_OFF_TOV', u'PTS_FB', u'OPP_PTS_FB', u'PTS_2ND_CHANCE', u'OPP_PTS_2ND_CHANCE', u'OPP_PTS_OFF_TOV', u'PTS_PAINT', u'OPP_PTS_PAINT']\n",
      "Four Factors\n",
      "http://stats.nba.com/stats/leaguedashteamstats?PlusMinus=N&GameScope=&TeamID=1610612746&Location=&StarterBench=&ShotClockRange=&SeasonType=Regular+Season&Division=&Season=2014-15&PaceAdjust=N&DateFrom=3-13-2015&PlayerPosition=&VsConference=&OpponentTeamID=1610612742&DateTo=3-13-2015&GameSegment=&LastNGames=0&PlayerExperience=&VsDivision=&LeagueID=00&Outcome=&MeasureType=Four+Factors&PORound=0&PerMode=Totals&SeasonSegment=&Period=1&Rank=N&Month=0\n",
      "<Response [200]>\n",
      "[u'TEAM_ID', u'TEAM_NAME', u'GP', u'W', u'L', u'W_PCT', u'MIN', u'FGM', u'FGA', u'FG_PCT', u'FG3M', u'FG3A', u'FG3_PCT', u'FTM', u'FTA', u'FT_PCT', u'OREB', u'DREB', u'REB', u'AST', u'TOV', u'STL', u'BLK', u'BLKA', u'PF', u'PFD', u'PTS', u'PLUS_MINUS', u'CFID', u'CFPARAMS', 'MeasureType', 'OpponentTeamID', 'DateTo', 'DateFrom', 'Period', 'TeamID', u'TS_PCT', u'EFG_PCT', u'DEF_RATING', u'OFF_RATING', u'NET_RATING', u'PIE', u'AST_TO', u'PACE', u'OREB_PCT', u'REB_PCT', u'TM_TOV_PCT', u'AST_RATIO', u'AST_PCT', u'DREB_PCT', u'PTS_OFF_TOV', u'PTS_FB', u'OPP_PTS_FB', u'PTS_2ND_CHANCE', u'OPP_PTS_2ND_CHANCE', u'OPP_PTS_OFF_TOV', u'PTS_PAINT', u'OPP_PTS_PAINT']\n",
      "[u'FTA_RATE', u'OPP_EFG_PCT', u'OPP_FTA_RATE', u'OPP_OREB_PCT', u'OPP_TOV_PCT']\n",
      "Scoring\n",
      "http://stats.nba.com/stats/leaguedashteamstats?PlusMinus=N&GameScope=&TeamID=1610612746&Location=&StarterBench=&ShotClockRange=&SeasonType=Regular+Season&Division=&Season=2014-15&PaceAdjust=N&DateFrom=3-13-2015&PlayerPosition=&VsConference=&OpponentTeamID=1610612742&DateTo=3-13-2015&GameSegment=&LastNGames=0&PlayerExperience=&VsDivision=&LeagueID=00&Outcome=&MeasureType=Scoring&PORound=0&PerMode=Totals&SeasonSegment=&Period=1&Rank=N&Month=0\n",
      "<Response [200]>\n",
      "[u'TEAM_ID', u'TEAM_NAME', u'GP', u'W', u'L', u'W_PCT', u'MIN', u'FGM', u'FGA', u'FG_PCT', u'FG3M', u'FG3A', u'FG3_PCT', u'FTM', u'FTA', u'FT_PCT', u'OREB', u'DREB', u'REB', u'AST', u'TOV', u'STL', u'BLK', u'BLKA', u'PF', u'PFD', u'PTS', u'PLUS_MINUS', u'CFID', u'CFPARAMS', 'MeasureType', 'OpponentTeamID', 'DateTo', 'DateFrom', 'Period', 'TeamID', u'TS_PCT', u'EFG_PCT', u'DEF_RATING', u'OFF_RATING', u'NET_RATING', u'PIE', u'AST_TO', u'PACE', u'OREB_PCT', u'REB_PCT', u'TM_TOV_PCT', u'AST_RATIO', u'AST_PCT', u'DREB_PCT', u'PTS_OFF_TOV', u'PTS_FB', u'OPP_PTS_FB', u'PTS_2ND_CHANCE', u'OPP_PTS_2ND_CHANCE', u'OPP_PTS_OFF_TOV', u'PTS_PAINT', u'OPP_PTS_PAINT', u'FTA_RATE', u'OPP_EFG_PCT', u'OPP_FTA_RATE', u'OPP_OREB_PCT', u'OPP_TOV_PCT']\n",
      "[u'PCT_AST_FGM', u'PCT_PTS_FB', u'PCT_PTS_2PT', u'PCT_AST_3PM', u'PCT_UAST_FGM', u'PCT_AST_2PM', u'PCT_FGA_3PT', u'PCT_FGA_2PT', u'PCT_PTS_2PT_MR', u'PCT_PTS_FT', u'PCT_UAST_3PM', u'PCT_PTS_3PT', u'PCT_PTS_PAINT', u'PCT_PTS_OFF_TOV', u'PCT_UAST_2PM']\n",
      "Opponent\n",
      "http://stats.nba.com/stats/leaguedashteamstats?PlusMinus=N&GameScope=&TeamID=1610612746&Location=&StarterBench=&ShotClockRange=&SeasonType=Regular+Season&Division=&Season=2014-15&PaceAdjust=N&DateFrom=3-13-2015&PlayerPosition=&VsConference=&OpponentTeamID=1610612742&DateTo=3-13-2015&GameSegment=&LastNGames=0&PlayerExperience=&VsDivision=&LeagueID=00&Outcome=&MeasureType=Opponent&PORound=0&PerMode=Totals&SeasonSegment=&Period=1&Rank=N&Month=0\n",
      "<Response [200]>\n",
      "[u'TEAM_ID', u'TEAM_NAME', u'GP', u'W', u'L', u'W_PCT', u'MIN', u'FGM', u'FGA', u'FG_PCT', u'FG3M', u'FG3A', u'FG3_PCT', u'FTM', u'FTA', u'FT_PCT', u'OREB', u'DREB', u'REB', u'AST', u'TOV', u'STL', u'BLK', u'BLKA', u'PF', u'PFD', u'PTS', u'PLUS_MINUS', u'CFID', u'CFPARAMS', 'MeasureType', 'OpponentTeamID', 'DateTo', 'DateFrom', 'Period', 'TeamID', u'TS_PCT', u'EFG_PCT', u'DEF_RATING', u'OFF_RATING', u'NET_RATING', u'PIE', u'AST_TO', u'PACE', u'OREB_PCT', u'REB_PCT', u'TM_TOV_PCT', u'AST_RATIO', u'AST_PCT', u'DREB_PCT', u'PTS_OFF_TOV', u'PTS_FB', u'OPP_PTS_FB', u'PTS_2ND_CHANCE', u'OPP_PTS_2ND_CHANCE', u'OPP_PTS_OFF_TOV', u'PTS_PAINT', u'OPP_PTS_PAINT', u'FTA_RATE', u'OPP_EFG_PCT', u'OPP_FTA_RATE', u'OPP_OREB_PCT', u'OPP_TOV_PCT', u'PCT_AST_FGM', u'PCT_PTS_FB', u'PCT_PTS_2PT', u'PCT_AST_3PM', u'PCT_UAST_FGM', u'PCT_AST_2PM', u'PCT_FGA_3PT', u'PCT_FGA_2PT', u'PCT_PTS_2PT_MR', u'PCT_PTS_FT', u'PCT_UAST_3PM', u'PCT_PTS_3PT', u'PCT_PTS_PAINT', u'PCT_PTS_OFF_TOV', u'PCT_UAST_2PM']\n",
      "[u'OPP_BLKA', u'OPP_TOV', u'OPP_FTA', u'OPP_BLK', u'OPP_FG3_PCT', u'OPP_REB', u'OPP_FGM', u'OPP_PF', u'OPP_PFD', u'OPP_FG_PCT', u'OPP_FT_PCT', u'OPP_STL', u'OPP_FG3A', u'OPP_PTS', u'OPP_AST', u'OPP_FGA', u'OPP_OREB', u'OPP_DREB', u'OPP_FTM', u'OPP_FG3M']\n",
      "Base\n",
      "http://stats.nba.com/stats/leaguedashteamstats?PlusMinus=N&GameScope=&TeamID=1610612746&Location=&StarterBench=&ShotClockRange=&SeasonType=Regular+Season&Division=&Season=2014-15&PaceAdjust=N&DateFrom=3-13-2015&PlayerPosition=&VsConference=&OpponentTeamID=1610612742&DateTo=3-13-2015&GameSegment=&LastNGames=0&PlayerExperience=&VsDivision=&LeagueID=00&Outcome=&MeasureType=Base&PORound=0&PerMode=Totals&SeasonSegment=&Period=2&Rank=N&Month=0\n",
      "<Response [200]>\n",
      "[]\n",
      "[u'W', u'MIN', u'TOV', 'Period', 'TeamID', u'REB', u'TEAM_NAME', u'W_PCT', u'FG3A', u'AST', u'PLUS_MINUS', 'DateFrom', u'FG3M', u'OREB', u'FGM', u'PF', u'PTS', u'FGA', 'OpponentTeamID', u'CFPARAMS', u'STL', 'DateTo', u'L', u'FTA', u'BLK', u'GP', u'DREB', u'FTM', u'FT_PCT', 'MeasureType', u'PFD', u'FG_PCT', u'CFID', u'TEAM_ID', u'FG3_PCT', u'BLKA']\n",
      "initializing periodframe\n",
      "Advanced\n",
      "http://stats.nba.com/stats/leaguedashteamstats?PlusMinus=N&GameScope=&TeamID=1610612746&Location=&StarterBench=&ShotClockRange=&SeasonType=Regular+Season&Division=&Season=2014-15&PaceAdjust=N&DateFrom=3-13-2015&PlayerPosition=&VsConference=&OpponentTeamID=1610612742&DateTo=3-13-2015&GameSegment=&LastNGames=0&PlayerExperience=&VsDivision=&LeagueID=00&Outcome=&MeasureType=Advanced&PORound=0&PerMode=Totals&SeasonSegment=&Period=2&Rank=N&Month=0\n",
      "<Response [200]>\n",
      "[u'TEAM_ID', u'TEAM_NAME', u'GP', u'W', u'L', u'W_PCT', u'MIN', u'FGM', u'FGA', u'FG_PCT', u'FG3M', u'FG3A', u'FG3_PCT', u'FTM', u'FTA', u'FT_PCT', u'OREB', u'DREB', u'REB', u'AST', u'TOV', u'STL', u'BLK', u'BLKA', u'PF', u'PFD', u'PTS', u'PLUS_MINUS', u'CFID', u'CFPARAMS', 'MeasureType', 'OpponentTeamID', 'DateTo', 'DateFrom', 'Period', 'TeamID']\n",
      "[u'TS_PCT', u'EFG_PCT', u'DEF_RATING', u'OFF_RATING', u'NET_RATING', u'PIE', u'AST_TO', u'PACE', u'OREB_PCT', u'REB_PCT', u'TM_TOV_PCT', u'AST_RATIO', u'AST_PCT', u'DREB_PCT']\n",
      "Misc\n",
      "http://stats.nba.com/stats/leaguedashteamstats?PlusMinus=N&GameScope=&TeamID=1610612746&Location=&StarterBench=&ShotClockRange=&SeasonType=Regular+Season&Division=&Season=2014-15&PaceAdjust=N&DateFrom=3-13-2015&PlayerPosition=&VsConference=&OpponentTeamID=1610612742&DateTo=3-13-2015&GameSegment=&LastNGames=0&PlayerExperience=&VsDivision=&LeagueID=00&Outcome=&MeasureType=Misc&PORound=0&PerMode=Totals&SeasonSegment=&Period=2&Rank=N&Month=0\n",
      "<Response [200]>\n",
      "[u'TEAM_ID', u'TEAM_NAME', u'GP', u'W', u'L', u'W_PCT', u'MIN', u'FGM', u'FGA', u'FG_PCT', u'FG3M', u'FG3A', u'FG3_PCT', u'FTM', u'FTA', u'FT_PCT', u'OREB', u'DREB', u'REB', u'AST', u'TOV', u'STL', u'BLK', u'BLKA', u'PF', u'PFD', u'PTS', u'PLUS_MINUS', u'CFID', u'CFPARAMS', 'MeasureType', 'OpponentTeamID', 'DateTo', 'DateFrom', 'Period', 'TeamID', u'TS_PCT', u'EFG_PCT', u'DEF_RATING', u'OFF_RATING', u'NET_RATING', u'PIE', u'AST_TO', u'PACE', u'OREB_PCT', u'REB_PCT', u'TM_TOV_PCT', u'AST_RATIO', u'AST_PCT', u'DREB_PCT']\n",
      "[u'PTS_OFF_TOV', u'PTS_FB', u'OPP_PTS_FB', u'PTS_2ND_CHANCE', u'OPP_PTS_2ND_CHANCE', u'OPP_PTS_OFF_TOV', u'PTS_PAINT', u'OPP_PTS_PAINT']\n",
      "Four Factors\n",
      "http://stats.nba.com/stats/leaguedashteamstats?PlusMinus=N&GameScope=&TeamID=1610612746&Location=&StarterBench=&ShotClockRange=&SeasonType=Regular+Season&Division=&Season=2014-15&PaceAdjust=N&DateFrom=3-13-2015&PlayerPosition=&VsConference=&OpponentTeamID=1610612742&DateTo=3-13-2015&GameSegment=&LastNGames=0&PlayerExperience=&VsDivision=&LeagueID=00&Outcome=&MeasureType=Four+Factors&PORound=0&PerMode=Totals&SeasonSegment=&Period=2&Rank=N&Month=0\n",
      "<Response [200]>\n",
      "[u'TEAM_ID', u'TEAM_NAME', u'GP', u'W', u'L', u'W_PCT', u'MIN', u'FGM', u'FGA', u'FG_PCT', u'FG3M', u'FG3A', u'FG3_PCT', u'FTM', u'FTA', u'FT_PCT', u'OREB', u'DREB', u'REB', u'AST', u'TOV', u'STL', u'BLK', u'BLKA', u'PF', u'PFD', u'PTS', u'PLUS_MINUS', u'CFID', u'CFPARAMS', 'MeasureType', 'OpponentTeamID', 'DateTo', 'DateFrom', 'Period', 'TeamID', u'TS_PCT', u'EFG_PCT', u'DEF_RATING', u'OFF_RATING', u'NET_RATING', u'PIE', u'AST_TO', u'PACE', u'OREB_PCT', u'REB_PCT', u'TM_TOV_PCT', u'AST_RATIO', u'AST_PCT', u'DREB_PCT', u'PTS_OFF_TOV', u'PTS_FB', u'OPP_PTS_FB', u'PTS_2ND_CHANCE', u'OPP_PTS_2ND_CHANCE', u'OPP_PTS_OFF_TOV', u'PTS_PAINT', u'OPP_PTS_PAINT']\n",
      "[u'FTA_RATE', u'OPP_EFG_PCT', u'OPP_FTA_RATE', u'OPP_OREB_PCT', u'OPP_TOV_PCT']\n",
      "Scoring\n",
      "http://stats.nba.com/stats/leaguedashteamstats?PlusMinus=N&GameScope=&TeamID=1610612746&Location=&StarterBench=&ShotClockRange=&SeasonType=Regular+Season&Division=&Season=2014-15&PaceAdjust=N&DateFrom=3-13-2015&PlayerPosition=&VsConference=&OpponentTeamID=1610612742&DateTo=3-13-2015&GameSegment=&LastNGames=0&PlayerExperience=&VsDivision=&LeagueID=00&Outcome=&MeasureType=Scoring&PORound=0&PerMode=Totals&SeasonSegment=&Period=2&Rank=N&Month=0\n",
      "<Response [200]>\n",
      "[u'TEAM_ID', u'TEAM_NAME', u'GP', u'W', u'L', u'W_PCT', u'MIN', u'FGM', u'FGA', u'FG_PCT', u'FG3M', u'FG3A', u'FG3_PCT', u'FTM', u'FTA', u'FT_PCT', u'OREB', u'DREB', u'REB', u'AST', u'TOV', u'STL', u'BLK', u'BLKA', u'PF', u'PFD', u'PTS', u'PLUS_MINUS', u'CFID', u'CFPARAMS', 'MeasureType', 'OpponentTeamID', 'DateTo', 'DateFrom', 'Period', 'TeamID', u'TS_PCT', u'EFG_PCT', u'DEF_RATING', u'OFF_RATING', u'NET_RATING', u'PIE', u'AST_TO', u'PACE', u'OREB_PCT', u'REB_PCT', u'TM_TOV_PCT', u'AST_RATIO', u'AST_PCT', u'DREB_PCT', u'PTS_OFF_TOV', u'PTS_FB', u'OPP_PTS_FB', u'PTS_2ND_CHANCE', u'OPP_PTS_2ND_CHANCE', u'OPP_PTS_OFF_TOV', u'PTS_PAINT', u'OPP_PTS_PAINT', u'FTA_RATE', u'OPP_EFG_PCT', u'OPP_FTA_RATE', u'OPP_OREB_PCT', u'OPP_TOV_PCT']\n",
      "[u'PCT_AST_FGM', u'PCT_PTS_FB', u'PCT_PTS_2PT', u'PCT_AST_3PM', u'PCT_UAST_FGM', u'PCT_AST_2PM', u'PCT_FGA_3PT', u'PCT_FGA_2PT', u'PCT_PTS_2PT_MR', u'PCT_PTS_FT', u'PCT_UAST_3PM', u'PCT_PTS_3PT', u'PCT_PTS_PAINT', u'PCT_PTS_OFF_TOV', u'PCT_UAST_2PM']\n",
      "Opponent\n",
      "http://stats.nba.com/stats/leaguedashteamstats?PlusMinus=N&GameScope=&TeamID=1610612746&Location=&StarterBench=&ShotClockRange=&SeasonType=Regular+Season&Division=&Season=2014-15&PaceAdjust=N&DateFrom=3-13-2015&PlayerPosition=&VsConference=&OpponentTeamID=1610612742&DateTo=3-13-2015&GameSegment=&LastNGames=0&PlayerExperience=&VsDivision=&LeagueID=00&Outcome=&MeasureType=Opponent&PORound=0&PerMode=Totals&SeasonSegment=&Period=2&Rank=N&Month=0\n",
      "<Response [200]>\n",
      "[u'TEAM_ID', u'TEAM_NAME', u'GP', u'W', u'L', u'W_PCT', u'MIN', u'FGM', u'FGA', u'FG_PCT', u'FG3M', u'FG3A', u'FG3_PCT', u'FTM', u'FTA', u'FT_PCT', u'OREB', u'DREB', u'REB', u'AST', u'TOV', u'STL', u'BLK', u'BLKA', u'PF', u'PFD', u'PTS', u'PLUS_MINUS', u'CFID', u'CFPARAMS', 'MeasureType', 'OpponentTeamID', 'DateTo', 'DateFrom', 'Period', 'TeamID', u'TS_PCT', u'EFG_PCT', u'DEF_RATING', u'OFF_RATING', u'NET_RATING', u'PIE', u'AST_TO', u'PACE', u'OREB_PCT', u'REB_PCT', u'TM_TOV_PCT', u'AST_RATIO', u'AST_PCT', u'DREB_PCT', u'PTS_OFF_TOV', u'PTS_FB', u'OPP_PTS_FB', u'PTS_2ND_CHANCE', u'OPP_PTS_2ND_CHANCE', u'OPP_PTS_OFF_TOV', u'PTS_PAINT', u'OPP_PTS_PAINT', u'FTA_RATE', u'OPP_EFG_PCT', u'OPP_FTA_RATE', u'OPP_OREB_PCT', u'OPP_TOV_PCT', u'PCT_AST_FGM', u'PCT_PTS_FB', u'PCT_PTS_2PT', u'PCT_AST_3PM', u'PCT_UAST_FGM', u'PCT_AST_2PM', u'PCT_FGA_3PT', u'PCT_FGA_2PT', u'PCT_PTS_2PT_MR', u'PCT_PTS_FT', u'PCT_UAST_3PM', u'PCT_PTS_3PT', u'PCT_PTS_PAINT', u'PCT_PTS_OFF_TOV', u'PCT_UAST_2PM']\n",
      "[u'OPP_BLKA', u'OPP_TOV', u'OPP_FTA', u'OPP_BLK', u'OPP_FG3_PCT', u'OPP_REB', u'OPP_FGM', u'OPP_PF', u'OPP_PFD', u'OPP_FG_PCT', u'OPP_FT_PCT', u'OPP_STL', u'OPP_FG3A', u'OPP_PTS', u'OPP_AST', u'OPP_FGA', u'OPP_OREB', u'OPP_DREB', u'OPP_FTM', u'OPP_FG3M']\n",
      "Base\n",
      "http://stats.nba.com/stats/leaguedashteamstats?PlusMinus=N&GameScope=&TeamID=1610612746&Location=&StarterBench=&ShotClockRange=&SeasonType=Regular+Season&Division=&Season=2014-15&PaceAdjust=N&DateFrom=3-13-2015&PlayerPosition=&VsConference=&OpponentTeamID=1610612742&DateTo=3-13-2015&GameSegment=&LastNGames=0&PlayerExperience=&VsDivision=&LeagueID=00&Outcome=&MeasureType=Base&PORound=0&PerMode=Totals&SeasonSegment=&Period=3&Rank=N&Month=0\n",
      "<Response [200]>\n",
      "[]\n",
      "[u'W', u'MIN', u'TOV', 'Period', 'TeamID', u'REB', u'TEAM_NAME', u'W_PCT', u'FG3A', u'AST', u'PLUS_MINUS', 'DateFrom', u'FG3M', u'OREB', u'FGM', u'PF', u'PTS', u'FGA', 'OpponentTeamID', u'CFPARAMS', u'STL', 'DateTo', u'L', u'FTA', u'BLK', u'GP', u'DREB', u'FTM', u'FT_PCT', 'MeasureType', u'PFD', u'FG_PCT', u'CFID', u'TEAM_ID', u'FG3_PCT', u'BLKA']\n",
      "initializing periodframe\n",
      "Advanced\n",
      "http://stats.nba.com/stats/leaguedashteamstats?PlusMinus=N&GameScope=&TeamID=1610612746&Location=&StarterBench=&ShotClockRange=&SeasonType=Regular+Season&Division=&Season=2014-15&PaceAdjust=N&DateFrom=3-13-2015&PlayerPosition=&VsConference=&OpponentTeamID=1610612742&DateTo=3-13-2015&GameSegment=&LastNGames=0&PlayerExperience=&VsDivision=&LeagueID=00&Outcome=&MeasureType=Advanced&PORound=0&PerMode=Totals&SeasonSegment=&Period=3&Rank=N&Month=0\n",
      "<Response [200]>\n",
      "[u'TEAM_ID', u'TEAM_NAME', u'GP', u'W', u'L', u'W_PCT', u'MIN', u'FGM', u'FGA', u'FG_PCT', u'FG3M', u'FG3A', u'FG3_PCT', u'FTM', u'FTA', u'FT_PCT', u'OREB', u'DREB', u'REB', u'AST', u'TOV', u'STL', u'BLK', u'BLKA', u'PF', u'PFD', u'PTS', u'PLUS_MINUS', u'CFID', u'CFPARAMS', 'MeasureType', 'OpponentTeamID', 'DateTo', 'DateFrom', 'Period', 'TeamID']\n",
      "[u'TS_PCT', u'EFG_PCT', u'DEF_RATING', u'OFF_RATING', u'NET_RATING', u'PIE', u'AST_TO', u'PACE', u'OREB_PCT', u'REB_PCT', u'TM_TOV_PCT', u'AST_RATIO', u'AST_PCT', u'DREB_PCT']\n",
      "Misc\n",
      "http://stats.nba.com/stats/leaguedashteamstats?PlusMinus=N&GameScope=&TeamID=1610612746&Location=&StarterBench=&ShotClockRange=&SeasonType=Regular+Season&Division=&Season=2014-15&PaceAdjust=N&DateFrom=3-13-2015&PlayerPosition=&VsConference=&OpponentTeamID=1610612742&DateTo=3-13-2015&GameSegment=&LastNGames=0&PlayerExperience=&VsDivision=&LeagueID=00&Outcome=&MeasureType=Misc&PORound=0&PerMode=Totals&SeasonSegment=&Period=3&Rank=N&Month=0\n",
      "<Response [200]>\n",
      "[u'TEAM_ID', u'TEAM_NAME', u'GP', u'W', u'L', u'W_PCT', u'MIN', u'FGM', u'FGA', u'FG_PCT', u'FG3M', u'FG3A', u'FG3_PCT', u'FTM', u'FTA', u'FT_PCT', u'OREB', u'DREB', u'REB', u'AST', u'TOV', u'STL', u'BLK', u'BLKA', u'PF', u'PFD', u'PTS', u'PLUS_MINUS', u'CFID', u'CFPARAMS', 'MeasureType', 'OpponentTeamID', 'DateTo', 'DateFrom', 'Period', 'TeamID', u'TS_PCT', u'EFG_PCT', u'DEF_RATING', u'OFF_RATING', u'NET_RATING', u'PIE', u'AST_TO', u'PACE', u'OREB_PCT', u'REB_PCT', u'TM_TOV_PCT', u'AST_RATIO', u'AST_PCT', u'DREB_PCT']\n",
      "[u'PTS_OFF_TOV', u'PTS_FB', u'OPP_PTS_FB', u'PTS_2ND_CHANCE', u'OPP_PTS_2ND_CHANCE', u'OPP_PTS_OFF_TOV', u'PTS_PAINT', u'OPP_PTS_PAINT']\n",
      "Four Factors\n",
      "http://stats.nba.com/stats/leaguedashteamstats?PlusMinus=N&GameScope=&TeamID=1610612746&Location=&StarterBench=&ShotClockRange=&SeasonType=Regular+Season&Division=&Season=2014-15&PaceAdjust=N&DateFrom=3-13-2015&PlayerPosition=&VsConference=&OpponentTeamID=1610612742&DateTo=3-13-2015&GameSegment=&LastNGames=0&PlayerExperience=&VsDivision=&LeagueID=00&Outcome=&MeasureType=Four+Factors&PORound=0&PerMode=Totals&SeasonSegment=&Period=3&Rank=N&Month=0\n",
      "<Response [200]>\n",
      "[u'TEAM_ID', u'TEAM_NAME', u'GP', u'W', u'L', u'W_PCT', u'MIN', u'FGM', u'FGA', u'FG_PCT', u'FG3M', u'FG3A', u'FG3_PCT', u'FTM', u'FTA', u'FT_PCT', u'OREB', u'DREB', u'REB', u'AST', u'TOV', u'STL', u'BLK', u'BLKA', u'PF', u'PFD', u'PTS', u'PLUS_MINUS', u'CFID', u'CFPARAMS', 'MeasureType', 'OpponentTeamID', 'DateTo', 'DateFrom', 'Period', 'TeamID', u'TS_PCT', u'EFG_PCT', u'DEF_RATING', u'OFF_RATING', u'NET_RATING', u'PIE', u'AST_TO', u'PACE', u'OREB_PCT', u'REB_PCT', u'TM_TOV_PCT', u'AST_RATIO', u'AST_PCT', u'DREB_PCT', u'PTS_OFF_TOV', u'PTS_FB', u'OPP_PTS_FB', u'PTS_2ND_CHANCE', u'OPP_PTS_2ND_CHANCE', u'OPP_PTS_OFF_TOV', u'PTS_PAINT', u'OPP_PTS_PAINT']\n",
      "[u'FTA_RATE', u'OPP_EFG_PCT', u'OPP_FTA_RATE', u'OPP_OREB_PCT', u'OPP_TOV_PCT']\n",
      "Scoring\n",
      "http://stats.nba.com/stats/leaguedashteamstats?PlusMinus=N&GameScope=&TeamID=1610612746&Location=&StarterBench=&ShotClockRange=&SeasonType=Regular+Season&Division=&Season=2014-15&PaceAdjust=N&DateFrom=3-13-2015&PlayerPosition=&VsConference=&OpponentTeamID=1610612742&DateTo=3-13-2015&GameSegment=&LastNGames=0&PlayerExperience=&VsDivision=&LeagueID=00&Outcome=&MeasureType=Scoring&PORound=0&PerMode=Totals&SeasonSegment=&Period=3&Rank=N&Month=0\n",
      "<Response [200]>\n",
      "[u'TEAM_ID', u'TEAM_NAME', u'GP', u'W', u'L', u'W_PCT', u'MIN', u'FGM', u'FGA', u'FG_PCT', u'FG3M', u'FG3A', u'FG3_PCT', u'FTM', u'FTA', u'FT_PCT', u'OREB', u'DREB', u'REB', u'AST', u'TOV', u'STL', u'BLK', u'BLKA', u'PF', u'PFD', u'PTS', u'PLUS_MINUS', u'CFID', u'CFPARAMS', 'MeasureType', 'OpponentTeamID', 'DateTo', 'DateFrom', 'Period', 'TeamID', u'TS_PCT', u'EFG_PCT', u'DEF_RATING', u'OFF_RATING', u'NET_RATING', u'PIE', u'AST_TO', u'PACE', u'OREB_PCT', u'REB_PCT', u'TM_TOV_PCT', u'AST_RATIO', u'AST_PCT', u'DREB_PCT', u'PTS_OFF_TOV', u'PTS_FB', u'OPP_PTS_FB', u'PTS_2ND_CHANCE', u'OPP_PTS_2ND_CHANCE', u'OPP_PTS_OFF_TOV', u'PTS_PAINT', u'OPP_PTS_PAINT', u'FTA_RATE', u'OPP_EFG_PCT', u'OPP_FTA_RATE', u'OPP_OREB_PCT', u'OPP_TOV_PCT']\n",
      "[u'PCT_AST_FGM', u'PCT_PTS_FB', u'PCT_PTS_2PT', u'PCT_AST_3PM', u'PCT_UAST_FGM', u'PCT_AST_2PM', u'PCT_FGA_3PT', u'PCT_FGA_2PT', u'PCT_PTS_2PT_MR', u'PCT_PTS_FT', u'PCT_UAST_3PM', u'PCT_PTS_3PT', u'PCT_PTS_PAINT', u'PCT_PTS_OFF_TOV', u'PCT_UAST_2PM']\n",
      "Opponent\n",
      "http://stats.nba.com/stats/leaguedashteamstats?PlusMinus=N&GameScope=&TeamID=1610612746&Location=&StarterBench=&ShotClockRange=&SeasonType=Regular+Season&Division=&Season=2014-15&PaceAdjust=N&DateFrom=3-13-2015&PlayerPosition=&VsConference=&OpponentTeamID=1610612742&DateTo=3-13-2015&GameSegment=&LastNGames=0&PlayerExperience=&VsDivision=&LeagueID=00&Outcome=&MeasureType=Opponent&PORound=0&PerMode=Totals&SeasonSegment=&Period=3&Rank=N&Month=0\n",
      "<Response [200]>\n",
      "[u'TEAM_ID', u'TEAM_NAME', u'GP', u'W', u'L', u'W_PCT', u'MIN', u'FGM', u'FGA', u'FG_PCT', u'FG3M', u'FG3A', u'FG3_PCT', u'FTM', u'FTA', u'FT_PCT', u'OREB', u'DREB', u'REB', u'AST', u'TOV', u'STL', u'BLK', u'BLKA', u'PF', u'PFD', u'PTS', u'PLUS_MINUS', u'CFID', u'CFPARAMS', 'MeasureType', 'OpponentTeamID', 'DateTo', 'DateFrom', 'Period', 'TeamID', u'TS_PCT', u'EFG_PCT', u'DEF_RATING', u'OFF_RATING', u'NET_RATING', u'PIE', u'AST_TO', u'PACE', u'OREB_PCT', u'REB_PCT', u'TM_TOV_PCT', u'AST_RATIO', u'AST_PCT', u'DREB_PCT', u'PTS_OFF_TOV', u'PTS_FB', u'OPP_PTS_FB', u'PTS_2ND_CHANCE', u'OPP_PTS_2ND_CHANCE', u'OPP_PTS_OFF_TOV', u'PTS_PAINT', u'OPP_PTS_PAINT', u'FTA_RATE', u'OPP_EFG_PCT', u'OPP_FTA_RATE', u'OPP_OREB_PCT', u'OPP_TOV_PCT', u'PCT_AST_FGM', u'PCT_PTS_FB', u'PCT_PTS_2PT', u'PCT_AST_3PM', u'PCT_UAST_FGM', u'PCT_AST_2PM', u'PCT_FGA_3PT', u'PCT_FGA_2PT', u'PCT_PTS_2PT_MR', u'PCT_PTS_FT', u'PCT_UAST_3PM', u'PCT_PTS_3PT', u'PCT_PTS_PAINT', u'PCT_PTS_OFF_TOV', u'PCT_UAST_2PM']\n",
      "[u'OPP_BLKA', u'OPP_TOV', u'OPP_FTA', u'OPP_BLK', u'OPP_FG3_PCT', u'OPP_REB', u'OPP_FGM', u'OPP_PF', u'OPP_PFD', u'OPP_FG_PCT', u'OPP_FT_PCT', u'OPP_STL', u'OPP_FG3A', u'OPP_PTS', u'OPP_AST', u'OPP_FGA', u'OPP_OREB', u'OPP_DREB', u'OPP_FTM', u'OPP_FG3M']\n",
      "Base\n",
      "http://stats.nba.com/stats/leaguedashteamstats?PlusMinus=N&GameScope=&TeamID=1610612746&Location=&StarterBench=&ShotClockRange=&SeasonType=Regular+Season&Division=&Season=2014-15&PaceAdjust=N&DateFrom=3-13-2015&PlayerPosition=&VsConference=&OpponentTeamID=1610612742&DateTo=3-13-2015&GameSegment=&LastNGames=0&PlayerExperience=&VsDivision=&LeagueID=00&Outcome=&MeasureType=Base&PORound=0&PerMode=Totals&SeasonSegment=&Period=4&Rank=N&Month=0\n",
      "<Response [200]>\n",
      "[]\n",
      "[u'W', u'MIN', u'TOV', 'Period', 'TeamID', u'REB', u'TEAM_NAME', u'W_PCT', u'FG3A', u'AST', u'PLUS_MINUS', 'DateFrom', u'FG3M', u'OREB', u'FGM', u'PF', u'PTS', u'FGA', 'OpponentTeamID', u'CFPARAMS', u'STL', 'DateTo', u'L', u'FTA', u'BLK', u'GP', u'DREB', u'FTM', u'FT_PCT', 'MeasureType', u'PFD', u'FG_PCT', u'CFID', u'TEAM_ID', u'FG3_PCT', u'BLKA']\n",
      "initializing periodframe\n",
      "Advanced\n",
      "http://stats.nba.com/stats/leaguedashteamstats?PlusMinus=N&GameScope=&TeamID=1610612746&Location=&StarterBench=&ShotClockRange=&SeasonType=Regular+Season&Division=&Season=2014-15&PaceAdjust=N&DateFrom=3-13-2015&PlayerPosition=&VsConference=&OpponentTeamID=1610612742&DateTo=3-13-2015&GameSegment=&LastNGames=0&PlayerExperience=&VsDivision=&LeagueID=00&Outcome=&MeasureType=Advanced&PORound=0&PerMode=Totals&SeasonSegment=&Period=4&Rank=N&Month=0\n",
      "<Response [200]>\n",
      "[u'TEAM_ID', u'TEAM_NAME', u'GP', u'W', u'L', u'W_PCT', u'MIN', u'FGM', u'FGA', u'FG_PCT', u'FG3M', u'FG3A', u'FG3_PCT', u'FTM', u'FTA', u'FT_PCT', u'OREB', u'DREB', u'REB', u'AST', u'TOV', u'STL', u'BLK', u'BLKA', u'PF', u'PFD', u'PTS', u'PLUS_MINUS', u'CFID', u'CFPARAMS', 'MeasureType', 'OpponentTeamID', 'DateTo', 'DateFrom', 'Period', 'TeamID']\n",
      "[u'TS_PCT', u'EFG_PCT', u'DEF_RATING', u'OFF_RATING', u'NET_RATING', u'PIE', u'AST_TO', u'PACE', u'OREB_PCT', u'REB_PCT', u'TM_TOV_PCT', u'AST_RATIO', u'AST_PCT', u'DREB_PCT']\n",
      "Misc\n",
      "http://stats.nba.com/stats/leaguedashteamstats?PlusMinus=N&GameScope=&TeamID=1610612746&Location=&StarterBench=&ShotClockRange=&SeasonType=Regular+Season&Division=&Season=2014-15&PaceAdjust=N&DateFrom=3-13-2015&PlayerPosition=&VsConference=&OpponentTeamID=1610612742&DateTo=3-13-2015&GameSegment=&LastNGames=0&PlayerExperience=&VsDivision=&LeagueID=00&Outcome=&MeasureType=Misc&PORound=0&PerMode=Totals&SeasonSegment=&Period=4&Rank=N&Month=0\n",
      "<Response [200]>\n",
      "[u'TEAM_ID', u'TEAM_NAME', u'GP', u'W', u'L', u'W_PCT', u'MIN', u'FGM', u'FGA', u'FG_PCT', u'FG3M', u'FG3A', u'FG3_PCT', u'FTM', u'FTA', u'FT_PCT', u'OREB', u'DREB', u'REB', u'AST', u'TOV', u'STL', u'BLK', u'BLKA', u'PF', u'PFD', u'PTS', u'PLUS_MINUS', u'CFID', u'CFPARAMS', 'MeasureType', 'OpponentTeamID', 'DateTo', 'DateFrom', 'Period', 'TeamID', u'TS_PCT', u'EFG_PCT', u'DEF_RATING', u'OFF_RATING', u'NET_RATING', u'PIE', u'AST_TO', u'PACE', u'OREB_PCT', u'REB_PCT', u'TM_TOV_PCT', u'AST_RATIO', u'AST_PCT', u'DREB_PCT']\n",
      "[u'PTS_OFF_TOV', u'PTS_FB', u'OPP_PTS_FB', u'PTS_2ND_CHANCE', u'OPP_PTS_2ND_CHANCE', u'OPP_PTS_OFF_TOV', u'PTS_PAINT', u'OPP_PTS_PAINT']\n",
      "Four Factors\n",
      "http://stats.nba.com/stats/leaguedashteamstats?PlusMinus=N&GameScope=&TeamID=1610612746&Location=&StarterBench=&ShotClockRange=&SeasonType=Regular+Season&Division=&Season=2014-15&PaceAdjust=N&DateFrom=3-13-2015&PlayerPosition=&VsConference=&OpponentTeamID=1610612742&DateTo=3-13-2015&GameSegment=&LastNGames=0&PlayerExperience=&VsDivision=&LeagueID=00&Outcome=&MeasureType=Four+Factors&PORound=0&PerMode=Totals&SeasonSegment=&Period=4&Rank=N&Month=0\n",
      "<Response [200]>\n",
      "[u'TEAM_ID', u'TEAM_NAME', u'GP', u'W', u'L', u'W_PCT', u'MIN', u'FGM', u'FGA', u'FG_PCT', u'FG3M', u'FG3A', u'FG3_PCT', u'FTM', u'FTA', u'FT_PCT', u'OREB', u'DREB', u'REB', u'AST', u'TOV', u'STL', u'BLK', u'BLKA', u'PF', u'PFD', u'PTS', u'PLUS_MINUS', u'CFID', u'CFPARAMS', 'MeasureType', 'OpponentTeamID', 'DateTo', 'DateFrom', 'Period', 'TeamID', u'TS_PCT', u'EFG_PCT', u'DEF_RATING', u'OFF_RATING', u'NET_RATING', u'PIE', u'AST_TO', u'PACE', u'OREB_PCT', u'REB_PCT', u'TM_TOV_PCT', u'AST_RATIO', u'AST_PCT', u'DREB_PCT', u'PTS_OFF_TOV', u'PTS_FB', u'OPP_PTS_FB', u'PTS_2ND_CHANCE', u'OPP_PTS_2ND_CHANCE', u'OPP_PTS_OFF_TOV', u'PTS_PAINT', u'OPP_PTS_PAINT']\n",
      "[u'FTA_RATE', u'OPP_EFG_PCT', u'OPP_FTA_RATE', u'OPP_OREB_PCT', u'OPP_TOV_PCT']\n",
      "Scoring\n",
      "http://stats.nba.com/stats/leaguedashteamstats?PlusMinus=N&GameScope=&TeamID=1610612746&Location=&StarterBench=&ShotClockRange=&SeasonType=Regular+Season&Division=&Season=2014-15&PaceAdjust=N&DateFrom=3-13-2015&PlayerPosition=&VsConference=&OpponentTeamID=1610612742&DateTo=3-13-2015&GameSegment=&LastNGames=0&PlayerExperience=&VsDivision=&LeagueID=00&Outcome=&MeasureType=Scoring&PORound=0&PerMode=Totals&SeasonSegment=&Period=4&Rank=N&Month=0\n",
      "<Response [200]>\n",
      "[u'TEAM_ID', u'TEAM_NAME', u'GP', u'W', u'L', u'W_PCT', u'MIN', u'FGM', u'FGA', u'FG_PCT', u'FG3M', u'FG3A', u'FG3_PCT', u'FTM', u'FTA', u'FT_PCT', u'OREB', u'DREB', u'REB', u'AST', u'TOV', u'STL', u'BLK', u'BLKA', u'PF', u'PFD', u'PTS', u'PLUS_MINUS', u'CFID', u'CFPARAMS', 'MeasureType', 'OpponentTeamID', 'DateTo', 'DateFrom', 'Period', 'TeamID', u'TS_PCT', u'EFG_PCT', u'DEF_RATING', u'OFF_RATING', u'NET_RATING', u'PIE', u'AST_TO', u'PACE', u'OREB_PCT', u'REB_PCT', u'TM_TOV_PCT', u'AST_RATIO', u'AST_PCT', u'DREB_PCT', u'PTS_OFF_TOV', u'PTS_FB', u'OPP_PTS_FB', u'PTS_2ND_CHANCE', u'OPP_PTS_2ND_CHANCE', u'OPP_PTS_OFF_TOV', u'PTS_PAINT', u'OPP_PTS_PAINT', u'FTA_RATE', u'OPP_EFG_PCT', u'OPP_FTA_RATE', u'OPP_OREB_PCT', u'OPP_TOV_PCT']\n",
      "[u'PCT_AST_FGM', u'PCT_PTS_FB', u'PCT_PTS_2PT', u'PCT_AST_3PM', u'PCT_UAST_FGM', u'PCT_AST_2PM', u'PCT_FGA_3PT', u'PCT_FGA_2PT', u'PCT_PTS_2PT_MR', u'PCT_PTS_FT', u'PCT_UAST_3PM', u'PCT_PTS_3PT', u'PCT_PTS_PAINT', u'PCT_PTS_OFF_TOV', u'PCT_UAST_2PM']\n",
      "Opponent\n",
      "http://stats.nba.com/stats/leaguedashteamstats?PlusMinus=N&GameScope=&TeamID=1610612746&Location=&StarterBench=&ShotClockRange=&SeasonType=Regular+Season&Division=&Season=2014-15&PaceAdjust=N&DateFrom=3-13-2015&PlayerPosition=&VsConference=&OpponentTeamID=1610612742&DateTo=3-13-2015&GameSegment=&LastNGames=0&PlayerExperience=&VsDivision=&LeagueID=00&Outcome=&MeasureType=Opponent&PORound=0&PerMode=Totals&SeasonSegment=&Period=4&Rank=N&Month=0\n",
      "<Response [200]>\n",
      "[u'TEAM_ID', u'TEAM_NAME', u'GP', u'W', u'L', u'W_PCT', u'MIN', u'FGM', u'FGA', u'FG_PCT', u'FG3M', u'FG3A', u'FG3_PCT', u'FTM', u'FTA', u'FT_PCT', u'OREB', u'DREB', u'REB', u'AST', u'TOV', u'STL', u'BLK', u'BLKA', u'PF', u'PFD', u'PTS', u'PLUS_MINUS', u'CFID', u'CFPARAMS', 'MeasureType', 'OpponentTeamID', 'DateTo', 'DateFrom', 'Period', 'TeamID', u'TS_PCT', u'EFG_PCT', u'DEF_RATING', u'OFF_RATING', u'NET_RATING', u'PIE', u'AST_TO', u'PACE', u'OREB_PCT', u'REB_PCT', u'TM_TOV_PCT', u'AST_RATIO', u'AST_PCT', u'DREB_PCT', u'PTS_OFF_TOV', u'PTS_FB', u'OPP_PTS_FB', u'PTS_2ND_CHANCE', u'OPP_PTS_2ND_CHANCE', u'OPP_PTS_OFF_TOV', u'PTS_PAINT', u'OPP_PTS_PAINT', u'FTA_RATE', u'OPP_EFG_PCT', u'OPP_FTA_RATE', u'OPP_OREB_PCT', u'OPP_TOV_PCT', u'PCT_AST_FGM', u'PCT_PTS_FB', u'PCT_PTS_2PT', u'PCT_AST_3PM', u'PCT_UAST_FGM', u'PCT_AST_2PM', u'PCT_FGA_3PT', u'PCT_FGA_2PT', u'PCT_PTS_2PT_MR', u'PCT_PTS_FT', u'PCT_UAST_3PM', u'PCT_PTS_3PT', u'PCT_PTS_PAINT', u'PCT_PTS_OFF_TOV', u'PCT_UAST_2PM']\n",
      "[u'OPP_BLKA', u'OPP_TOV', u'OPP_FTA', u'OPP_BLK', u'OPP_FG3_PCT', u'OPP_REB', u'OPP_FGM', u'OPP_PF', u'OPP_PFD', u'OPP_FG_PCT', u'OPP_FT_PCT', u'OPP_STL', u'OPP_FG3A', u'OPP_PTS', u'OPP_AST', u'OPP_FGA', u'OPP_OREB', u'OPP_DREB', u'OPP_FTM', u'OPP_FG3M']\n"
     ]
    }
   ],
   "source": [
    "# Build frame\n",
    "df = hp.grab_quarter_stats(hp.init_payload(),period_args,gdates)"
   ]
  },
  {
   "cell_type": "code",
   "execution_count": 444,
   "metadata": {
    "_datascience": {},
    "collapsed": true
   },
   "outputs": [],
   "source": [
    "df.to_pickle(\"data/fullstats_lac_dal_20142015_110115_v1.p\")"
   ]
  },
  {
   "cell_type": "code",
   "execution_count": null,
   "metadata": {
    "_datascience": {},
    "collapsed": true
   },
   "outputs": [],
   "source": []
  },
  {
   "cell_type": "code",
   "execution_count": null,
   "metadata": {
    "_datascience": {},
    "collapsed": true
   },
   "outputs": [],
   "source": []
  },
  {
   "cell_type": "code",
   "execution_count": null,
   "metadata": {
    "_datascience": {},
    "collapsed": true
   },
   "outputs": [],
   "source": []
  }
 ],
 "metadata": {
  "_datascience": {},
  "kernelspec": {
   "display_name": "Python 2",
   "language": "python",
   "name": "python2"
  },
  "language_info": {
   "codemirror_mode": {
    "name": "ipython",
    "version": 2
   },
   "file_extension": ".py",
   "mimetype": "text/x-python",
   "name": "python",
   "nbconvert_exporter": "python",
   "pygments_lexer": "ipython2",
   "version": "2.7.6"
  }
 },
 "nbformat": 4,
 "nbformat_minor": 0
}
