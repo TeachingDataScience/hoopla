{
 "cells": [
  {
   "cell_type": "markdown",
   "metadata": {
    "_datascience": {}
   },
   "source": []
  },
  {
   "cell_type": "markdown",
   "metadata": {
    "_datascience": {}
   },
   "source": [
    "# Libraries"
   ]
  },
  {
   "cell_type": "code",
   "execution_count": 1,
   "metadata": {
    "_datascience": {},
    "collapsed": false
   },
   "outputs": [
    {
     "name": "stdout",
     "output_type": "stream",
     "text": [
      "Populating the interactive namespace from numpy and matplotlib\n"
     ]
    }
   ],
   "source": [
    "import pandas as pd\n",
    "import cPickle as pickle\n",
    "%pylab inline\n",
    "import seaborn as sns\n",
    "import sys\n",
    "import statsmodels.formula.api as smf\n",
    "from sklearn import preprocessing\n",
    "\n",
    "\n",
    "sys.path.append('./hoopla')\n",
    "\n",
    "\n",
    "from hoopla import hoopla as hp"
   ]
  },
  {
   "cell_type": "code",
   "execution_count": 141,
   "metadata": {
    "_datascience": {},
    "collapsed": false
   },
   "outputs": [
    {
     "data": {
      "text/plain": [
       "<module 'hoopla.hoopla' from 'hoopla/hoopla.py'>"
      ]
     },
     "execution_count": 141,
     "metadata": {},
     "output_type": "execute_result"
    }
   ],
   "source": [
    "reload(hp) # as needed"
   ]
  },
  {
   "cell_type": "code",
   "execution_count": 2,
   "metadata": {
    "_datascience": {},
    "collapsed": true
   },
   "outputs": [],
   "source": [
    "df = pd.read_pickle(\"data/fullstats_lac_dal_20132016_110515_v1.p\")"
   ]
  },
  {
   "cell_type": "markdown",
   "metadata": {
    "_datascience": {}
   },
   "source": [
    "# Variable Settings"
   ]
  },
  {
   "cell_type": "code",
   "execution_count": 3,
   "metadata": {
    "_datascience": {},
    "collapsed": true
   },
   "outputs": [],
   "source": [
    "# Collect all columns as unicode vars\n",
    "all_vars = []\n",
    "for x in df.columns.tolist():\n",
    "    all_vars.append(x.encode())\n",
    "\n",
    "vars_of_interest = all_vars\n",
    "\n",
    "target = \"PLUS_MINUS\"\n"
   ]
  },
  {
   "cell_type": "code",
   "execution_count": 5,
   "metadata": {
    "_datascience": {},
    "collapsed": false
   },
   "outputs": [
    {
     "data": {
      "image/png": "[encoded data removed]",
      "text/plain": [
       "<matplotlib.figure.Figure at 0x7f0ecb385950>"
      ]
     },
     "metadata": {},
     "output_type": "display_data"
    }
   ],
   "source": [
    "#key_vars = [\"DREB\",\"REB\",\"REB_PCT\",\"EFG_PCT\",\"FG_PCT\",\"PTS_OFF_TOV\"]\n",
    "model_frame = hp.make_model_frame(df,all_vars,\"PLUS_MINUS\")"
   ]
  },
  {
   "cell_type": "markdown",
   "metadata": {
    "_datascience": {}
   },
   "source": [
    "# Z-Score Normalization"
   ]
  },
  {
   "cell_type": "code",
   "execution_count": 98,
   "metadata": {
    "_datascience": {},
    "collapsed": false
   },
   "outputs": [],
   "source": [
    "df1_std = hp.make_zscore_frame(df1)"
   ]
  },
  {
   "cell_type": "code",
   "execution_count": 99,
   "metadata": {
    "_datascience": {},
    "collapsed": true
   },
   "outputs": [
    {
     "data": {
      "text/html": [
       "<div style=\"max-height:1000px;max-width:1500px;overflow:auto;\">\n",
       "<table border=\"1\" class=\"dataframe\">\n",
       "  <thead>\n",
       "    <tr style=\"text-align: right;\">\n",
       "      <th></th>\n",
       "      <th>REB_PCT</th>\n",
       "      <th>EFG_PCT</th>\n",
       "      <th>PTS_OFF_TOV</th>\n",
       "    </tr>\n",
       "    <tr>\n",
       "      <th>PeriodID</th>\n",
       "      <th></th>\n",
       "      <th></th>\n",
       "      <th></th>\n",
       "    </tr>\n",
       "  </thead>\n",
       "  <tbody>\n",
       "    <tr>\n",
       "      <th>10-31-2013_1</th>\n",
       "      <td>0.624312</td>\n",
       "      <td>0.311811</td>\n",
       "      <td>1.318727</td>\n",
       "    </tr>\n",
       "    <tr>\n",
       "      <th>10-31-2013_2</th>\n",
       "      <td>1.522619</td>\n",
       "      <td>0.614829</td>\n",
       "      <td>-0.808967</td>\n",
       "    </tr>\n",
       "    <tr>\n",
       "      <th>10-31-2013_3</th>\n",
       "      <td>-0.142992</td>\n",
       "      <td>-0.193219</td>\n",
       "      <td>1.673342</td>\n",
       "    </tr>\n",
       "    <tr>\n",
       "      <th>10-31-2013_4</th>\n",
       "      <td>0.923747</td>\n",
       "      <td>0.528252</td>\n",
       "      <td>1.673342</td>\n",
       "    </tr>\n",
       "    <tr>\n",
       "      <th>12-25-2013_1</th>\n",
       "      <td>0.455879</td>\n",
       "      <td>0.744693</td>\n",
       "      <td>-0.808967</td>\n",
       "    </tr>\n",
       "    <tr>\n",
       "      <th>12-25-2013_2</th>\n",
       "      <td>-1.602741</td>\n",
       "      <td>-0.012851</td>\n",
       "      <td>-0.099736</td>\n",
       "    </tr>\n",
       "    <tr>\n",
       "      <th>12-25-2013_3</th>\n",
       "      <td>-0.142992</td>\n",
       "      <td>0.167517</td>\n",
       "      <td>1.673342</td>\n",
       "    </tr>\n",
       "    <tr>\n",
       "      <th>12-25-2013_4</th>\n",
       "      <td>-0.835437</td>\n",
       "      <td>-0.359157</td>\n",
       "      <td>-1.518198</td>\n",
       "    </tr>\n",
       "    <tr>\n",
       "      <th>1-30-2014_1</th>\n",
       "      <td>-0.751221</td>\n",
       "      <td>-0.337513</td>\n",
       "      <td>-0.808967</td>\n",
       "    </tr>\n",
       "    <tr>\n",
       "      <th>1-30-2014_2</th>\n",
       "      <td>-0.975798</td>\n",
       "      <td>1.588814</td>\n",
       "      <td>0.964111</td>\n",
       "    </tr>\n",
       "    <tr>\n",
       "      <th>1-30-2014_3</th>\n",
       "      <td>-2.416832</td>\n",
       "      <td>-2.898735</td>\n",
       "      <td>-1.518198</td>\n",
       "    </tr>\n",
       "    <tr>\n",
       "      <th>1-30-2014_4</th>\n",
       "      <td>0.455879</td>\n",
       "      <td>-0.012851</td>\n",
       "      <td>-1.518198</td>\n",
       "    </tr>\n",
       "    <tr>\n",
       "      <th>3-12-2014_1</th>\n",
       "      <td>0.521381</td>\n",
       "      <td>0.290167</td>\n",
       "      <td>0.254880</td>\n",
       "    </tr>\n",
       "    <tr>\n",
       "      <th>3-12-2014_2</th>\n",
       "      <td>0.324876</td>\n",
       "      <td>0.333455</td>\n",
       "      <td>-0.808967</td>\n",
       "    </tr>\n",
       "    <tr>\n",
       "      <th>3-12-2014_3</th>\n",
       "      <td>1.036036</td>\n",
       "      <td>0.708620</td>\n",
       "      <td>1.318727</td>\n",
       "    </tr>\n",
       "    <tr>\n",
       "      <th>3-12-2014_4</th>\n",
       "      <td>1.372901</td>\n",
       "      <td>-0.323084</td>\n",
       "      <td>1.318727</td>\n",
       "    </tr>\n",
       "    <tr>\n",
       "      <th>11-5-2014_1</th>\n",
       "      <td>-1.172302</td>\n",
       "      <td>-1.066199</td>\n",
       "      <td>0.964111</td>\n",
       "    </tr>\n",
       "    <tr>\n",
       "      <th>11-5-2014_2</th>\n",
       "      <td>-0.676362</td>\n",
       "      <td>0.347884</td>\n",
       "      <td>-0.099736</td>\n",
       "    </tr>\n",
       "    <tr>\n",
       "      <th>11-5-2014_3</th>\n",
       "      <td>-1.462381</td>\n",
       "      <td>1.473379</td>\n",
       "      <td>0.254880</td>\n",
       "    </tr>\n",
       "    <tr>\n",
       "      <th>11-5-2014_4</th>\n",
       "      <td>0.708528</td>\n",
       "      <td>-0.186004</td>\n",
       "      <td>1.318727</td>\n",
       "    </tr>\n",
       "    <tr>\n",
       "      <th>12-25-2014_1</th>\n",
       "      <td>0.764672</td>\n",
       "      <td>-2.119546</td>\n",
       "      <td>-0.808967</td>\n",
       "    </tr>\n",
       "    <tr>\n",
       "      <th>12-25-2014_2</th>\n",
       "      <td>0.493309</td>\n",
       "      <td>-0.640531</td>\n",
       "      <td>-0.808967</td>\n",
       "    </tr>\n",
       "    <tr>\n",
       "      <th>12-25-2014_3</th>\n",
       "      <td>-0.208494</td>\n",
       "      <td>0.456105</td>\n",
       "      <td>0.609495</td>\n",
       "    </tr>\n",
       "    <tr>\n",
       "      <th>12-25-2014_4</th>\n",
       "      <td>0.278089</td>\n",
       "      <td>1.047711</td>\n",
       "      <td>-0.099736</td>\n",
       "    </tr>\n",
       "    <tr>\n",
       "      <th>3-8-2015_1</th>\n",
       "      <td>1.822055</td>\n",
       "      <td>0.124228</td>\n",
       "      <td>-0.808967</td>\n",
       "    </tr>\n",
       "    <tr>\n",
       "      <th>3-8-2015_2</th>\n",
       "      <td>-1.602741</td>\n",
       "      <td>-0.698249</td>\n",
       "      <td>-0.808967</td>\n",
       "    </tr>\n",
       "    <tr>\n",
       "      <th>3-8-2015_3</th>\n",
       "      <td>0.923747</td>\n",
       "      <td>-0.214863</td>\n",
       "      <td>-0.808967</td>\n",
       "    </tr>\n",
       "    <tr>\n",
       "      <th>3-8-2015_4</th>\n",
       "      <td>0.100299</td>\n",
       "      <td>1.790826</td>\n",
       "      <td>0.254880</td>\n",
       "    </tr>\n",
       "    <tr>\n",
       "      <th>3-31-2015_1</th>\n",
       "      <td>0.661741</td>\n",
       "      <td>0.773552</td>\n",
       "      <td>0.254880</td>\n",
       "    </tr>\n",
       "    <tr>\n",
       "      <th>3-31-2015_2</th>\n",
       "      <td>0.306161</td>\n",
       "      <td>-0.763181</td>\n",
       "      <td>-0.808967</td>\n",
       "    </tr>\n",
       "    <tr>\n",
       "      <th>3-31-2015_3</th>\n",
       "      <td>-1.134873</td>\n",
       "      <td>0.477749</td>\n",
       "      <td>-0.099736</td>\n",
       "    </tr>\n",
       "    <tr>\n",
       "      <th>3-31-2015_4</th>\n",
       "      <td>-0.171064</td>\n",
       "      <td>-1.953608</td>\n",
       "      <td>-0.808967</td>\n",
       "    </tr>\n",
       "  </tbody>\n",
       "</table>\n",
       "</div>"
      ],
      "text/plain": [
       "               REB_PCT   EFG_PCT  PTS_OFF_TOV\n",
       "PeriodID                                     \n",
       "10-31-2013_1  0.624312  0.311811     1.318727\n",
       "10-31-2013_2  1.522619  0.614829    -0.808967\n",
       "10-31-2013_3 -0.142992 -0.193219     1.673342\n",
       "10-31-2013_4  0.923747  0.528252     1.673342\n",
       "12-25-2013_1  0.455879  0.744693    -0.808967\n",
       "12-25-2013_2 -1.602741 -0.012851    -0.099736\n",
       "12-25-2013_3 -0.142992  0.167517     1.673342\n",
       "12-25-2013_4 -0.835437 -0.359157    -1.518198\n",
       "1-30-2014_1  -0.751221 -0.337513    -0.808967\n",
       "1-30-2014_2  -0.975798  1.588814     0.964111\n",
       "1-30-2014_3  -2.416832 -2.898735    -1.518198\n",
       "1-30-2014_4   0.455879 -0.012851    -1.518198\n",
       "3-12-2014_1   0.521381  0.290167     0.254880\n",
       "3-12-2014_2   0.324876  0.333455    -0.808967\n",
       "3-12-2014_3   1.036036  0.708620     1.318727\n",
       "3-12-2014_4   1.372901 -0.323084     1.318727\n",
       "11-5-2014_1  -1.172302 -1.066199     0.964111\n",
       "11-5-2014_2  -0.676362  0.347884    -0.099736\n",
       "11-5-2014_3  -1.462381  1.473379     0.254880\n",
       "11-5-2014_4   0.708528 -0.186004     1.318727\n",
       "12-25-2014_1  0.764672 -2.119546    -0.808967\n",
       "12-25-2014_2  0.493309 -0.640531    -0.808967\n",
       "12-25-2014_3 -0.208494  0.456105     0.609495\n",
       "12-25-2014_4  0.278089  1.047711    -0.099736\n",
       "3-8-2015_1    1.822055  0.124228    -0.808967\n",
       "3-8-2015_2   -1.602741 -0.698249    -0.808967\n",
       "3-8-2015_3    0.923747 -0.214863    -0.808967\n",
       "3-8-2015_4    0.100299  1.790826     0.254880\n",
       "3-31-2015_1   0.661741  0.773552     0.254880\n",
       "3-31-2015_2   0.306161 -0.763181    -0.808967\n",
       "3-31-2015_3  -1.134873  0.477749    -0.099736\n",
       "3-31-2015_4  -0.171064 -1.953608    -0.808967"
      ]
     },
     "execution_count": 99,
     "metadata": {},
     "output_type": "execute_result"
    }
   ],
   "source": [
    "df1_std"
   ]
  },
  {
   "cell_type": "markdown",
   "metadata": {
    "_datascience": {}
   },
   "source": [
    "# Multiple Regression with Select Variables"
   ]
  },
  {
   "cell_type": "code",
   "execution_count": 143,
   "metadata": {
    "_datascience": {},
    "collapsed": false
   },
   "outputs": [
    {
     "name": "stdout",
     "output_type": "stream",
     "text": [
      "PLUS_MINUS ~ DREB + REB + REB_PCT + EFG_PCT + FG_PCT + PTS_OFF_TOV\n",
      "rsquared: 0.772127681126\n"
     ]
    }
   ],
   "source": [
    "# Unstandardized\n",
    "key_vars = [\"DREB\",\"REB\",\"REB_PCT\",\"EFG_PCT\",\"FG_PCT\",\"PTS_OFF_TOV\"]\n",
    "\n",
    "\n",
    "formstring = hp.make_formstring(key_vars,target)\n",
    "\n",
    "# Create model\n",
    "lm = smf.ols(formula=formstring,data=df).fit()\n",
    "print \"rsquared: %s\" % lm.rsquared"
   ]
  },
  {
   "cell_type": "code",
   "execution_count": 154,
   "metadata": {
    "_datascience": {},
    "collapsed": false
   },
   "outputs": [
    {
     "name": "stdout",
     "output_type": "stream",
     "text": [
      "PLUS_MINUS ~ DREB + REB + REB_PCT + EFG_PCT + FG_PCT + PTS_OFF_TOV\n",
      "rsquared: 0.772127681126\n"
     ]
    }
   ],
   "source": [
    "# Standardized\n",
    "df1 = df[key_vars]\n",
    "df1_std = hp.make_zscore_frame(df1)\n",
    "df1_std[target] = df[target]\n",
    "\n",
    "\n",
    "key_vars = [\"DREB\",\"REB\",\"REB_PCT\",\"EFG_PCT\",\"FG_PCT\",\"PTS_OFF_TOV\"]\n",
    "\n",
    "\n",
    "formstring = hp.make_formstring(key_vars,target)\n",
    "\n",
    "# Create model\n",
    "lm_std = smf.ols(formula=formstring,data=df1_std).fit()\n",
    "print \"rsquared: %s\" % lm_std.rsquared\n"
   ]
  },
  {
   "cell_type": "code",
   "execution_count": 155,
   "metadata": {
    "_datascience": {},
    "collapsed": false
   },
   "outputs": [
    {
     "data": {
      "text/html": [
       "<table class=\"simpletable\">\n",
       "<caption>OLS Regression Results</caption>\n",
       "<tr>\n",
       "  <th>Dep. Variable:</th>       <td>PLUS_MINUS</td>    <th>  R-squared:         </th> <td>   0.772</td>\n",
       "</tr>\n",
       "<tr>\n",
       "  <th>Model:</th>                   <td>OLS</td>       <th>  Adj. R-squared:    </th> <td>   0.717</td>\n",
       "</tr>\n",
       "<tr>\n",
       "  <th>Method:</th>             <td>Least Squares</td>  <th>  F-statistic:       </th> <td>   14.12</td>\n",
       "</tr>\n",
       "<tr>\n",
       "  <th>Date:</th>             <td>Thu, 05 Nov 2015</td> <th>  Prob (F-statistic):</th> <td>5.70e-07</td>\n",
       "</tr>\n",
       "<tr>\n",
       "  <th>Time:</th>                 <td>18:33:37</td>     <th>  Log-Likelihood:    </th> <td> -86.409</td>\n",
       "</tr>\n",
       "<tr>\n",
       "  <th>No. Observations:</th>      <td>    32</td>      <th>  AIC:               </th> <td>   186.8</td>\n",
       "</tr>\n",
       "<tr>\n",
       "  <th>Df Residuals:</th>          <td>    25</td>      <th>  BIC:               </th> <td>   197.1</td>\n",
       "</tr>\n",
       "<tr>\n",
       "  <th>Df Model:</th>              <td>     6</td>      <th>                     </th>     <td> </td>   \n",
       "</tr>\n",
       "<tr>\n",
       "  <th>Covariance Type:</th>      <td>nonrobust</td>    <th>                     </th>     <td> </td>   \n",
       "</tr>\n",
       "</table>\n",
       "<table class=\"simpletable\">\n",
       "<tr>\n",
       "       <td></td>          <th>coef</th>     <th>std err</th>      <th>t</th>      <th>P>|t|</th> <th>[95.0% Conf. Int.]</th> \n",
       "</tr>\n",
       "<tr>\n",
       "  <th>Intercept</th>   <td>   -0.3750</td> <td>    0.720</td> <td>   -0.521</td> <td> 0.607</td> <td>   -1.858     1.108</td>\n",
       "</tr>\n",
       "<tr>\n",
       "  <th>DREB</th>        <td>    0.6522</td> <td>    1.588</td> <td>    0.411</td> <td> 0.685</td> <td>   -2.618     3.922</td>\n",
       "</tr>\n",
       "<tr>\n",
       "  <th>REB</th>         <td>    5.9264</td> <td>    2.456</td> <td>    2.413</td> <td> 0.023</td> <td>    0.868    10.985</td>\n",
       "</tr>\n",
       "<tr>\n",
       "  <th>REB_PCT</th>     <td>   -2.4200</td> <td>    1.649</td> <td>   -1.468</td> <td> 0.155</td> <td>   -5.815     0.975</td>\n",
       "</tr>\n",
       "<tr>\n",
       "  <th>EFG_PCT</th>     <td>    8.9478</td> <td>    3.982</td> <td>    2.247</td> <td> 0.034</td> <td>    0.747    17.148</td>\n",
       "</tr>\n",
       "<tr>\n",
       "  <th>FG_PCT</th>      <td>   -4.9299</td> <td>    3.940</td> <td>   -1.251</td> <td> 0.222</td> <td>  -13.045     3.185</td>\n",
       "</tr>\n",
       "<tr>\n",
       "  <th>PTS_OFF_TOV</th> <td>    2.6540</td> <td>    0.823</td> <td>    3.223</td> <td> 0.004</td> <td>    0.958     4.350</td>\n",
       "</tr>\n",
       "</table>\n",
       "<table class=\"simpletable\">\n",
       "<tr>\n",
       "  <th>Omnibus:</th>       <td> 0.111</td> <th>  Durbin-Watson:     </th> <td>   2.127</td>\n",
       "</tr>\n",
       "<tr>\n",
       "  <th>Prob(Omnibus):</th> <td> 0.946</td> <th>  Jarque-Bera (JB):  </th> <td>   0.315</td>\n",
       "</tr>\n",
       "<tr>\n",
       "  <th>Skew:</th>          <td>-0.078</td> <th>  Prob(JB):          </th> <td>   0.854</td>\n",
       "</tr>\n",
       "<tr>\n",
       "  <th>Kurtosis:</th>      <td> 2.540</td> <th>  Cond. No.          </th> <td>    12.3</td>\n",
       "</tr>\n",
       "</table>"
      ],
      "text/plain": [
       "<class 'statsmodels.iolib.summary.Summary'>\n",
       "\"\"\"\n",
       "                            OLS Regression Results                            \n",
       "==============================================================================\n",
       "Dep. Variable:             PLUS_MINUS   R-squared:                       0.772\n",
       "Model:                            OLS   Adj. R-squared:                  0.717\n",
       "Method:                 Least Squares   F-statistic:                     14.12\n",
       "Date:                Thu, 05 Nov 2015   Prob (F-statistic):           5.70e-07\n",
       "Time:                        18:33:37   Log-Likelihood:                -86.409\n",
       "No. Observations:                  32   AIC:                             186.8\n",
       "Df Residuals:                      25   BIC:                             197.1\n",
       "Df Model:                           6                                         \n",
       "Covariance Type:            nonrobust                                         \n",
       "===============================================================================\n",
       "                  coef    std err          t      P>|t|      [95.0% Conf. Int.]\n",
       "-------------------------------------------------------------------------------\n",
       "Intercept      -0.3750      0.720     -0.521      0.607        -1.858     1.108\n",
       "DREB            0.6522      1.588      0.411      0.685        -2.618     3.922\n",
       "REB             5.9264      2.456      2.413      0.023         0.868    10.985\n",
       "REB_PCT        -2.4200      1.649     -1.468      0.155        -5.815     0.975\n",
       "EFG_PCT         8.9478      3.982      2.247      0.034         0.747    17.148\n",
       "FG_PCT         -4.9299      3.940     -1.251      0.222       -13.045     3.185\n",
       "PTS_OFF_TOV     2.6540      0.823      3.223      0.004         0.958     4.350\n",
       "==============================================================================\n",
       "Omnibus:                        0.111   Durbin-Watson:                   2.127\n",
       "Prob(Omnibus):                  0.946   Jarque-Bera (JB):                0.315\n",
       "Skew:                          -0.078   Prob(JB):                        0.854\n",
       "Kurtosis:                       2.540   Cond. No.                         12.3\n",
       "==============================================================================\n",
       "\n",
       "Warnings:\n",
       "[1] Standard Errors assume that the covariance matrix of the errors is correctly specified.\n",
       "\"\"\""
      ]
     },
     "execution_count": 155,
     "metadata": {},
     "output_type": "execute_result"
    }
   ],
   "source": [
    "lm_std.summary()"
   ]
  },
  {
   "cell_type": "code",
   "execution_count": 228,
   "metadata": {
    "_datascience": {},
    "collapsed": false
   },
   "outputs": [
    {
     "data": {
      "text/plain": [
       "<matplotlib.text.Text at 0x7f1ebd7c9210>"
      ]
     },
     "execution_count": 228,
     "metadata": {},
     "output_type": "execute_result"
    },
    {
     "data": {
      "image/png": "[encoded data removed]",
      "text/plain": [
       "<matplotlib.figure.Figure at 0x7f1ebd87f650>"
      ]
     },
     "metadata": {},
     "output_type": "display_data"
    }
   ],
   "source": [
    "# Compare values to actual\n",
    "plt.figure(figsize=(15,10))\n",
    "lm_std.fittedvalues.plot(alpha=.50)\n",
    "df[target].plot(color='green',alpha=.75)\n",
    "plt.title(\"Green is Real\")\n"
   ]
  },
  {
   "cell_type": "code",
   "execution_count": 167,
   "metadata": {
    "_datascience": {},
    "collapsed": false
   },
   "outputs": [
    {
     "name": "stdout",
     "output_type": "stream",
     "text": [
      "Populating the interactive namespace from numpy and matplotlib\n"
     ]
    },
    {
     "name": "stderr",
     "output_type": "stream",
     "text": [
      "WARNING: pylab import has clobbered these variables: ['norm']\n",
      "`%matplotlib` prevents importing * from pylab and numpy\n"
     ]
    }
   ],
   "source": [
    "%pylab inline"
   ]
  },
  {
   "cell_type": "code",
   "execution_count": 173,
   "metadata": {
    "_datascience": {},
    "collapsed": false
   },
   "outputs": [],
   "source": [
    "from mpl_toolkits.mplot3d import Axes3D"
   ]
  },
  {
   "cell_type": "code",
   "execution_count": 171,
   "metadata": {
    "_datascience": {},
    "collapsed": false,
    "scrolled": true
   },
   "outputs": [
    {
     "data": {
      "image/png": "[encoded data removed]",
      "text/plain": [
       "<matplotlib.figure.Figure at 0x7f1ec58bce10>"
      ]
     },
     "metadata": {},
     "output_type": "display_data"
    }
   ],
   "source": [
    "i = 1\n",
    "plt.figure(figsize=(10,5))\n",
    "plt.suptitle('Top Effects per Period: Clippers vs Warriors',fontsize=20)\n",
    "for v in key_vars:\n",
    "    plt.subplot(3,2,i)\n",
    "    sns.regplot(x=v,y=target,data=df1_std,label=v,xlabel=\"\")\n",
    "    plt.ylim(-15,15)\n",
    "    plt.xlim(-2,2)\n",
    "    i += 1\n"
   ]
  },
  {
   "cell_type": "code",
   "execution_count": 148,
   "metadata": {
    "_datascience": {},
    "collapsed": false
   },
   "outputs": [
    {
     "data": {
      "text/html": [
       "<table class=\"simpletable\">\n",
       "<caption>OLS Regression Results</caption>\n",
       "<tr>\n",
       "  <th>Dep. Variable:</th>       <td>PLUS_MINUS</td>    <th>  R-squared:         </th> <td>   0.772</td>\n",
       "</tr>\n",
       "<tr>\n",
       "  <th>Model:</th>                   <td>OLS</td>       <th>  Adj. R-squared:    </th> <td>   0.717</td>\n",
       "</tr>\n",
       "<tr>\n",
       "  <th>Method:</th>             <td>Least Squares</td>  <th>  F-statistic:       </th> <td>   14.12</td>\n",
       "</tr>\n",
       "<tr>\n",
       "  <th>Date:</th>             <td>Thu, 05 Nov 2015</td> <th>  Prob (F-statistic):</th> <td>5.70e-07</td>\n",
       "</tr>\n",
       "<tr>\n",
       "  <th>Time:</th>                 <td>18:31:20</td>     <th>  Log-Likelihood:    </th> <td> -86.409</td>\n",
       "</tr>\n",
       "<tr>\n",
       "  <th>No. Observations:</th>      <td>    32</td>      <th>  AIC:               </th> <td>   186.8</td>\n",
       "</tr>\n",
       "<tr>\n",
       "  <th>Df Residuals:</th>          <td>    25</td>      <th>  BIC:               </th> <td>   197.1</td>\n",
       "</tr>\n",
       "<tr>\n",
       "  <th>Df Model:</th>              <td>     6</td>      <th>                     </th>     <td> </td>   \n",
       "</tr>\n",
       "<tr>\n",
       "  <th>Covariance Type:</th>      <td>nonrobust</td>    <th>                     </th>     <td> </td>   \n",
       "</tr>\n",
       "</table>\n",
       "<table class=\"simpletable\">\n",
       "<tr>\n",
       "       <td></td>          <th>coef</th>     <th>std err</th>      <th>t</th>      <th>P>|t|</th> <th>[95.0% Conf. Int.]</th> \n",
       "</tr>\n",
       "<tr>\n",
       "  <th>Intercept</th>   <td>  -28.2034</td> <td>    4.058</td> <td>   -6.950</td> <td> 0.000</td> <td>  -36.561   -19.845</td>\n",
       "</tr>\n",
       "<tr>\n",
       "  <th>DREB</th>        <td>    0.2502</td> <td>    0.609</td> <td>    0.411</td> <td> 0.685</td> <td>   -1.004     1.504</td>\n",
       "</tr>\n",
       "<tr>\n",
       "  <th>REB</th>         <td>    1.8338</td> <td>    0.760</td> <td>    2.413</td> <td> 0.023</td> <td>    0.269     3.399</td>\n",
       "</tr>\n",
       "<tr>\n",
       "  <th>REB_PCT</th>     <td>  -22.6450</td> <td>   15.427</td> <td>   -1.468</td> <td> 0.155</td> <td>  -54.417     9.127</td>\n",
       "</tr>\n",
       "<tr>\n",
       "  <th>EFG_PCT</th>     <td>   64.5561</td> <td>   28.727</td> <td>    2.247</td> <td> 0.034</td> <td>    5.391   123.721</td>\n",
       "</tr>\n",
       "<tr>\n",
       "  <th>FG_PCT</th>      <td>  -39.5659</td> <td>   31.623</td> <td>   -1.251</td> <td> 0.222</td> <td> -104.696    25.564</td>\n",
       "</tr>\n",
       "<tr>\n",
       "  <th>PTS_OFF_TOV</th> <td>    0.9411</td> <td>    0.292</td> <td>    3.223</td> <td> 0.004</td> <td>    0.340     1.543</td>\n",
       "</tr>\n",
       "</table>\n",
       "<table class=\"simpletable\">\n",
       "<tr>\n",
       "  <th>Omnibus:</th>       <td> 0.111</td> <th>  Durbin-Watson:     </th> <td>   2.127</td>\n",
       "</tr>\n",
       "<tr>\n",
       "  <th>Prob(Omnibus):</th> <td> 0.946</td> <th>  Jarque-Bera (JB):  </th> <td>   0.315</td>\n",
       "</tr>\n",
       "<tr>\n",
       "  <th>Skew:</th>          <td>-0.078</td> <th>  Prob(JB):          </th> <td>   0.854</td>\n",
       "</tr>\n",
       "<tr>\n",
       "  <th>Kurtosis:</th>      <td> 2.540</td> <th>  Cond. No.          </th> <td>    830.</td>\n",
       "</tr>\n",
       "</table>"
      ],
      "text/plain": [
       "<class 'statsmodels.iolib.summary.Summary'>\n",
       "\"\"\"\n",
       "                            OLS Regression Results                            \n",
       "==============================================================================\n",
       "Dep. Variable:             PLUS_MINUS   R-squared:                       0.772\n",
       "Model:                            OLS   Adj. R-squared:                  0.717\n",
       "Method:                 Least Squares   F-statistic:                     14.12\n",
       "Date:                Thu, 05 Nov 2015   Prob (F-statistic):           5.70e-07\n",
       "Time:                        18:31:20   Log-Likelihood:                -86.409\n",
       "No. Observations:                  32   AIC:                             186.8\n",
       "Df Residuals:                      25   BIC:                             197.1\n",
       "Df Model:                           6                                         \n",
       "Covariance Type:            nonrobust                                         \n",
       "===============================================================================\n",
       "                  coef    std err          t      P>|t|      [95.0% Conf. Int.]\n",
       "-------------------------------------------------------------------------------\n",
       "Intercept     -28.2034      4.058     -6.950      0.000       -36.561   -19.845\n",
       "DREB            0.2502      0.609      0.411      0.685        -1.004     1.504\n",
       "REB             1.8338      0.760      2.413      0.023         0.269     3.399\n",
       "REB_PCT       -22.6450     15.427     -1.468      0.155       -54.417     9.127\n",
       "EFG_PCT        64.5561     28.727      2.247      0.034         5.391   123.721\n",
       "FG_PCT        -39.5659     31.623     -1.251      0.222      -104.696    25.564\n",
       "PTS_OFF_TOV     0.9411      0.292      3.223      0.004         0.340     1.543\n",
       "==============================================================================\n",
       "Omnibus:                        0.111   Durbin-Watson:                   2.127\n",
       "Prob(Omnibus):                  0.946   Jarque-Bera (JB):                0.315\n",
       "Skew:                          -0.078   Prob(JB):                        0.854\n",
       "Kurtosis:                       2.540   Cond. No.                         830.\n",
       "==============================================================================\n",
       "\n",
       "Warnings:\n",
       "[1] Standard Errors assume that the covariance matrix of the errors is correctly specified.\n",
       "\"\"\""
      ]
     },
     "execution_count": 148,
     "metadata": {},
     "output_type": "execute_result"
    }
   ],
   "source": [
    "lm_std.summary()"
   ]
  },
  {
   "cell_type": "code",
   "execution_count": null,
   "metadata": {
    "_datascience": {},
    "collapsed": true
   },
   "outputs": [],
   "source": []
  },
  {
   "cell_type": "code",
   "execution_count": null,
   "metadata": {
    "_datascience": {},
    "collapsed": true
   },
   "outputs": [],
   "source": []
  },
  {
   "cell_type": "markdown",
   "metadata": {
    "_datascience": {}
   },
   "source": [
    "# Functions"
   ]
  },
  {
   "cell_type": "code",
   "execution_count": null,
   "metadata": {
    "_datascience": {},
    "collapsed": true
   },
   "outputs": [],
   "source": []
  },
  {
   "cell_type": "code",
   "execution_count": null,
   "metadata": {
    "_datascience": {},
    "collapsed": true
   },
   "outputs": [],
   "source": []
  },
  {
   "cell_type": "markdown",
   "metadata": {
    "_datascience": {}
   },
   "source": [
    "### Temp"
   ]
  },
  {
   "cell_type": "code",
   "execution_count": 38,
   "metadata": {
    "_datascience": {},
    "collapsed": false
   },
   "outputs": [
    {
     "data": {
      "text/html": [
       "<div style=\"max-height:1000px;max-width:1500px;overflow:auto;\">\n",
       "<table border=\"1\" class=\"dataframe\">\n",
       "  <thead>\n",
       "    <tr style=\"text-align: right;\">\n",
       "      <th></th>\n",
       "      <th>REB_PCT</th>\n",
       "      <th>EFG_PCT</th>\n",
       "      <th>PTS_OFF_TOV</th>\n",
       "    </tr>\n",
       "    <tr>\n",
       "      <th>PeriodID</th>\n",
       "      <th></th>\n",
       "      <th></th>\n",
       "      <th></th>\n",
       "    </tr>\n",
       "  </thead>\n",
       "  <tbody>\n",
       "    <tr>\n",
       "      <th>10-31-2013_1</th>\n",
       "      <td>0.556</td>\n",
       "      <td>0.545</td>\n",
       "      <td>8</td>\n",
       "    </tr>\n",
       "    <tr>\n",
       "      <th>10-31-2013_2</th>\n",
       "      <td>0.652</td>\n",
       "      <td>0.587</td>\n",
       "      <td>2</td>\n",
       "    </tr>\n",
       "    <tr>\n",
       "      <th>10-31-2013_3</th>\n",
       "      <td>0.474</td>\n",
       "      <td>0.475</td>\n",
       "      <td>9</td>\n",
       "    </tr>\n",
       "    <tr>\n",
       "      <th>10-31-2013_4</th>\n",
       "      <td>0.588</td>\n",
       "      <td>0.575</td>\n",
       "      <td>9</td>\n",
       "    </tr>\n",
       "    <tr>\n",
       "      <th>12-25-2013_1</th>\n",
       "      <td>0.538</td>\n",
       "      <td>0.605</td>\n",
       "      <td>2</td>\n",
       "    </tr>\n",
       "  </tbody>\n",
       "</table>\n",
       "</div>"
      ],
      "text/plain": [
       "              REB_PCT  EFG_PCT  PTS_OFF_TOV\n",
       "PeriodID                                   \n",
       "10-31-2013_1    0.556    0.545            8\n",
       "10-31-2013_2    0.652    0.587            2\n",
       "10-31-2013_3    0.474    0.475            9\n",
       "10-31-2013_4    0.588    0.575            9\n",
       "12-25-2013_1    0.538    0.605            2"
      ]
     },
     "execution_count": 38,
     "metadata": {},
     "output_type": "execute_result"
    }
   ],
   "source": [
    "df1.head()"
   ]
  },
  {
   "cell_type": "code",
   "execution_count": 39,
   "metadata": {
    "_datascience": {},
    "collapsed": true
   },
   "outputs": [],
   "source": [
    "v = key_vars[0]"
   ]
  },
  {
   "cell_type": "code",
   "execution_count": 53,
   "metadata": {
    "_datascience": {},
    "collapsed": false
   },
   "outputs": [],
   "source": [
    "test_series = df1[v]"
   ]
  },
  {
   "cell_type": "code",
   "execution_count": 59,
   "metadata": {
    "_datascience": {},
    "collapsed": false
   },
   "outputs": [
    {
     "data": {
      "text/plain": [
       "PeriodID\n",
       "10-31-2013_1    0.556\n",
       "10-31-2013_2    0.652\n",
       "10-31-2013_3    0.474\n",
       "10-31-2013_4    0.588\n",
       "12-25-2013_1    0.538\n",
       "12-25-2013_2    0.318\n",
       "12-25-2013_3    0.474\n",
       "12-25-2013_4    0.400\n",
       "1-30-2014_1     0.409\n",
       "1-30-2014_2     0.385\n",
       "1-30-2014_3     0.231\n",
       "1-30-2014_4     0.538\n",
       "3-12-2014_1     0.545\n",
       "3-12-2014_2     0.524\n",
       "3-12-2014_3     0.600\n",
       "3-12-2014_4     0.636\n",
       "11-5-2014_1     0.364\n",
       "11-5-2014_2     0.417\n",
       "11-5-2014_3     0.333\n",
       "11-5-2014_4     0.565\n",
       "12-25-2014_1    0.571\n",
       "12-25-2014_2    0.542\n",
       "12-25-2014_3    0.467\n",
       "12-25-2014_4    0.519\n",
       "3-8-2015_1      0.684\n",
       "3-8-2015_2      0.318\n",
       "3-8-2015_3      0.588\n",
       "3-8-2015_4      0.500\n",
       "3-31-2015_1     0.560\n",
       "3-31-2015_2     0.522\n",
       "3-31-2015_3     0.368\n",
       "3-31-2015_4     0.471\n",
       "Name: REB_PCT, dtype: float64"
      ]
     },
     "execution_count": 59,
     "metadata": {},
     "output_type": "execute_result"
    }
   ],
   "source": [
    "test_series"
   ]
  },
  {
   "cell_type": "code",
   "execution_count": 60,
   "metadata": {
    "_datascience": {},
    "collapsed": false
   },
   "outputs": [
    {
     "ename": "TypeError",
     "evalue": "coercing to Unicode: need string or buffer, float found",
     "output_type": "error",
     "traceback": [
      "\u001b[1;31m---------------------------------------------------------------------------\u001b[0m",
      "\u001b[1;31mTypeError\u001b[0m                                 Traceback (most recent call last)",
      "\u001b[1;32m<ipython-input-60-34d56e54f420>\u001b[0m in \u001b[0;36m<module>\u001b[1;34m()\u001b[0m\n\u001b[1;32m----> 1\u001b[1;33m \u001b[0mtest_series\u001b[0m\u001b[1;33m.\u001b[0m\u001b[0mapply\u001b[0m\u001b[1;33m(\u001b[0m\u001b[0mx\u001b[0m\u001b[1;33m+\u001b[0m\u001b[1;36m1.0\u001b[0m\u001b[1;33m,\u001b[0m\u001b[0mx\u001b[0m\u001b[1;33m)\u001b[0m\u001b[1;33m\u001b[0m\u001b[0m\n\u001b[0m",
      "\u001b[1;31mTypeError\u001b[0m: coercing to Unicode: need string or buffer, float found"
     ]
    }
   ],
   "source": [
    "test_series.apply(x+1.0,x)"
   ]
  },
  {
   "cell_type": "code",
   "execution_count": 50,
   "metadata": {
    "_datascience": {},
    "collapsed": false
   },
   "outputs": [
    {
     "data": {
      "text/plain": [
       "0.48928125000000006"
      ]
     },
     "execution_count": 50,
     "metadata": {},
     "output_type": "execute_result"
    }
   ],
   "source": [
    "df1_norm = df1[v].mean(),df1[v].std()"
   ]
  },
  {
   "cell_type": "code",
   "execution_count": 46,
   "metadata": {
    "_datascience": {},
    "collapsed": false
   },
   "outputs": [],
   "source": [
    "def norm(x,mean,std):\n",
    "    \"\"\"Return normalized\n",
    "    \n",
    "    >>> norm(x,\n",
    "    \"\"\"\n",
    "    return((x - mean)/std )\n",
    "    \n"
   ]
  },
  {
   "cell_type": "code",
   "execution_count": 37,
   "metadata": {
    "_datascience": {},
    "collapsed": true
   },
   "outputs": [],
   "source": [
    "# Normalizer\n",
    "df1 = df[key_vars]"
   ]
  }
 ],
 "metadata": {
  "_datascience": {},
  "kernelspec": {
   "display_name": "Python 2",
   "language": "python",
   "name": "python2"
  },
  "language_info": {
   "codemirror_mode": {
    "name": "ipython",
    "version": 2
   },
   "file_extension": ".py",
   "mimetype": "text/x-python",
   "name": "python",
   "nbconvert_exporter": "python",
   "pygments_lexer": "ipython2",
   "version": "2.7.6"
  }
 },
 "nbformat": 4,
 "nbformat_minor": 0
}
